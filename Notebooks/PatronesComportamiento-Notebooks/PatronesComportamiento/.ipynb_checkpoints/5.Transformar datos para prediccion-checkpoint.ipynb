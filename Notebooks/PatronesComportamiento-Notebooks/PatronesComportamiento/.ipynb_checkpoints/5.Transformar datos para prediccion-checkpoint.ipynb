{
 "cells": [
  {
   "cell_type": "code",
   "execution_count": null,
   "metadata": {
    "colab": {
     "base_uri": "https://localhost:8080/"
    },
    "executionInfo": {
     "elapsed": 24294,
     "status": "ok",
     "timestamp": 1679338555286,
     "user": {
      "displayName": "Ana Conde",
      "userId": "00740142815161481389"
     },
     "user_tz": -60
    },
    "id": "SZhSClYvSbLh",
    "outputId": "3cfedc23-6fdf-48df-e9ff-18c395baecb4"
   },
   "outputs": [
    {
     "name": "stdout",
     "output_type": "stream",
     "text": [
      "Mounted at /content/gdrive\n"
     ]
    }
   ],
   "source": [
    "from google.colab import drive\n",
    "drive.mount('/content/gdrive')"
   ]
  },
  {
   "cell_type": "code",
   "execution_count": 1,
   "metadata": {
    "id": "NURMeSn4SpH4"
   },
   "outputs": [
    {
     "name": "stdout",
     "output_type": "stream",
     "text": [
      "/home/ana/Documentos/TFG/PatronesComportamiento/Notebooks/PatronesComportamiento-Notebooks/PatronesComportamiento\n"
     ]
    }
   ],
   "source": [
    "\n",
    "directory = '/content/gdrive/MyDrive/PatronesComportamiento/Ventanadeslizante'\n",
    "import pandas as pd\n",
    "import pickle\n",
    "from sklearn.model_selection import train_test_split\n",
    "from sklearn.model_selection import cross_val_score\n",
    "from sklearn import svm\n",
    "\n",
    "import os\n",
    "currentFile=os.path.abspath(os.getcwd())\n",
    "print(currentFile)\n",
    "inten=currentFile.split('PatronesComportamiento-Notebooks/')\n"
   ]
  },
  {
   "cell_type": "markdown",
   "metadata": {
    "id": "uoqFfZv6qCDT"
   },
   "source": [
    "Para la predicción querremos utilizar el método RandomForest entre otros de la librería SKlearn, para ello será ncesario un formateo de los datos. Convertiremos el problema de predicción en un problema de aprendizaje supervisado. Utilzando un ventana deslizante selecionaremos un número w de muestras que serán las predecesoras y tomaremos la muestra w+1 como consecuencia. La pregunta es: ¿por qué debemos tranformar los datos a este formato? Bien, los datos de los que dispnemos son series temporales con valores contínuos y lo que estamos buscando es una predicción de valores futuros. Los algoritmos que utilizaremos tanto RandomForest como SGBRERegresor funcionan de la siguiente forma: a partir de una x predice una y. Entonces, lo que estamos buscando es convertir nuestro problema de regresión en un problema de clasificación.\n",
    "\n"
   ]
  },
  {
   "cell_type": "markdown",
   "metadata": {
    "id": "rh9wRw_vbEuY"
   },
   "source": [
    "Como se muestra en el ejemplo de abajo tendremos que romar un conjunto de muestras de tamaño w, estas serán la x, después el elemento w+1 será la y, desplazamos la ventana una posición, ahora la ventana englobará la y de la ventana anterior, y repetiremos este proceso hasta haber recorrido toda la serie temporal o las series temporales. Para nuestro caso hemos querido trabajar con una serie temporal formada por todas las series temporales cronológicamente para a la hora de la predicción poder introducir vetanas que se encuentran entre los dos días y favorecer la continuidad en el tiempo.\n",
    "\n",
    "\n",
    "![](https://drive.google.com/uc?export=view&id=18CZ4r1Asxs78pPpcrswIyKj60cRvr4-m)\n"
   ]
  },
  {
   "cell_type": "markdown",
   "metadata": {
    "id": "RtpYKfTcU28t"
   },
   "source": [
    "Vamos a crear un método que dadas n series temporales las divida en m series temporales todas con una longitud w y un valor como consecuente."
   ]
  },
  {
   "cell_type": "code",
   "execution_count": 3,
   "metadata": {
    "colab": {
     "base_uri": "https://localhost:8080/"
    },
    "executionInfo": {
     "elapsed": 634,
     "status": "ok",
     "timestamp": 1677405818653,
     "user": {
      "displayName": "Ana Conde",
      "userId": "00740142815161481389"
     },
     "user_tz": -60
    },
    "id": "KEoUwSb-ZdHY",
    "outputId": "ec4c7334-e61d-4964-9802-3e7dac205d93"
   },
   "outputs": [
    {
     "name": "stdout",
     "output_type": "stream",
     "text": [
      "196021\n"
     ]
    }
   ],
   "source": [
    "with open(str(currentFile)+'/mySeriesInten.pkl', 'rb') as file:\n",
    "    timeSeries = pickle.load(file)\n",
    "\n",
    "with open(str(currentFile)+'/singleSerieInten.pkl', 'rb') as file:\n",
    "    singleSerie = pickle.load(file)\n",
    "\n",
    "print(len(singleSerie))\n",
    "\n",
    "\n"
   ]
  },
  {
   "cell_type": "code",
   "execution_count": 4,
   "metadata": {
    "id": "fBLBpD1cqd8P"
   },
   "outputs": [],
   "source": [
    "def spliting_timeseries(timeSerie,w,h):  #w amplitud de la ventana y h >1 si es multiobjetivo\n",
    "  X, y = [], []  #inicializamos los arrays que guardarán atributos y variable predicha\n",
    "  for i in range(len(timeSerie) - w): #bucle para iterar sobre todas las muestras de las series \n",
    "    X.append(timeSerie[i : i + w])  #cogemos desde el elemento en el que estamos hasta los w siguientes\n",
    "    y.append(timeSerie[i + w:i+w+h])  #aquí cogemos desde el w+1 hasta los h siguientes\n",
    "  return pd.DataFrame(X), pd.Series(y)\n",
    "\n",
    "\n",
    "\n",
    "\n",
    "\n"
   ]
  },
  {
   "cell_type": "markdown",
   "metadata": {
    "id": "YkWoFD3iUJ96"
   },
   "source": [
    "Probamos con los valores de w=3 y h=1 como primera prueba."
   ]
  },
  {
   "cell_type": "code",
   "execution_count": 5,
   "metadata": {
    "id": "nUg_MIR_eqLV"
   },
   "outputs": [],
   "source": [
    "cond,consec=[],[]\n",
    "x,y=spliting_timeseries(singleSerie,3,1) #llamo al método\n",
    "cond.append(x)  #lo añado a una lista de atributos\n",
    "consec.append(y)  # lo añado a una lista de variables predichas\n",
    "\n",
    "\n",
    "data_cond=pd.concat(cond)   #lo convierto en un dataframe de pandas\n",
    "data_consec=pd.concat(consec)   #lo convierto en un dataframe de pandas"
   ]
  },
  {
   "cell_type": "markdown",
   "metadata": {
    "id": "pki2LLOEiLR9"
   },
   "source": [
    "Y guardamos los datos con pickle para poder acceder a ellos desde otro notebook en cualquer momento."
   ]
  },
  {
   "cell_type": "code",
   "execution_count": 6,
   "metadata": {
    "colab": {
     "base_uri": "https://localhost:8080/"
    },
    "executionInfo": {
     "elapsed": 827,
     "status": "ok",
     "timestamp": 1677405845860,
     "user": {
      "displayName": "Ana Conde",
      "userId": "00740142815161481389"
     },
     "user_tz": -60
    },
    "id": "DTTqt-cOf4FB",
    "outputId": "233b0aee-3de9-4591-d0cb-9a95911a389c"
   },
   "outputs": [],
   "source": [
    "\n",
    "\n",
    "\n",
    "with open(str(currentFile)+'/dataCond.pkl', 'wb') as file:\n",
    "        pickle.dump(data_cond, file)\n",
    "with open(str(currentFile)+'dataConsec.pkl', 'wb') as file:\n",
    "        pickle.dump(data_consec, file)\n",
    "\n"
   ]
  },
  {
   "cell_type": "code",
   "execution_count": null,
   "metadata": {},
   "outputs": [],
   "source": []
  }
 ],
 "metadata": {
  "colab": {
   "authorship_tag": "ABX9TyMm9lcg8nmzT2+K1ZXjLTzv",
   "provenance": []
  },
  "kernelspec": {
   "display_name": "Python 3 (ipykernel)",
   "language": "python",
   "name": "python3"
  },
  "language_info": {
   "codemirror_mode": {
    "name": "ipython",
    "version": 3
   },
   "file_extension": ".py",
   "mimetype": "text/x-python",
   "name": "python",
   "nbconvert_exporter": "python",
   "pygments_lexer": "ipython3",
   "version": "3.8.10"
  }
 },
 "nbformat": 4,
 "nbformat_minor": 1
}
