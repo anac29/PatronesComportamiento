{
 "cells": [
  {
   "cell_type": "markdown",
   "metadata": {
    "id": "0DfOyISjLmsC"
   },
   "source": [
    "Para poder disponer de una línea base vamos a uilizar el modelo Arisa para predecir, y en base a lo conseguido podemos dictaminar que es lo mínimo que podemos conseguir."
   ]
  },
  {
   "cell_type": "code",
   "execution_count": null,
   "metadata": {
    "colab": {
     "base_uri": "https://localhost:8080/"
    },
    "executionInfo": {
     "elapsed": 24556,
     "status": "ok",
     "timestamp": 1682607072815,
     "user": {
      "displayName": "Ana Conde",
      "userId": "00740142815161481389"
     },
     "user_tz": -120
    },
    "id": "s7VK_iJXSq1-",
    "outputId": "ca0f699f-fa49-41ba-b90f-0113cc76e5ed"
   },
   "outputs": [
    {
     "name": "stdout",
     "output_type": "stream",
     "text": [
      "Mounted at /content/gdrive\n"
     ]
    }
   ],
   "source": [
    "from google.colab import drive\n",
    "\n",
    "drive.mount('/content/gdrive')"
   ]
  },
  {
   "cell_type": "code",
   "execution_count": 49,
   "metadata": {
    "colab": {
     "base_uri": "https://localhost:8080/"
    },
    "executionInfo": {
     "elapsed": 6579,
     "status": "ok",
     "timestamp": 1682609569611,
     "user": {
      "displayName": "Ana Conde",
      "userId": "00740142815161481389"
     },
     "user_tz": -120
    },
    "id": "Ns09EgrgFL2M",
    "outputId": "713da9f4-a150-4f5d-e8d0-d4bf0fe498d0"
   },
   "outputs": [
    {
     "name": "stdout",
     "output_type": "stream",
     "text": [
      "Defaulting to user installation because normal site-packages is not writeable\n",
      "Requirement already satisfied: pmdarima in /home/ana/.local/lib/python3.9/site-packages (2.0.3)\n",
      "Requirement already satisfied: joblib>=0.11 in /home/ana/.local/lib/python3.9/site-packages (from pmdarima) (1.2.0)\n",
      "Requirement already satisfied: Cython!=0.29.18,!=0.29.31,>=0.29 in /home/ana/.local/lib/python3.9/site-packages (from pmdarima) (0.29.34)\n",
      "Requirement already satisfied: numpy>=1.21.2 in /home/ana/.local/lib/python3.9/site-packages (from pmdarima) (1.24.2)\n",
      "Requirement already satisfied: pandas>=0.19 in /home/ana/.local/lib/python3.9/site-packages (from pmdarima) (2.0.1)\n",
      "Requirement already satisfied: scikit-learn>=0.22 in /home/ana/.local/lib/python3.9/site-packages (from pmdarima) (1.2.2)\n",
      "Requirement already satisfied: scipy>=1.3.2 in /home/ana/.local/lib/python3.9/site-packages (from pmdarima) (1.10.1)\n",
      "Requirement already satisfied: statsmodels>=0.13.2 in /home/ana/.local/lib/python3.9/site-packages (from pmdarima) (0.13.5)\n",
      "Requirement already satisfied: urllib3 in /home/ana/.local/lib/python3.9/site-packages (from pmdarima) (1.26.15)\n",
      "Requirement already satisfied: setuptools!=50.0.0,>=38.6.0 in /usr/local/lib/python3.9/site-packages (from pmdarima) (56.0.0)\n",
      "Requirement already satisfied: python-dateutil>=2.8.2 in /usr/local/lib/python3.9/site-packages (from pandas>=0.19->pmdarima) (2.8.2)\n",
      "Requirement already satisfied: pytz>=2020.1 in /home/ana/.local/lib/python3.9/site-packages (from pandas>=0.19->pmdarima) (2023.3)\n",
      "Requirement already satisfied: tzdata>=2022.1 in /home/ana/.local/lib/python3.9/site-packages (from pandas>=0.19->pmdarima) (2023.3)\n",
      "Requirement already satisfied: threadpoolctl>=2.0.0 in /home/ana/.local/lib/python3.9/site-packages (from scikit-learn>=0.22->pmdarima) (3.1.0)\n",
      "Requirement already satisfied: patsy>=0.5.2 in /home/ana/.local/lib/python3.9/site-packages (from statsmodels>=0.13.2->pmdarima) (0.5.3)\n",
      "Requirement already satisfied: packaging>=21.3 in /usr/local/lib/python3.9/site-packages (from statsmodels>=0.13.2->pmdarima) (23.0)\n",
      "Requirement already satisfied: six in /usr/local/lib/python3.9/site-packages (from patsy>=0.5.2->statsmodels>=0.13.2->pmdarima) (1.16.0)\n",
      "Defaulting to user installation because normal site-packages is not writeable\n",
      "Requirement already satisfied: pandas in /home/ana/.local/lib/python3.9/site-packages (2.0.1)\n",
      "Requirement already satisfied: python-dateutil>=2.8.2 in /usr/local/lib/python3.9/site-packages (from pandas) (2.8.2)\n",
      "Requirement already satisfied: pytz>=2020.1 in /home/ana/.local/lib/python3.9/site-packages (from pandas) (2023.3)\n",
      "Requirement already satisfied: tzdata>=2022.1 in /home/ana/.local/lib/python3.9/site-packages (from pandas) (2023.3)\n",
      "Requirement already satisfied: numpy>=1.20.3 in /home/ana/.local/lib/python3.9/site-packages (from pandas) (1.24.2)\n",
      "Requirement already satisfied: six>=1.5 in /usr/local/lib/python3.9/site-packages (from python-dateutil>=2.8.2->pandas) (1.16.0)\n"
     ]
    }
   ],
   "source": [
    "!pip install pmdarima\n",
    "!pip install pandas"
   ]
  },
  {
   "cell_type": "code",
   "execution_count": 54,
   "metadata": {},
   "outputs": [
    {
     "name": "stdout",
     "output_type": "stream",
     "text": [
      "Defaulting to user installation because normal site-packages is not writeable\n",
      "Collecting pandas==1.5.3\n",
      "  Downloading pandas-1.5.3-cp39-cp39-manylinux_2_17_x86_64.manylinux2014_x86_64.whl (12.2 MB)\n",
      "\u001b[2K     \u001b[38;2;114;156;31m━━━━━━━━━━━━━━━━━━━━━━━━━━━━━━━━━━━━━━━━\u001b[0m \u001b[32m12.2/12.2 MB\u001b[0m \u001b[31m44.5 MB/s\u001b[0m eta \u001b[36m0:00:00\u001b[0mm eta \u001b[36m0:00:01\u001b[0m:01\u001b[0m\n",
      "\u001b[?25hRequirement already satisfied: python-dateutil>=2.8.1 in /usr/local/lib/python3.9/site-packages (from pandas==1.5.3) (2.8.2)\n",
      "Requirement already satisfied: pytz>=2020.1 in /home/ana/.local/lib/python3.9/site-packages (from pandas==1.5.3) (2023.3)\n",
      "Requirement already satisfied: numpy>=1.20.3 in /home/ana/.local/lib/python3.9/site-packages (from pandas==1.5.3) (1.24.2)\n",
      "Requirement already satisfied: six>=1.5 in /usr/local/lib/python3.9/site-packages (from python-dateutil>=2.8.1->pandas==1.5.3) (1.16.0)\n",
      "Installing collected packages: pandas\n",
      "  Attempting uninstall: pandas\n",
      "    Found existing installation: pandas 2.0.1\n",
      "    Uninstalling pandas-2.0.1:\n",
      "      Successfully uninstalled pandas-2.0.1\n",
      "Successfully installed pandas-1.5.3\n",
      "Defaulting to user installation because normal site-packages is not writeable\n",
      "Requirement already satisfied: pip in /home/ana/.local/lib/python3.9/site-packages (23.1.2)\n"
     ]
    }
   ],
   "source": [
    "!pip install  pandas==1.5.3\n",
    "!pip install --upgrade pip"
   ]
  },
  {
   "cell_type": "code",
   "execution_count": 55,
   "metadata": {
    "id": "1yvsn7FRS2ST"
   },
   "outputs": [],
   "source": [
    "import pickle\n",
    "import statsmodels.api as sm\n",
    "import numpy as np\n",
    "import pandas as pd\n",
    "from statsmodels.tsa.arima.model import ARIMA\n",
    "from pmdarima.arima import auto_arima\n",
    "import pandas.core.indexes as i\n",
    "\n"
   ]
  },
  {
   "cell_type": "code",
   "execution_count": 56,
   "metadata": {},
   "outputs": [
    {
     "name": "stdout",
     "output_type": "stream",
     "text": [
      "getcwd:       /home/ana/Documentos/GitHub/PatronesComportamiento/Notebooks/PatronesComportamiento-Notebooks/PatronesComportamiento\n"
     ]
    }
   ],
   "source": [
    "import os\n",
    "\n",
    "print('getcwd:      ', os.getcwd())"
   ]
  },
  {
   "cell_type": "code",
   "execution_count": 60,
   "metadata": {
    "id": "DDzl2DxiL5RB"
   },
   "outputs": [],
   "source": [
    "\n",
    "lista=[1,2,3]\n",
    "with open('/home/ana/Documentos/GitHub/PatronesComportamiento/Notebooks/PatronesComportamiento-Notebooks/PatronesComportamiento/ejemplo.pkl', 'wb') as file:\n",
    "        pickle.dump(lista,file)\n",
    "        \n",
    "with open('/home/ana/Documentos/GitHub/PatronesComportamiento/Notebooks/PatronesComportamiento-Notebooks/PatronesComportamiento/ejemplo.pkl', 'rb') as file:\n",
    "        fich=pickle.load(file)\n",
    "\n",
    "\n",
    "with open('/home/ana/Documentos/GitHub/PatronesComportamiento/Notebooks/PatronesComportamiento-Notebooks/PatronesComportamiento/trainingX.pkl', 'rb') as file:\n",
    "        X_train=pickle.load(file)\n",
    "with open('/home/ana/Documentos/GitHub/PatronesComportamiento/Notebooks/PatronesComportamiento-Notebooks/PatronesComportamiento/trainingy.pkl', 'rb') as file:\n",
    "        y_train=pickle.load(file)\n",
    "with open('/home/ana/Documentos/GitHub/PatronesComportamiento/Notebooks/PatronesComportamiento-Notebooks/PatronesComportamiento/testX.pkl', 'rb') as file:\n",
    "        X_test=pickle.load(file)\n",
    "with open('/home/ana/Documentos/GitHub/PatronesComportamiento/Notebooks/PatronesComportamiento-Notebooks/PatronesComportamiento/testy.pkl', 'rb') as file:\n",
    "        y_test=pickle.load(file)\n",
    "with open('/home/ana/Documentos/GitHub/PatronesComportamiento/Notebooks/PatronesComportamiento-Notebooks/PatronesComportamiento/validateX.pkl', 'rb') as file:\n",
    "        X_val=pickle.load(file)\n",
    "with open('/home/ana/Documentos/GitHub/PatronesComportamiento/Notebooks/PatronesComportamiento-Notebooks/PatronesComportamiento/validatey.pkl', 'rb') as file:\n",
    "        y_val=pickle.load(file)\n",
    "\n",
    "\n",
    "with open('/home/ana/Documentos/GitHub/PatronesComportamiento/Notebooks/PatronesComportamiento-Notebooks/PatronesComportamiento/mySeriesInten.pkl', 'rb') as file:\n",
    "        mySeries=pickle.load(file)\n"
   ]
  },
  {
   "cell_type": "code",
   "execution_count": 62,
   "metadata": {
    "colab": {
     "base_uri": "https://localhost:8080/",
     "height": 1000
    },
    "executionInfo": {
     "elapsed": 1982,
     "status": "ok",
     "timestamp": 1682609125810,
     "user": {
      "displayName": "Ana Conde",
      "userId": "00740142815161481389"
     },
     "user_tz": -120
    },
    "id": "LEsJkroeSXcG",
    "outputId": "da4118c4-1bc3-4204-9979-1e7ca9104a1b"
   },
   "outputs": [
    {
     "name": "stdout",
     "output_type": "stream",
     "text": [
      "8\n"
     ]
    },
    {
     "ename": "AttributeError",
     "evalue": "'DataFrame' object has no attribute '_convert'",
     "output_type": "error",
     "traceback": [
      "\u001b[0;31m---------------------------------------------------------------------------\u001b[0m",
      "\u001b[0;31mAttributeError\u001b[0m                            Traceback (most recent call last)",
      "Cell \u001b[0;32mIn[62], line 19\u001b[0m\n\u001b[1;32m     17\u001b[0m \u001b[38;5;28mprint\u001b[39m(\u001b[38;5;28mlen\u001b[39m(forecast))\n\u001b[1;32m     18\u001b[0m df[\u001b[38;5;124m'\u001b[39m\u001b[38;5;124mforecast\u001b[39m\u001b[38;5;124m'\u001b[39m] \u001b[38;5;241m=\u001b[39m np\u001b[38;5;241m.\u001b[39mconcatenate((intent, forecast))\n\u001b[0;32m---> 19\u001b[0m \u001b[43mdf\u001b[49m\u001b[43m[\u001b[49m\u001b[43m[\u001b[49m\u001b[38;5;124;43m'\u001b[39;49m\u001b[38;5;124;43mforecast\u001b[39;49m\u001b[38;5;124;43m'\u001b[39;49m\u001b[43m,\u001b[49m\u001b[38;5;124;43m'\u001b[39;49m\u001b[38;5;124;43mintensity\u001b[39;49m\u001b[38;5;124;43m'\u001b[39;49m\u001b[43m]\u001b[49m\u001b[43m]\u001b[49m\u001b[38;5;241;43m.\u001b[39;49m\u001b[43mplot\u001b[49m\u001b[43m(\u001b[49m\u001b[43mfigsize\u001b[49m\u001b[38;5;241;43m=\u001b[39;49m\u001b[43m(\u001b[49m\u001b[38;5;241;43m12\u001b[39;49m\u001b[43m,\u001b[49m\u001b[38;5;241;43m8\u001b[39;49m\u001b[43m)\u001b[49m\u001b[43m)\u001b[49m\n\u001b[1;32m     22\u001b[0m \u001b[38;5;28mprint\u001b[39m(\u001b[38;5;124m\"\u001b[39m\u001b[38;5;124m----\u001b[39m\u001b[38;5;124m\"\u001b[39m,model\u001b[38;5;241m.\u001b[39msummary())\n",
      "File \u001b[0;32m~/.local/lib/python3.9/site-packages/pandas/plotting/_core.py:975\u001b[0m, in \u001b[0;36m__call__\u001b[0;34m(self, *args, **kwargs)\u001b[0m\n\u001b[1;32m    972\u001b[0m \u001b[38;5;28;01mif\u001b[39;00m int_y_arg \u001b[38;5;129;01mand\u001b[39;00m \u001b[38;5;129;01mnot\u001b[39;00m data\u001b[38;5;241m.\u001b[39mcolumns\u001b[38;5;241m.\u001b[39mholds_integer():\n\u001b[1;32m    973\u001b[0m     y \u001b[38;5;241m=\u001b[39m data_cols[y]\n\u001b[0;32m--> 975\u001b[0m label_kw \u001b[38;5;241m=\u001b[39m kwargs[\u001b[38;5;124m\"\u001b[39m\u001b[38;5;124mlabel\u001b[39m\u001b[38;5;124m\"\u001b[39m] \u001b[38;5;28;01mif\u001b[39;00m \u001b[38;5;124m\"\u001b[39m\u001b[38;5;124mlabel\u001b[39m\u001b[38;5;124m\"\u001b[39m \u001b[38;5;129;01min\u001b[39;00m kwargs \u001b[38;5;28;01melse\u001b[39;00m \u001b[38;5;28;01mFalse\u001b[39;00m\n\u001b[1;32m    976\u001b[0m \u001b[38;5;28;01mfor\u001b[39;00m kw \u001b[38;5;129;01min\u001b[39;00m [\u001b[38;5;124m\"\u001b[39m\u001b[38;5;124mxerr\u001b[39m\u001b[38;5;124m\"\u001b[39m, \u001b[38;5;124m\"\u001b[39m\u001b[38;5;124myerr\u001b[39m\u001b[38;5;124m\"\u001b[39m]:\n\u001b[1;32m    977\u001b[0m     \u001b[38;5;28;01mif\u001b[39;00m kw \u001b[38;5;129;01min\u001b[39;00m kwargs \u001b[38;5;129;01mand\u001b[39;00m (\n\u001b[1;32m    978\u001b[0m         \u001b[38;5;28misinstance\u001b[39m(kwargs[kw], \u001b[38;5;28mstr\u001b[39m) \u001b[38;5;129;01mor\u001b[39;00m is_integer(kwargs[kw])\n\u001b[1;32m    979\u001b[0m     ):\n",
      "File \u001b[0;32m~/.local/lib/python3.9/site-packages/pandas/plotting/_matplotlib/__init__.py:71\u001b[0m, in \u001b[0;36mplot\u001b[0;34m(data, kind, **kwargs)\u001b[0m\n\u001b[1;32m     69\u001b[0m         kwargs[\u001b[38;5;124m\"\u001b[39m\u001b[38;5;124max\u001b[39m\u001b[38;5;124m\"\u001b[39m] \u001b[38;5;241m=\u001b[39m \u001b[38;5;28mgetattr\u001b[39m(ax, \u001b[38;5;124m\"\u001b[39m\u001b[38;5;124mleft_ax\u001b[39m\u001b[38;5;124m\"\u001b[39m, ax)\n\u001b[1;32m     70\u001b[0m plot_obj \u001b[38;5;241m=\u001b[39m PLOT_CLASSES[kind](data, \u001b[38;5;241m*\u001b[39m\u001b[38;5;241m*\u001b[39mkwargs)\n\u001b[0;32m---> 71\u001b[0m \u001b[43mplot_obj\u001b[49m\u001b[38;5;241;43m.\u001b[39;49m\u001b[43mgenerate\u001b[49m\u001b[43m(\u001b[49m\u001b[43m)\u001b[49m\n\u001b[1;32m     72\u001b[0m plot_obj\u001b[38;5;241m.\u001b[39mdraw()\n\u001b[1;32m     73\u001b[0m \u001b[38;5;28;01mreturn\u001b[39;00m plot_obj\u001b[38;5;241m.\u001b[39mresult\n",
      "File \u001b[0;32m~/.local/lib/python3.9/site-packages/pandas/plotting/_matplotlib/core.py:450\u001b[0m, in \u001b[0;36mMPLPlot.generate\u001b[0;34m(self)\u001b[0m\n\u001b[1;32m    448\u001b[0m \u001b[38;5;28;01mdef\u001b[39;00m \u001b[38;5;21mgenerate\u001b[39m(\u001b[38;5;28mself\u001b[39m) \u001b[38;5;241m-\u001b[39m\u001b[38;5;241m>\u001b[39m \u001b[38;5;28;01mNone\u001b[39;00m:\n\u001b[1;32m    449\u001b[0m     \u001b[38;5;28mself\u001b[39m\u001b[38;5;241m.\u001b[39m_args_adjust()\n\u001b[0;32m--> 450\u001b[0m     \u001b[38;5;28;43mself\u001b[39;49m\u001b[38;5;241;43m.\u001b[39;49m\u001b[43m_compute_plot_data\u001b[49m\u001b[43m(\u001b[49m\u001b[43m)\u001b[49m\n\u001b[1;32m    451\u001b[0m     \u001b[38;5;28mself\u001b[39m\u001b[38;5;241m.\u001b[39m_setup_subplots()\n\u001b[1;32m    452\u001b[0m     \u001b[38;5;28mself\u001b[39m\u001b[38;5;241m.\u001b[39m_make_plot()\n",
      "File \u001b[0;32m~/.local/lib/python3.9/site-packages/pandas/plotting/_matplotlib/core.py:608\u001b[0m, in \u001b[0;36mMPLPlot._compute_plot_data\u001b[0;34m(self)\u001b[0m\n\u001b[1;32m    604\u001b[0m     data \u001b[38;5;241m=\u001b[39m reconstruct_data_with_by(\u001b[38;5;28mself\u001b[39m\u001b[38;5;241m.\u001b[39mdata, by\u001b[38;5;241m=\u001b[39m\u001b[38;5;28mself\u001b[39m\u001b[38;5;241m.\u001b[39mby, cols\u001b[38;5;241m=\u001b[39m\u001b[38;5;28mself\u001b[39m\u001b[38;5;241m.\u001b[39mcolumns)\n\u001b[1;32m    606\u001b[0m \u001b[38;5;66;03m# GH16953, _convert is needed as fallback, for ``Series``\u001b[39;00m\n\u001b[1;32m    607\u001b[0m \u001b[38;5;66;03m# with ``dtype == object``\u001b[39;00m\n\u001b[0;32m--> 608\u001b[0m data \u001b[38;5;241m=\u001b[39m \u001b[43mdata\u001b[49m\u001b[38;5;241;43m.\u001b[39;49m\u001b[43m_convert\u001b[49m(datetime\u001b[38;5;241m=\u001b[39m\u001b[38;5;28;01mTrue\u001b[39;00m, timedelta\u001b[38;5;241m=\u001b[39m\u001b[38;5;28;01mTrue\u001b[39;00m)\n\u001b[1;32m    609\u001b[0m include_type \u001b[38;5;241m=\u001b[39m [np\u001b[38;5;241m.\u001b[39mnumber, \u001b[38;5;124m\"\u001b[39m\u001b[38;5;124mdatetime\u001b[39m\u001b[38;5;124m\"\u001b[39m, \u001b[38;5;124m\"\u001b[39m\u001b[38;5;124mdatetimetz\u001b[39m\u001b[38;5;124m\"\u001b[39m, \u001b[38;5;124m\"\u001b[39m\u001b[38;5;124mtimedelta\u001b[39m\u001b[38;5;124m\"\u001b[39m]\n\u001b[1;32m    611\u001b[0m \u001b[38;5;66;03m# GH23719, allow plotting boolean\u001b[39;00m\n",
      "File \u001b[0;32m~/.local/lib/python3.9/site-packages/pandas/core/generic.py:5989\u001b[0m, in \u001b[0;36m__getattr__\u001b[0;34m(self, name)\u001b[0m\n\u001b[1;32m   5982\u001b[0m \u001b[38;5;129m@final\u001b[39m\n\u001b[1;32m   5983\u001b[0m \u001b[38;5;28;01mdef\u001b[39;00m \u001b[38;5;21m_consolidate\u001b[39m(\u001b[38;5;28mself\u001b[39m):\n\u001b[1;32m   5984\u001b[0m \u001b[38;5;250m    \u001b[39m\u001b[38;5;124;03m\"\"\"\u001b[39;00m\n\u001b[1;32m   5985\u001b[0m \u001b[38;5;124;03m    Compute NDFrame with \"consolidated\" internals (data of each dtype\u001b[39;00m\n\u001b[1;32m   5986\u001b[0m \u001b[38;5;124;03m    grouped together in a single ndarray).\u001b[39;00m\n\u001b[1;32m   5987\u001b[0m \n\u001b[1;32m   5988\u001b[0m \u001b[38;5;124;03m    Returns\u001b[39;00m\n\u001b[0;32m-> 5989\u001b[0m \u001b[38;5;124;03m    -------\u001b[39;00m\n\u001b[1;32m   5990\u001b[0m \u001b[38;5;124;03m    consolidated : same type as caller\u001b[39;00m\n\u001b[1;32m   5991\u001b[0m \u001b[38;5;124;03m    \"\"\"\u001b[39;00m\n\u001b[1;32m   5992\u001b[0m     f \u001b[38;5;241m=\u001b[39m \u001b[38;5;28;01mlambda\u001b[39;00m: \u001b[38;5;28mself\u001b[39m\u001b[38;5;241m.\u001b[39m_mgr\u001b[38;5;241m.\u001b[39mconsolidate()\n\u001b[1;32m   5993\u001b[0m     cons_data \u001b[38;5;241m=\u001b[39m \u001b[38;5;28mself\u001b[39m\u001b[38;5;241m.\u001b[39m_protect_consolidate(f)\n",
      "\u001b[0;31mAttributeError\u001b[0m: 'DataFrame' object has no attribute '_convert'"
     ]
    }
   ],
   "source": [
    "import warnings\n",
    "warnings.filterwarnings('ignore', 'statsmodels.tsa.arima_model.ARMA',\n",
    "                        FutureWarning)\n",
    "warnings.filterwarnings('ignore', 'statsmodels.tsa.arima_model.ARIMA',\n",
    "                        FutureWarning)\n",
    "\n",
    "start=280\n",
    "end=287\n",
    "arima_model= ARIMA(mySeries[7],order=(1,1,2))\n",
    "model=arima_model.fit()\n",
    "#model.plot_predict(dynamic=False)\n",
    "df=pd.DataFrame()\n",
    "array_of_zeros=np.zeros(287-14)\n",
    "df['intensity']=np.array(mySeries[7])\n",
    "intent=np.array(mySeries[7][:end-(end-start+1)])\n",
    "forecast = model.predict(start=start,end=end,dynamic=True)\n",
    "print(len(forecast))\n",
    "df['forecast'] = np.concatenate((intent, forecast))\n",
    "df[['forecast','intensity']].plot(figsize=(12,8))\n",
    "\n",
    "\n",
    "print(\"----\",model.summary())"
   ]
  },
  {
   "cell_type": "markdown",
   "metadata": {
    "id": "idcoT7nKKmgn"
   },
   "source": [
    "Ahra vamos a predecir para distintas ventanas. Para este modelo vamos a entrenarlo con las series de entrenamiento y posteriormente calcular para las series de validación sus erorres."
   ]
  },
  {
   "cell_type": "code",
   "execution_count": 64,
   "metadata": {
    "id": "dp5r7q9QKl_4"
   },
   "outputs": [],
   "source": [
    "with open('/home/ana/Documentos/GitHub/PatronesComportamiento/Notebooks/PatronesComportamiento-Notebooks/PatronesComportamiento/singleSerieIntenTrT.pkl', 'rb') as file:\n",
    "    singleSerieTrT = pickle.load(file)\n",
    "\n",
    "\n",
    "with open('/home/ana/Documentos/GitHub/PatronesComportamiento/Notebooks/PatronesComportamiento-Notebooks/PatronesComportamiento/singleSerieIntenValit.pkl', 'rb') as file:\n",
    "    singleSerieValit= pickle.load(file)\n",
    "\n",
    "\n",
    "    \n",
    "with open('/home/ana/Documentos/GitHub/PatronesComportamiento/Notebooks/PatronesComportamiento-Notebooks/PatronesComportamiento/singleSerieInten.pkl', 'rb') as file:\n",
    "        singleSerie=pickle.load(file)"
   ]
  },
  {
   "cell_type": "code",
   "execution_count": 65,
   "metadata": {
    "id": "EiZx8t7rqqXJ"
   },
   "outputs": [],
   "source": [
    "def spliting_timeseries(timeSerie,w,h):  #w amplitud de la ventana y h >1 si es multiobjetivo\n",
    "  X, y = [], []  #inicializamos los arrays que guardarán atributos y variable predicha\n",
    "  for i in range(len(timeSerie) - w): #bucle para iterar sobre todas las muestras de las series \n",
    "    X.append(timeSerie[i : i + w+h])  #cogemos desde el elemento en el que estamos hasta los w siguientes\n",
    "    y.append(timeSerie[i + w:i+w+h])  #aquí cogemos desde el w+1 hasta los h siguientes\n",
    "  return pd.DataFrame(X), pd.Series(y),X,y"
   ]
  },
  {
   "cell_type": "code",
   "execution_count": null,
   "metadata": {
    "colab": {
     "base_uri": "https://localhost:8080/",
     "height": 1000
    },
    "executionInfo": {
     "elapsed": 21073,
     "status": "error",
     "timestamp": 1682629218389,
     "user": {
      "displayName": "Ana Conde",
      "userId": "00740142815161481389"
     },
     "user_tz": -120
    },
    "id": "E_q4jeFhPuKj",
    "outputId": "b5278a99-2ff8-4cc7-8b7f-acf936bd08c4"
   },
   "outputs": [],
   "source": [
    "from sklearn.metrics import mean_squared_error\n",
    "\n",
    "sizes=[288]\n",
    "#10,20,30,40,50,70,90,110,140,170,200,230,260,288]\n",
    "metrics=[]\n",
    "h=1\n",
    "for w in sizes:\n",
    "  print(\"Ventana de tamaño \", w)\n",
    "  data_x,data_y,x,y=spliting_timeseries(singleSerieValit,w,h)\n",
    "  error=[]\n",
    "  for j in range(len(x)):\n",
    "    print(\"========================================================================\")\n",
    "    start=w\n",
    "    end=w+h\n",
    "    #arima_model=  ARIMA(x[j],order=(1,1,2))\n",
    "    model = auto_arima(x[j], start_p=1, start_q=1,\n",
    "                   max_p=5, max_q=5, m=12,\n",
    "                   start_P=0, seasonal=True,\n",
    "                   d=None, D=0, trace=True,\n",
    "                   error_action='ignore',\n",
    "                   suppress_warnings=True,\n",
    "                   stepwise=True)\n",
    "\n",
    "  # Ajustar el modelo ARIMA con los mejores parámetros\n",
    "    orders=model.to_dict()['order']\n",
    "    arima_model=  ARIMA(x[j],order=orders)\n",
    "\n",
    "    model=arima_model.fit()\n",
    "    df=pd.DataFrame()\n",
    "    intent=np.array(x[j][:end-(end-start+1)])\n",
    "    forecast = model.predict(start=start,end=end-1,dynamic=True)\n",
    "    error.append(forecast)\n",
    "  \n",
    "    metrics.append([w,h,mean_squared_error(y[j],error[0])])\n",
    "dfMetrics288 = pd.DataFrame(np.array(metrics),\n",
    "                   columns=['w','h','mean'])\n",
    "\n",
    "with open('/home/ana/Documentos/GitHub/PatronesComportamiento/Notebooks/PatronesComportamiento-Notebooks/PatronesComportamiento/dftMetricsArima'+str(w)+'.pkl', 'wb') as file:\n",
    "    pickle.dump(dfMetrics255,file)\n",
    "  "
   ]
  },
  {
   "cell_type": "code",
   "execution_count": null,
   "metadata": {
    "colab": {
     "base_uri": "https://localhost:8080/"
    },
    "executionInfo": {
     "elapsed": 995,
     "status": "ok",
     "timestamp": 1682628963288,
     "user": {
      "displayName": "Ana Conde",
      "userId": "00740142815161481389"
     },
     "user_tz": -120
    },
    "id": "6tzy7Xm1f6Um",
    "outputId": "a25a908c-82f0-4384-9f46-52bfd26015ab"
   },
   "outputs": [],
   "source": [
    "len(error)"
   ]
  },
  {
   "cell_type": "code",
   "execution_count": 79,
   "metadata": {
    "id": "wOjhO9Da1xZX"
   },
   "outputs": [
    {
     "ename": "NameError",
     "evalue": "name 'dfMetrics' is not defined",
     "output_type": "error",
     "traceback": [
      "\u001b[0;31m---------------------------------------------------------------------------\u001b[0m",
      "\u001b[0;31mNameError\u001b[0m                                 Traceback (most recent call last)",
      "Cell \u001b[0;32mIn[79], line 2\u001b[0m\n\u001b[1;32m      1\u001b[0m \u001b[38;5;28;01mwith\u001b[39;00m \u001b[38;5;28mopen\u001b[39m(\u001b[38;5;124m'\u001b[39m\u001b[38;5;124m/home/ana/Documentos/GitHub/PatronesComportamiento/Notebooks/PatronesComportamiento-Notebooks/PatronesComportamiento/dftMetricsArima.pkl\u001b[39m\u001b[38;5;124m'\u001b[39m, \u001b[38;5;124m'\u001b[39m\u001b[38;5;124mwb\u001b[39m\u001b[38;5;124m'\u001b[39m) \u001b[38;5;28;01mas\u001b[39;00m file:\n\u001b[0;32m----> 2\u001b[0m     pickle\u001b[38;5;241m.\u001b[39mdump(\u001b[43mdfMetrics\u001b[49m,file)\n",
      "\u001b[0;31mNameError\u001b[0m: name 'dfMetrics' is not defined"
     ]
    }
   ],
   "source": [
    "\n"
   ]
  },
  {
   "cell_type": "code",
   "execution_count": 76,
   "metadata": {
    "colab": {
     "base_uri": "https://localhost:8080/",
     "height": 1000
    },
    "executionInfo": {
     "elapsed": 17938,
     "status": "error",
     "timestamp": 1682611221194,
     "user": {
      "displayName": "Ana Conde",
      "userId": "00740142815161481389"
     },
     "user_tz": -120
    },
    "id": "jIEuHPxve7P4",
    "outputId": "7276852d-eb87-4dd7-a926-3681837b2976"
   },
   "outputs": [
    {
     "name": "stdout",
     "output_type": "stream",
     "text": [
      "Ventana de tamaño  288\n",
      "Performing stepwise search to minimize aic\n",
      " ARIMA(1,1,1)(0,0,1)[12] intercept   : AIC=847.458, Time=0.62 sec\n",
      " ARIMA(0,1,0)(0,0,0)[12] intercept   : AIC=898.534, Time=0.02 sec\n",
      " ARIMA(1,1,0)(1,0,0)[12] intercept   : AIC=855.970, Time=0.19 sec\n",
      " ARIMA(0,1,1)(0,0,1)[12] intercept   : AIC=862.953, Time=0.35 sec\n",
      " ARIMA(0,1,0)(0,0,0)[12]             : AIC=896.619, Time=0.02 sec\n",
      " ARIMA(1,1,1)(0,0,0)[12] intercept   : AIC=874.124, Time=0.14 sec\n",
      " ARIMA(1,1,1)(1,0,1)[12] intercept   : AIC=835.832, Time=0.88 sec\n",
      " ARIMA(1,1,1)(1,0,0)[12] intercept   : AIC=839.896, Time=0.48 sec\n",
      " ARIMA(1,1,1)(2,0,1)[12] intercept   : AIC=837.018, Time=3.33 sec\n",
      " ARIMA(1,1,1)(1,0,2)[12] intercept   : AIC=836.977, Time=3.58 sec\n",
      " ARIMA(1,1,1)(0,0,2)[12] intercept   : AIC=843.478, Time=1.19 sec\n",
      " ARIMA(1,1,1)(2,0,0)[12] intercept   : AIC=838.453, Time=1.24 sec\n",
      " ARIMA(1,1,1)(2,0,2)[12] intercept   : AIC=inf, Time=4.41 sec\n",
      " ARIMA(0,1,1)(1,0,1)[12] intercept   : AIC=858.299, Time=0.40 sec\n",
      " ARIMA(1,1,0)(1,0,1)[12] intercept   : AIC=856.433, Time=0.51 sec\n",
      " ARIMA(2,1,1)(1,0,1)[12] intercept   : AIC=833.701, Time=1.16 sec\n",
      " ARIMA(2,1,1)(0,0,1)[12] intercept   : AIC=848.093, Time=0.88 sec\n",
      " ARIMA(2,1,1)(1,0,0)[12] intercept   : AIC=838.894, Time=0.67 sec\n",
      " ARIMA(2,1,1)(2,0,1)[12] intercept   : AIC=835.235, Time=3.20 sec\n",
      " ARIMA(2,1,1)(1,0,2)[12] intercept   : AIC=835.220, Time=2.63 sec\n",
      " ARIMA(2,1,1)(0,0,0)[12] intercept   : AIC=877.958, Time=0.10 sec\n",
      " ARIMA(2,1,1)(0,0,2)[12] intercept   : AIC=842.431, Time=1.46 sec\n",
      " ARIMA(2,1,1)(2,0,0)[12] intercept   : AIC=836.277, Time=1.59 sec\n",
      " ARIMA(2,1,1)(2,0,2)[12] intercept   : AIC=836.617, Time=5.27 sec\n",
      " ARIMA(2,1,0)(1,0,1)[12] intercept   : AIC=839.559, Time=0.50 sec\n",
      " ARIMA(3,1,1)(1,0,1)[12] intercept   : AIC=839.227, Time=1.18 sec\n",
      " ARIMA(2,1,2)(1,0,1)[12] intercept   : AIC=835.310, Time=1.31 sec\n",
      " ARIMA(1,1,2)(1,0,1)[12] intercept   : AIC=834.262, Time=1.51 sec\n",
      " ARIMA(3,1,0)(1,0,1)[12] intercept   : AIC=837.807, Time=0.58 sec\n",
      " ARIMA(3,1,2)(1,0,1)[12] intercept   : AIC=837.142, Time=2.03 sec\n",
      " ARIMA(2,1,1)(1,0,1)[12]             : AIC=831.704, Time=0.55 sec\n",
      " ARIMA(2,1,1)(0,0,1)[12]             : AIC=846.093, Time=0.45 sec\n",
      " ARIMA(2,1,1)(1,0,0)[12]             : AIC=836.894, Time=0.33 sec\n",
      " ARIMA(2,1,1)(2,0,1)[12]             : AIC=833.239, Time=1.71 sec\n",
      " ARIMA(2,1,1)(1,0,2)[12]             : AIC=833.224, Time=1.72 sec\n",
      " ARIMA(2,1,1)(0,0,0)[12]             : AIC=875.977, Time=0.12 sec\n",
      " ARIMA(2,1,1)(0,0,2)[12]             : AIC=840.432, Time=0.97 sec\n",
      " ARIMA(2,1,1)(2,0,0)[12]             : AIC=834.279, Time=0.64 sec\n",
      " ARIMA(2,1,1)(2,0,2)[12]             : AIC=inf, Time=3.80 sec\n",
      " ARIMA(1,1,1)(1,0,1)[12]             : AIC=833.837, Time=0.41 sec\n",
      " ARIMA(2,1,0)(1,0,1)[12]             : AIC=837.583, Time=0.31 sec\n",
      " ARIMA(3,1,1)(1,0,1)[12]             : AIC=837.242, Time=0.76 sec\n",
      " ARIMA(2,1,2)(1,0,1)[12]             : AIC=833.314, Time=0.71 sec\n",
      " ARIMA(1,1,0)(1,0,1)[12]             : AIC=854.489, Time=0.18 sec\n",
      " ARIMA(1,1,2)(1,0,1)[12]             : AIC=832.266, Time=0.85 sec\n",
      " ARIMA(3,1,0)(1,0,1)[12]             : AIC=835.820, Time=0.35 sec\n",
      " ARIMA(3,1,2)(1,0,1)[12]             : AIC=inf, Time=1.69 sec\n",
      "\n",
      "Best model:  ARIMA(2,1,1)(1,0,1)[12]          \n",
      "Total fit time: 57.040 seconds\n",
      "Ventana de tamaño  288\n",
      "Performing stepwise search to minimize aic\n",
      " ARIMA(1,1,1)(0,0,1)[12] intercept   : AIC=1639.962, Time=0.83 sec\n",
      " ARIMA(0,1,0)(0,0,0)[12] intercept   : AIC=1751.465, Time=0.03 sec\n",
      " ARIMA(1,1,0)(1,0,0)[12] intercept   : AIC=1659.847, Time=0.36 sec\n",
      " ARIMA(0,1,1)(0,0,1)[12] intercept   : AIC=1671.230, Time=0.40 sec\n",
      " ARIMA(0,1,0)(0,0,0)[12]             : AIC=1749.527, Time=0.03 sec\n",
      " ARIMA(1,1,1)(0,0,0)[12] intercept   : AIC=1703.000, Time=0.16 sec\n",
      " ARIMA(1,1,1)(1,0,1)[12] intercept   : AIC=1623.349, Time=2.03 sec\n",
      " ARIMA(1,1,1)(1,0,0)[12] intercept   : AIC=1627.028, Time=0.81 sec\n",
      " ARIMA(1,1,1)(2,0,1)[12] intercept   : AIC=inf, Time=7.17 sec\n",
      " ARIMA(1,1,1)(1,0,2)[12] intercept   : AIC=1616.568, Time=8.83 sec\n",
      " ARIMA(1,1,1)(0,0,2)[12] intercept   : AIC=1633.478, Time=2.21 sec\n",
      " ARIMA(1,1,1)(2,0,2)[12] intercept   : AIC=1618.939, Time=8.27 sec\n",
      " ARIMA(0,1,1)(1,0,2)[12] intercept   : AIC=1658.361, Time=3.05 sec\n",
      " ARIMA(1,1,0)(1,0,2)[12] intercept   : AIC=1655.329, Time=2.71 sec\n",
      " ARIMA(2,1,1)(1,0,2)[12] intercept   : AIC=1609.687, Time=7.15 sec\n",
      " ARIMA(2,1,1)(0,0,2)[12] intercept   : AIC=1627.453, Time=2.74 sec\n",
      " ARIMA(2,1,1)(1,0,1)[12] intercept   : AIC=1614.925, Time=1.73 sec\n",
      " ARIMA(2,1,1)(2,0,2)[12] intercept   : AIC=inf, Time=8.98 sec\n",
      " ARIMA(2,1,1)(0,0,1)[12] intercept   : AIC=1636.903, Time=1.39 sec\n",
      " ARIMA(2,1,1)(2,0,1)[12] intercept   : AIC=inf, Time=7.77 sec\n",
      " ARIMA(2,1,0)(1,0,2)[12] intercept   : AIC=1618.257, Time=3.29 sec\n",
      " ARIMA(3,1,1)(1,0,2)[12] intercept   : AIC=1609.544, Time=10.22 sec\n",
      " ARIMA(3,1,1)(0,0,2)[12] intercept   : AIC=1626.908, Time=5.58 sec\n",
      " ARIMA(3,1,1)(1,0,1)[12] intercept   : AIC=1615.404, Time=3.30 sec\n",
      " ARIMA(3,1,1)(2,0,2)[12] intercept   : AIC=1616.678, Time=9.74 sec\n",
      " ARIMA(3,1,1)(0,0,1)[12] intercept   : AIC=1634.720, Time=2.03 sec\n",
      " ARIMA(3,1,1)(2,0,1)[12] intercept   : AIC=inf, Time=8.28 sec\n",
      " ARIMA(3,1,0)(1,0,2)[12] intercept   : AIC=1614.172, Time=2.96 sec\n",
      " ARIMA(4,1,1)(1,0,2)[12] intercept   : AIC=1612.080, Time=9.86 sec\n",
      " ARIMA(3,1,2)(1,0,2)[12] intercept   : AIC=1612.827, Time=8.94 sec\n",
      " ARIMA(2,1,2)(1,0,2)[12] intercept   : AIC=1610.532, Time=8.41 sec\n",
      " ARIMA(4,1,0)(1,0,2)[12] intercept   : AIC=1616.171, Time=3.94 sec\n",
      " ARIMA(4,1,2)(1,0,2)[12] intercept   : AIC=1613.461, Time=10.30 sec\n",
      " ARIMA(3,1,1)(1,0,2)[12]             : AIC=1607.535, Time=6.34 sec\n",
      " ARIMA(3,1,1)(0,0,2)[12]             : AIC=1624.908, Time=2.25 sec\n",
      " ARIMA(3,1,1)(1,0,1)[12]             : AIC=1613.404, Time=1.40 sec\n",
      " ARIMA(3,1,1)(2,0,2)[12]             : AIC=1614.677, Time=5.97 sec\n",
      " ARIMA(3,1,1)(0,0,1)[12]             : AIC=1632.720, Time=1.06 sec\n",
      " ARIMA(3,1,1)(2,0,1)[12]             : AIC=inf, Time=5.83 sec\n",
      " ARIMA(2,1,1)(1,0,2)[12]             : AIC=1607.688, Time=2.97 sec\n",
      " ARIMA(3,1,0)(1,0,2)[12]             : AIC=1612.178, Time=2.09 sec\n",
      " ARIMA(4,1,1)(1,0,2)[12]             : AIC=1609.533, Time=6.95 sec\n",
      " ARIMA(3,1,2)(1,0,2)[12]             : AIC=1610.213, Time=7.33 sec\n",
      " ARIMA(2,1,0)(1,0,2)[12]             : AIC=1616.269, Time=1.76 sec\n",
      " ARIMA(2,1,2)(1,0,2)[12]             : AIC=1608.512, Time=4.33 sec\n",
      " ARIMA(4,1,0)(1,0,2)[12]             : AIC=1614.177, Time=2.65 sec\n",
      " ARIMA(4,1,2)(1,0,2)[12]             : AIC=1610.409, Time=8.32 sec\n",
      "\n",
      "Best model:  ARIMA(3,1,1)(1,0,2)[12]          \n",
      "Total fit time: 212.830 seconds\n",
      "Ventana de tamaño  288\n",
      "Performing stepwise search to minimize aic\n",
      " ARIMA(1,1,1)(0,0,1)[12] intercept   : AIC=1211.426, Time=0.91 sec\n",
      " ARIMA(0,1,0)(0,0,0)[12] intercept   : AIC=1280.172, Time=0.02 sec\n",
      " ARIMA(1,1,0)(1,0,0)[12] intercept   : AIC=1220.276, Time=0.27 sec\n",
      " ARIMA(0,1,1)(0,0,1)[12] intercept   : AIC=1231.041, Time=0.30 sec\n",
      " ARIMA(0,1,0)(0,0,0)[12]             : AIC=1280.067, Time=0.02 sec\n",
      " ARIMA(1,1,1)(0,0,0)[12] intercept   : AIC=1251.671, Time=0.17 sec\n",
      " ARIMA(1,1,1)(1,0,1)[12] intercept   : AIC=1190.074, Time=1.92 sec\n",
      " ARIMA(1,1,1)(1,0,0)[12] intercept   : AIC=1199.811, Time=0.79 sec\n",
      " ARIMA(1,1,1)(2,0,1)[12] intercept   : AIC=1189.703, Time=4.91 sec\n",
      " ARIMA(1,1,1)(2,0,0)[12] intercept   : AIC=1196.485, Time=2.28 sec\n",
      " ARIMA(1,1,1)(2,0,2)[12] intercept   : AIC=1191.865, Time=6.56 sec\n",
      " ARIMA(1,1,1)(1,0,2)[12] intercept   : AIC=1190.988, Time=6.27 sec\n",
      " ARIMA(0,1,1)(2,0,1)[12] intercept   : AIC=1217.151, Time=2.11 sec\n",
      " ARIMA(1,1,0)(2,0,1)[12] intercept   : AIC=1216.708, Time=2.39 sec\n",
      " ARIMA(2,1,1)(2,0,1)[12] intercept   : AIC=1178.833, Time=5.37 sec\n",
      " ARIMA(2,1,1)(1,0,1)[12] intercept   : AIC=1178.311, Time=1.49 sec\n",
      " ARIMA(2,1,1)(0,0,1)[12] intercept   : AIC=1207.372, Time=0.64 sec\n",
      " ARIMA(2,1,1)(1,0,0)[12] intercept   : AIC=1189.930, Time=1.00 sec\n",
      " ARIMA(2,1,1)(1,0,2)[12] intercept   : AIC=1178.827, Time=6.48 sec\n",
      " ARIMA(2,1,1)(0,0,0)[12] intercept   : AIC=1245.540, Time=0.14 sec\n",
      " ARIMA(2,1,1)(0,0,2)[12] intercept   : AIC=1194.945, Time=2.37 sec\n",
      " ARIMA(2,1,1)(2,0,0)[12] intercept   : AIC=1184.669, Time=2.32 sec\n",
      " ARIMA(2,1,1)(2,0,2)[12] intercept   : AIC=1180.822, Time=6.80 sec\n",
      " ARIMA(2,1,0)(1,0,1)[12] intercept   : AIC=1186.590, Time=0.81 sec\n",
      " ARIMA(3,1,1)(1,0,1)[12] intercept   : AIC=1178.199, Time=2.73 sec\n"
     ]
    },
    {
     "name": "stdout",
     "output_type": "stream",
     "text": [
      " ARIMA(3,1,1)(0,0,1)[12] intercept   : AIC=1209.362, Time=1.47 sec\n",
      " ARIMA(3,1,1)(1,0,0)[12] intercept   : AIC=1189.251, Time=1.72 sec\n",
      " ARIMA(3,1,1)(2,0,1)[12] intercept   : AIC=inf, Time=7.36 sec\n",
      " ARIMA(3,1,1)(1,0,2)[12] intercept   : AIC=1178.685, Time=6.65 sec\n",
      " ARIMA(3,1,1)(0,0,0)[12] intercept   : AIC=1247.529, Time=0.20 sec\n",
      " ARIMA(3,1,1)(0,0,2)[12] intercept   : AIC=1193.605, Time=3.66 sec\n",
      " ARIMA(3,1,1)(2,0,0)[12] intercept   : AIC=1184.657, Time=3.86 sec\n",
      " ARIMA(3,1,1)(2,0,2)[12] intercept   : AIC=1180.706, Time=7.61 sec\n",
      " ARIMA(3,1,0)(1,0,1)[12] intercept   : AIC=1184.355, Time=0.84 sec\n",
      " ARIMA(4,1,1)(1,0,1)[12] intercept   : AIC=1179.912, Time=2.79 sec\n",
      " ARIMA(3,1,2)(1,0,1)[12] intercept   : AIC=1179.645, Time=2.79 sec\n",
      " ARIMA(2,1,2)(1,0,1)[12] intercept   : AIC=1178.726, Time=1.96 sec\n",
      " ARIMA(4,1,0)(1,0,1)[12] intercept   : AIC=1186.315, Time=1.19 sec\n",
      " ARIMA(4,1,2)(1,0,1)[12] intercept   : AIC=1181.884, Time=3.66 sec\n",
      " ARIMA(3,1,1)(1,0,1)[12]             : AIC=1176.254, Time=1.23 sec\n",
      " ARIMA(3,1,1)(0,0,1)[12]             : AIC=1207.988, Time=1.00 sec\n",
      " ARIMA(3,1,1)(1,0,0)[12]             : AIC=1187.422, Time=0.61 sec\n",
      " ARIMA(3,1,1)(2,0,1)[12]             : AIC=1176.769, Time=5.21 sec\n",
      " ARIMA(3,1,1)(1,0,2)[12]             : AIC=1176.737, Time=4.37 sec\n",
      " ARIMA(3,1,1)(0,0,0)[12]             : AIC=1246.480, Time=0.13 sec\n",
      " ARIMA(3,1,1)(0,0,2)[12]             : AIC=1191.800, Time=1.88 sec\n",
      " ARIMA(3,1,1)(2,0,0)[12]             : AIC=1182.765, Time=1.33 sec\n",
      " ARIMA(3,1,1)(2,0,2)[12]             : AIC=1178.737, Time=5.65 sec\n",
      " ARIMA(2,1,1)(1,0,1)[12]             : AIC=1176.368, Time=0.77 sec\n",
      " ARIMA(3,1,0)(1,0,1)[12]             : AIC=1182.476, Time=0.49 sec\n",
      " ARIMA(4,1,1)(1,0,1)[12]             : AIC=1177.971, Time=1.44 sec\n",
      " ARIMA(3,1,2)(1,0,1)[12]             : AIC=1177.715, Time=2.14 sec\n",
      " ARIMA(2,1,0)(1,0,1)[12]             : AIC=1184.789, Time=0.40 sec\n",
      " ARIMA(2,1,2)(1,0,1)[12]             : AIC=1176.783, Time=0.95 sec\n",
      " ARIMA(4,1,0)(1,0,1)[12]             : AIC=1184.433, Time=0.56 sec\n",
      " ARIMA(4,1,2)(1,0,1)[12]             : AIC=1179.912, Time=2.13 sec\n",
      "\n",
      "Best model:  ARIMA(3,1,1)(1,0,1)[12]          \n",
      "Total fit time: 135.185 seconds\n"
     ]
    }
   ],
   "source": [
    "from sklearn.metrics import mean_squared_error\n",
    "\n",
    "wh=[[144,144],[288,288],[288,144]]\n",
    "metrics=[]\n",
    "h=1\n",
    "for v in wh:\n",
    "  print(\"Ventana de tamaño \", w)\n",
    "  data_x,data_y,x,y=spliting_timeseries(singleSerieValit,v[0],v[1])\n",
    "  error=[]\n",
    "  for j in range(1):\n",
    "    start=v[0]\n",
    "    end=v[0]+v[1]\n",
    "    #arima_model=  ARIMA(x[j],order=(1,1,2))\n",
    "    model = auto_arima(x[j], start_p=1, start_q=1,\n",
    "                   max_p=5, max_q=5, m=12,\n",
    "                   start_P=0, seasonal=True,\n",
    "                   d=None, D=0, trace=True,\n",
    "                   error_action='ignore',\n",
    "                   suppress_warnings=True,\n",
    "                   stepwise=True)\n",
    "\n",
    "  # Ajustar el modelo ARIMA con los mejores parámetros\n",
    "    orders=model.to_dict()['order']\n",
    "    arima_model=  ARIMA(x[j],order=orders)\n",
    "\n",
    "    model=arima_model.fit()\n",
    "    df=pd.DataFrame()\n",
    "    intent=np.array(x[j][:end-(end-start+1)])\n",
    "    forecast = model.predict(start=start,end=end-1,dynamic=True)\n",
    "    error.append(forecast)\n",
    "    \n",
    "    metrics.append([v[0],v[1],mean_squared_error(y[j],error[0])])\n",
    "dfMetricsWideh = pd.DataFrame(np.array(metrics),\n",
    "                   columns=['w','h','mean'])\n",
    "\n",
    "  "
   ]
  },
  {
   "cell_type": "code",
   "execution_count": 80,
   "metadata": {},
   "outputs": [],
   "source": [
    "\n",
    "with open('/home/ana/Documentos/GitHub/PatronesComportamiento/Notebooks/PatronesComportamiento-Notebooks/PatronesComportamiento/dftMetricsArimaWide.pkl', 'wb') as file:\n",
    "    pickle.dump(dfMetricsWideh,file)\n"
   ]
  },
  {
   "cell_type": "code",
   "execution_count": null,
   "metadata": {
    "colab": {
     "base_uri": "https://localhost:8080/",
     "height": 501
    },
    "executionInfo": {
     "elapsed": 1342,
     "status": "error",
     "timestamp": 1682335144927,
     "user": {
      "displayName": "Ana Conde",
      "userId": "00740142815161481389"
     },
     "user_tz": -120
    },
    "id": "phs3CyeTdlnZ",
    "outputId": "24445350-e17f-4fb1-dfe0-8a6e6402c83d"
   },
   "outputs": [
    {
     "ename": "NotImplementedError",
     "evalue": "ignored",
     "output_type": "error",
     "traceback": [
      "\u001b[0;31m---------------------------------------------------------------------------\u001b[0m",
      "\u001b[0;31mNotImplementedError\u001b[0m                       Traceback (most recent call last)",
      "\u001b[0;32m<ipython-input-5-d80704b33416>\u001b[0m in \u001b[0;36m<cell line: 17>\u001b[0;34m()\u001b[0m\n\u001b[1;32m     15\u001b[0m \u001b[0mtest\u001b[0m \u001b[0;34m=\u001b[0m \u001b[0mpd\u001b[0m\u001b[0;34m.\u001b[0m\u001b[0mSeries\u001b[0m\u001b[0;34m(\u001b[0m\u001b[0mtest\u001b[0m\u001b[0;34m,\u001b[0m \u001b[0mindex\u001b[0m\u001b[0;34m=\u001b[0m\u001b[0mmy_index\u001b[0m\u001b[0;34m[\u001b[0m\u001b[0;36m267\u001b[0m\u001b[0;34m:\u001b[0m\u001b[0;34m]\u001b[0m\u001b[0;34m)\u001b[0m\u001b[0;34m\u001b[0m\u001b[0;34m\u001b[0m\u001b[0m\n\u001b[1;32m     16\u001b[0m \u001b[0;34m\u001b[0m\u001b[0m\n\u001b[0;32m---> 17\u001b[0;31m \u001b[0mmodel\u001b[0m \u001b[0;34m=\u001b[0m \u001b[0mARIMA\u001b[0m\u001b[0;34m(\u001b[0m\u001b[0mtrain\u001b[0m\u001b[0;34m,\u001b[0m \u001b[0morder\u001b[0m\u001b[0;34m=\u001b[0m\u001b[0;34m(\u001b[0m\u001b[0;36m1\u001b[0m\u001b[0;34m,\u001b[0m \u001b[0;36m1\u001b[0m\u001b[0;34m,\u001b[0m \u001b[0;36m1\u001b[0m\u001b[0;34m)\u001b[0m\u001b[0;34m)\u001b[0m\u001b[0;34m\u001b[0m\u001b[0;34m\u001b[0m\u001b[0m\n\u001b[0m\u001b[1;32m     18\u001b[0m \u001b[0mfitted\u001b[0m \u001b[0;34m=\u001b[0m \u001b[0mmodel\u001b[0m\u001b[0;34m.\u001b[0m\u001b[0mfit\u001b[0m\u001b[0;34m(\u001b[0m\u001b[0mdisp\u001b[0m\u001b[0;34m=\u001b[0m\u001b[0;34m-\u001b[0m\u001b[0;36m1\u001b[0m\u001b[0;34m)\u001b[0m\u001b[0;34m\u001b[0m\u001b[0;34m\u001b[0m\u001b[0m\n\u001b[1;32m     19\u001b[0m \u001b[0mfc\u001b[0m\u001b[0;34m,\u001b[0m \u001b[0mse\u001b[0m\u001b[0;34m,\u001b[0m \u001b[0mconf\u001b[0m \u001b[0;34m=\u001b[0m \u001b[0mfitted\u001b[0m\u001b[0;34m.\u001b[0m\u001b[0mforecast\u001b[0m\u001b[0;34m(\u001b[0m\u001b[0;36m20\u001b[0m\u001b[0;34m,\u001b[0m \u001b[0malpha\u001b[0m\u001b[0;34m=\u001b[0m\u001b[0;36m0.05\u001b[0m\u001b[0;34m)\u001b[0m  \u001b[0;31m# 95% conf\u001b[0m\u001b[0;34m\u001b[0m\u001b[0;34m\u001b[0m\u001b[0m\n",
      "\u001b[0;32m/usr/local/lib/python3.9/dist-packages/statsmodels/tsa/arima_model.py\u001b[0m in \u001b[0;36m__init__\u001b[0;34m(self, *args, **kwargs)\u001b[0m\n\u001b[1;32m     43\u001b[0m \u001b[0;34m\u001b[0m\u001b[0m\n\u001b[1;32m     44\u001b[0m     \u001b[0;32mdef\u001b[0m \u001b[0m__init__\u001b[0m\u001b[0;34m(\u001b[0m\u001b[0mself\u001b[0m\u001b[0;34m,\u001b[0m \u001b[0;34m*\u001b[0m\u001b[0margs\u001b[0m\u001b[0;34m,\u001b[0m \u001b[0;34m**\u001b[0m\u001b[0mkwargs\u001b[0m\u001b[0;34m)\u001b[0m\u001b[0;34m:\u001b[0m\u001b[0;34m\u001b[0m\u001b[0;34m\u001b[0m\u001b[0m\n\u001b[0;32m---> 45\u001b[0;31m         \u001b[0msuper\u001b[0m\u001b[0;34m(\u001b[0m\u001b[0;34m)\u001b[0m\u001b[0;34m.\u001b[0m\u001b[0m__init__\u001b[0m\u001b[0;34m(\u001b[0m\u001b[0;34m*\u001b[0m\u001b[0margs\u001b[0m\u001b[0;34m,\u001b[0m \u001b[0;34m**\u001b[0m\u001b[0mkwargs\u001b[0m\u001b[0;34m)\u001b[0m\u001b[0;34m\u001b[0m\u001b[0;34m\u001b[0m\u001b[0m\n\u001b[0m\u001b[1;32m     46\u001b[0m \u001b[0;34m\u001b[0m\u001b[0m\n\u001b[1;32m     47\u001b[0m \u001b[0;34m\u001b[0m\u001b[0m\n",
      "\u001b[0;32m/usr/local/lib/python3.9/dist-packages/statsmodels/tsa/arima_model.py\u001b[0m in \u001b[0;36m__init__\u001b[0;34m(self, *args, **kwargs)\u001b[0m\n\u001b[1;32m     27\u001b[0m \u001b[0;34m\u001b[0m\u001b[0m\n\u001b[1;32m     28\u001b[0m     \u001b[0;32mdef\u001b[0m \u001b[0m__init__\u001b[0m\u001b[0;34m(\u001b[0m\u001b[0mself\u001b[0m\u001b[0;34m,\u001b[0m \u001b[0;34m*\u001b[0m\u001b[0margs\u001b[0m\u001b[0;34m,\u001b[0m \u001b[0;34m**\u001b[0m\u001b[0mkwargs\u001b[0m\u001b[0;34m)\u001b[0m\u001b[0;34m:\u001b[0m\u001b[0;34m\u001b[0m\u001b[0;34m\u001b[0m\u001b[0m\n\u001b[0;32m---> 29\u001b[0;31m         \u001b[0;32mraise\u001b[0m \u001b[0mNotImplementedError\u001b[0m\u001b[0;34m(\u001b[0m\u001b[0mARIMA_DEPRECATION_ERROR\u001b[0m\u001b[0;34m)\u001b[0m\u001b[0;34m\u001b[0m\u001b[0;34m\u001b[0m\u001b[0m\n\u001b[0m\u001b[1;32m     30\u001b[0m \u001b[0;34m\u001b[0m\u001b[0m\n\u001b[1;32m     31\u001b[0m \u001b[0;34m\u001b[0m\u001b[0m\n",
      "\u001b[0;31mNotImplementedError\u001b[0m: \nstatsmodels.tsa.arima_model.ARMA and statsmodels.tsa.arima_model.ARIMA have\nbeen removed in favor of statsmodels.tsa.arima.model.ARIMA (note the .\nbetween arima and model) and statsmodels.tsa.SARIMAX.\n\nstatsmodels.tsa.arima.model.ARIMA makes use of the statespace framework and\nis both well tested and maintained. It also offers alternative specialized\nparameter estimators.\n"
     ]
    }
   ],
   "source": [
    "from statsmodels.tsa.stattools import acf\n",
    "import pandas as pd\n",
    "import matplotlib.pyplot as plt\n",
    "\n",
    "\n",
    "my_index =[i for i in range(287)]\n",
    "\n",
    "n=9\n",
    "\n",
    "# Create Training and Test\n",
    "train = mySeries[n][:267]\n",
    "test = mySeries[n][267:]\n",
    "\n",
    "train = pd.Series(train, index=my_index[:267])\n",
    "test = pd.Series(test, index=my_index[267:])\n",
    "\n",
    "model = ARIMA(train, order=(1, 1, 1))  \n",
    "fitted = model.fit(disp=-1)  \n",
    "fc, se, conf = fitted.forecast(20, alpha=0.05)  # 95% conf\n",
    "print(test)\n",
    "print(test.index)\n",
    "\n",
    "fc_series = pd.Series(fc, index=test.index)\n",
    "lower_series = pd.Series(conf[:, 0], index=test.index)\n",
    "upper_series = pd.Series(conf[:, 1], index=test.index)\n",
    "\n",
    "# Plot\n",
    "plt.figure(figsize=(12,5), dpi=100)\n",
    "plt.plot(train, label='training')\n",
    "plt.plot(test, label='actual')\n",
    "plt.plot(fc_series, label='forecast')\n",
    "plt.fill_between(lower_series.index, lower_series, upper_series, \n",
    "                 color='k', alpha=.15)\n",
    "plt.title('Forecast vs Actuals')\n",
    "plt.legend(loc='upper left', fontsize=8)\n",
    "plt.show()\n"
   ]
  },
  {
   "cell_type": "code",
   "execution_count": null,
   "metadata": {
    "id": "q0wlwxcQtlEz"
   },
   "outputs": [],
   "source": []
  }
 ],
 "metadata": {
  "colab": {
   "authorship_tag": "ABX9TyMOKquEPoLZsFW/j3EesT0N",
   "provenance": []
  },
  "kernelspec": {
   "display_name": "Python 3 (ipykernel)",
   "language": "python",
   "name": "python3"
  },
  "language_info": {
   "codemirror_mode": {
    "name": "ipython",
    "version": 3
   },
   "file_extension": ".py",
   "mimetype": "text/x-python",
   "name": "python",
   "nbconvert_exporter": "python",
   "pygments_lexer": "ipython3",
   "version": "3.9.6"
  }
 },
 "nbformat": 4,
 "nbformat_minor": 1
}
