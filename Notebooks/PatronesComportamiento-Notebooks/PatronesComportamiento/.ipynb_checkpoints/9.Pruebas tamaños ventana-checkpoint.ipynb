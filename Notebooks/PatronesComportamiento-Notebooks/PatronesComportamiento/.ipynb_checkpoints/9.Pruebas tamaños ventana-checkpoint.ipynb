{
 "cells": [
  {
   "cell_type": "markdown",
   "metadata": {
    "id": "GEVeaP81ywe0"
   },
   "source": [
    "# Pruebas tamaños de ventana"
   ]
  },
  {
   "cell_type": "markdown",
   "metadata": {
    "id": "KrLw8auxywe4"
   },
   "source": [
    "Lo que se pretende en este notebook de python en entrenar un modelo RandomForest y posteriormente uno SGDRegressor con distintos tamaños de ventana, teniendo en cuenta que cada muestra se toma cada minuto, la ventana será inicialmente de 5 muestras (25 minutos) y se predirá la siguiente muestra (siguientes 5 minutos), después las 10 siguientes muestras y de nuevo los siguientes 5 minutos, y así sucesivamente. Se ha decidido probar con los tamaños que se van a mostrar a continuación.\n",
    "![](https://drive.google.com/uc?export=view&id=1QhZFSbntE-EYPzfZz1S_0YmaCTwt8r2F)\n",
    "\n",
    "\n",
    "\n"
   ]
  },
  {
   "cell_type": "markdown",
   "metadata": {
    "id": "20PNRpl4ywe5"
   },
   "source": [
    "Lo primero que tendremos que hacer será instalar todos aquellos paquetes necesarios para la ejecución del código.\n"
   ]
  },
  {
   "cell_type": "code",
   "execution_count": 1,
   "metadata": {
    "colab": {
     "base_uri": "https://localhost:8080/"
    },
    "executionInfo": {
     "elapsed": 29097,
     "status": "ok",
     "timestamp": 1685948264317,
     "user": {
      "displayName": "Ana Conde",
      "userId": "00740142815161481389"
     },
     "user_tz": -120
    },
    "id": "VlE01Q5x2PRs",
    "outputId": "4bd44910-e4b8-4a97-a3de-78125512f622"
   },
   "outputs": [
    {
     "name": "stdout",
     "output_type": "stream",
     "text": [
      "Defaulting to user installation because normal site-packages is not writeable\n",
      "Requirement already satisfied: skops in /home/ana/.local/lib/python3.8/site-packages (0.5.0)\n",
      "Requirement already satisfied: packaging>=17.0 in /home/ana/.local/lib/python3.8/site-packages (from skops) (21.3)\n",
      "Requirement already satisfied: tabulate>=0.8.8 in /home/ana/.local/lib/python3.8/site-packages (from skops) (0.9.0)\n",
      "Requirement already satisfied: scikit-learn>=0.24 in /home/ana/.local/lib/python3.8/site-packages (from skops) (1.1.3)\n",
      "Requirement already satisfied: huggingface-hub>=0.10.1 in /home/ana/.local/lib/python3.8/site-packages (from skops) (0.13.3)\n",
      "Requirement already satisfied: tqdm>=4.42.1 in /home/ana/.local/lib/python3.8/site-packages (from huggingface-hub>=0.10.1->skops) (4.65.0)\n",
      "Requirement already satisfied: requests in /home/ana/.local/lib/python3.8/site-packages (from huggingface-hub>=0.10.1->skops) (2.18.4)\n",
      "Requirement already satisfied: pyyaml>=5.1 in /usr/lib/python3/dist-packages (from huggingface-hub>=0.10.1->skops) (5.3.1)\n",
      "Requirement already satisfied: filelock in /usr/local/lib/python3.8/dist-packages (from huggingface-hub>=0.10.1->skops) (3.8.0)\n",
      "Requirement already satisfied: typing-extensions>=3.7.4.3 in /home/ana/.local/lib/python3.8/site-packages (from huggingface-hub>=0.10.1->skops) (4.4.0)\n",
      "Requirement already satisfied: pyparsing!=3.0.5,>=2.0.2 in /home/ana/.local/lib/python3.8/site-packages (from packaging>=17.0->skops) (3.0.9)\n",
      "Requirement already satisfied: numpy>=1.17.3 in /home/ana/.local/lib/python3.8/site-packages (from scikit-learn>=0.24->skops) (1.23.2)\n",
      "Requirement already satisfied: threadpoolctl>=2.0.0 in /home/ana/.local/lib/python3.8/site-packages (from scikit-learn>=0.24->skops) (3.1.0)\n",
      "Requirement already satisfied: scipy>=1.3.2 in /home/ana/.local/lib/python3.8/site-packages (from scikit-learn>=0.24->skops) (1.9.3)\n",
      "Requirement already satisfied: joblib>=1.0.0 in /home/ana/.local/lib/python3.8/site-packages (from scikit-learn>=0.24->skops) (1.2.0)\n",
      "Requirement already satisfied: chardet<3.1.0,>=3.0.2 in /usr/lib/python3/dist-packages (from requests->huggingface-hub>=0.10.1->skops) (3.0.4)\n",
      "Requirement already satisfied: urllib3<1.23,>=1.21.1 in /home/ana/.local/lib/python3.8/site-packages (from requests->huggingface-hub>=0.10.1->skops) (1.22)\n",
      "Requirement already satisfied: certifi>=2017.4.17 in /home/ana/.local/lib/python3.8/site-packages (from requests->huggingface-hub>=0.10.1->skops) (2022.6.15)\n",
      "Requirement already satisfied: idna<2.7,>=2.5 in /home/ana/.local/lib/python3.8/site-packages (from requests->huggingface-hub>=0.10.1->skops) (2.6)\n",
      "\n",
      "\u001b[1m[\u001b[0m\u001b[34;49mnotice\u001b[0m\u001b[1;39;49m]\u001b[0m\u001b[39;49m A new release of pip available: \u001b[0m\u001b[31;49m22.3\u001b[0m\u001b[39;49m -> \u001b[0m\u001b[32;49m23.1.2\u001b[0m\n",
      "\u001b[1m[\u001b[0m\u001b[34;49mnotice\u001b[0m\u001b[1;39;49m]\u001b[0m\u001b[39;49m To update, run: \u001b[0m\u001b[32;49m/usr/bin/python3 -m pip install --upgrade pip\u001b[0m\n",
      "Defaulting to user installation because normal site-packages is not writeable\n",
      "Requirement already satisfied: matplotlib in /home/ana/.local/lib/python3.8/site-packages (3.6.2)\n",
      "Requirement already satisfied: cycler>=0.10 in /home/ana/.local/lib/python3.8/site-packages (from matplotlib) (0.11.0)\n",
      "Requirement already satisfied: fonttools>=4.22.0 in /home/ana/.local/lib/python3.8/site-packages (from matplotlib) (4.37.0)\n",
      "Requirement already satisfied: packaging>=20.0 in /home/ana/.local/lib/python3.8/site-packages (from matplotlib) (21.3)\n",
      "Requirement already satisfied: kiwisolver>=1.0.1 in /home/ana/.local/lib/python3.8/site-packages (from matplotlib) (1.4.4)\n",
      "Requirement already satisfied: python-dateutil>=2.7 in /home/ana/.local/lib/python3.8/site-packages (from matplotlib) (2.8.2)\n",
      "Requirement already satisfied: pyparsing>=2.2.1 in /home/ana/.local/lib/python3.8/site-packages (from matplotlib) (3.0.9)\n",
      "Requirement already satisfied: pillow>=6.2.0 in /home/ana/.local/lib/python3.8/site-packages (from matplotlib) (9.2.0)\n",
      "Requirement already satisfied: contourpy>=1.0.1 in /home/ana/.local/lib/python3.8/site-packages (from matplotlib) (1.0.6)\n",
      "Requirement already satisfied: numpy>=1.19 in /home/ana/.local/lib/python3.8/site-packages (from matplotlib) (1.23.2)\n",
      "Requirement already satisfied: six>=1.5 in /home/ana/.local/lib/python3.8/site-packages (from python-dateutil>=2.7->matplotlib) (1.16.0)\n",
      "\n",
      "\u001b[1m[\u001b[0m\u001b[34;49mnotice\u001b[0m\u001b[1;39;49m]\u001b[0m\u001b[39;49m A new release of pip available: \u001b[0m\u001b[31;49m22.3\u001b[0m\u001b[39;49m -> \u001b[0m\u001b[32;49m23.1.2\u001b[0m\n",
      "\u001b[1m[\u001b[0m\u001b[34;49mnotice\u001b[0m\u001b[1;39;49m]\u001b[0m\u001b[39;49m To update, run: \u001b[0m\u001b[32;49m/usr/bin/python3 -m pip install --upgrade pip\u001b[0m\n",
      "Defaulting to user installation because normal site-packages is not writeable\n",
      "Requirement already satisfied: pandas in /home/ana/.local/lib/python3.8/site-packages (1.5.1)\n",
      "Requirement already satisfied: numpy>=1.20.3 in /home/ana/.local/lib/python3.8/site-packages (from pandas) (1.23.2)\n",
      "Requirement already satisfied: pytz>=2020.1 in /home/ana/.local/lib/python3.8/site-packages (from pandas) (2022.6)\n",
      "Requirement already satisfied: python-dateutil>=2.8.1 in /home/ana/.local/lib/python3.8/site-packages (from pandas) (2.8.2)\n",
      "Requirement already satisfied: six>=1.5 in /home/ana/.local/lib/python3.8/site-packages (from python-dateutil>=2.8.1->pandas) (1.16.0)\n",
      "\n",
      "\u001b[1m[\u001b[0m\u001b[34;49mnotice\u001b[0m\u001b[1;39;49m]\u001b[0m\u001b[39;49m A new release of pip available: \u001b[0m\u001b[31;49m22.3\u001b[0m\u001b[39;49m -> \u001b[0m\u001b[32;49m23.1.2\u001b[0m\n",
      "\u001b[1m[\u001b[0m\u001b[34;49mnotice\u001b[0m\u001b[1;39;49m]\u001b[0m\u001b[39;49m To update, run: \u001b[0m\u001b[32;49m/usr/bin/python3 -m pip install --upgrade pip\u001b[0m\n"
     ]
    }
   ],
   "source": [
    "!pip install skops\n",
    "!pip install matplotlib\n",
    "!pip install pandas\n"
   ]
  },
  {
   "cell_type": "code",
   "execution_count": 5,
   "metadata": {
    "id": "lwh4ZnDY8fdv"
   },
   "outputs": [
    {
     "name": "stdout",
     "output_type": "stream",
     "text": [
      "/home/ana/Documentos/TFG/PatronesComportamiento/Notebooks/PatronesComportamiento-Notebooks/PatronesComportamiento\n"
     ]
    }
   ],
   "source": [
    "import pickle\n",
    "import sklearn\n",
    "from sklearn.ensemble import RandomForestRegressor\n",
    "from sklearn.linear_model import SGDRegressor\n",
    "import matplotlib.pyplot as plt\n",
    "from sklearn.metrics import make_scorer\n",
    "from sklearn.metrics import mean_absolute_percentage_error,mean_absolute_error\n",
    "from sklearn.model_selection import cross_val_score\n",
    "from sklearn.model_selection import KFold, cross_val_score\n",
    "from sklearn import datasets\n",
    "import pandas as pd\n",
    "from sklearn.model_selection import TimeSeriesSplit\n",
    "import numpy as np\n",
    "from sklearn.model_selection import GridSearchCV\n",
    "from sklearn import preprocessing\n",
    "from sklearn.metrics import mean_squared_error\n",
    "import os\n",
    "import skops.io as io\n",
    "from sklearn.preprocessing import StandardScaler\n",
    "from sklearn.pipeline import make_pipeline\n",
    "from sklearn.multioutput import MultiOutputRegressor\n",
    "import matplotlib.pyplot as plt\n",
    "\n",
    "\n",
    "from sklearn.preprocessing import StandardScaler\n",
    "import os\n",
    "currentFile=os.path.abspath(os.getcwd())\n",
    "print(currentFile)\n",
    "inten=currentFile.split('PatronesComportamiento-Notebooks/')\n",
    "\n"
   ]
  },
  {
   "cell_type": "code",
   "execution_count": null,
   "metadata": {
    "colab": {
     "base_uri": "https://localhost:8080/"
    },
    "executionInfo": {
     "elapsed": 23267,
     "status": "ok",
     "timestamp": 1685948295225,
     "user": {
      "displayName": "Ana Conde",
      "userId": "00740142815161481389"
     },
     "user_tz": -120
    },
    "id": "IwZbogYR0hw4",
    "outputId": "66d97350-79f5-4f82-e2d6-2d48a8f83832"
   },
   "outputs": [
    {
     "name": "stdout",
     "output_type": "stream",
     "text": [
      "Mounted at /content/gdrive\n"
     ]
    }
   ],
   "source": [
    "from google.colab import drive\n",
    "drive.mount('/content/gdrive')"
   ]
  },
  {
   "cell_type": "markdown",
   "metadata": {
    "id": "mmqoXToSuFKT"
   },
   "source": [
    "# Random Forest"
   ]
  },
  {
   "cell_type": "markdown",
   "metadata": {
    "id": "b2TobWEYuKAS"
   },
   "source": [
    "Estas configuraciones de ventana se harán en primer lugar para el modelo RandomForest.\n",
    "Random Forest es una de los algoritmos más populares y más comunmente usados por científicos del Dato. Random forest es un algorítmo de Machine Learning supervisado que es ampliamente utilizado y problemas de regresión y clasificación. Este crea árboles de decisión a partir de diferentes muestras y toma su voto mayoritario para clasificación y su aproximación para regresión.\n",
    "\n",
    "Una de las características más importantes del algoritmo Random Forest es que puede soportar data sets con variables contínuas, como es el caso de la regresión, y variables categóricas como es el caso de la clasificación.\n",
    "\n",
    "\n",
    "\n",
    "\n",
    "\n",
    "\n"
   ]
  },
  {
   "cell_type": "markdown",
   "metadata": {
    "id": "V9JuxR5X2u6c"
   },
   "source": [
    "El sobre ajuste suele ser un problema crítico que puede empeorar los resultados obtenidos, pero para el algoritmo random forest, si hay suficientes árboles en el bosque, el calificador con reajustar el modelo. Otro punto a favor de este algoritmo es que puede soportar valores vacíos, no obstante para nuestro ejemplo no trataremos con ellos, pues como se muestra en el jupyter [Transformación de Datos](https://colab.research.google.com/drive/13Bu4aIENRpZTCj9K0ozJAoSONLPTK5jI?usp=sharing),\n",
    "se han reconstruido todos aquellos tramos horarios en los que había cortes de luz y se perdían muestras."
   ]
  },
  {
   "cell_type": "markdown",
   "metadata": {
    "id": "QcsNcwKh4Aiu"
   },
   "source": [
    "# Cómo funciona este algoritmo\n",
    "Para explicarlo nos basaremos en la siguiente ilustación. Como se observa en la imagen inferior observamos como a partir de los dígitos iniciales que vienen subrayados y en distintos colores el árbol va tomando decisiones y categorizándolo. Tenemos el siguiente número 1 1 0 0 0 0 0, que presenta distintos colores y algunos de ellos están subrayados y otros no. Queremos categorizar dicho número en: rojo, azul y subrayado. El funcionamiento de un árbol de decisión viene definido por un esquema, la primera pregunta clasificará a aquellos números que sean de color rojo por una lado y los de otro color por otro, para la siguiente clasificación solo se tiene en cuenta el conjunto de la izquierda pues el de la derecha ya ha llegado a una categorá final: azul. Siguiendo con el conjunto de la izquierda podemos categorizar en subrayado y no subrayado, por tanto tendremos a la izquierda los unos subrayados y a la derecha el cero sin subrayar. Para nuestro problema es algo más complejo pero entendiendo las bases se puede extrapolar perfectamente a casos de mayor envergadura.\n",
    "\n",
    "\n",
    "![](https://drive.google.com/uc?export=view&id=1hoYiU6y5bpVt6yS51cdKbHUfxiDzMBP4)\n",
    "\n"
   ]
  },
  {
   "cell_type": "markdown",
   "metadata": {
    "id": "2frIZPyZgDa8"
   },
   "source": [
    "Pero en este caso no estaríamos hablando de un único árbol de decisión, sino de muchos árboles que conformarán 'El bosque', de ahí el nombre del algoritmo. Estos arbolitos trabajan como un conjunto y este comportamiento es la clave de su baja correlación y en consecuencia su mejor rendimiento frente a algoritmos con una alta correlación. Cada árbol da una predicción de forma que el impacto de la predicción se divide entre el número de árboles totales, de forma que la predicción final está protegida de los pequeños errores individuales. Uso, por tanto, la sabiduría de masas.\n"
   ]
  },
  {
   "cell_type": "markdown",
   "metadata": {
    "id": "3BEkgxbihiWN"
   },
   "source": [
    "# Transformar serie temporal en ventanas"
   ]
  },
  {
   "cell_type": "markdown",
   "metadata": {
    "id": "eIdKpevWR1pu"
   },
   "source": [
    "Iremos modificando los tamaños de ventana y comprobando qué resultados se van obteniendo tras entrenar el modelo con la mejor configuración de validación cruzada. Primero tomaremos con pickle la serie que contiene todas las series.\n",
    "\n",
    "\n",
    "\n"
   ]
  },
  {
   "cell_type": "code",
   "execution_count": 6,
   "metadata": {
    "colab": {
     "base_uri": "https://localhost:8080/"
    },
    "executionInfo": {
     "elapsed": 2464,
     "status": "ok",
     "timestamp": 1685948313188,
     "user": {
      "displayName": "Ana Conde",
      "userId": "00740142815161481389"
     },
     "user_tz": -120
    },
    "id": "U4E5JuAHP8_4",
    "outputId": "37eabe88-c52c-41f8-fba1-d638a6ea6d60"
   },
   "outputs": [
    {
     "name": "stdout",
     "output_type": "stream",
     "text": [
      "[9.597173, 9.113074, 8.787986, 8.936396, 8.438163, 8.494699, 7.95053, 8.010601, 7.978648, 6.961131]\n",
      "287\n"
     ]
    }
   ],
   "source": [
    "with open(str(currentFile)+'/mySeriesInten.pkl', 'rb') as file:\n",
    "    timeSeries = pickle.load(file)\n",
    "\n",
    "with open(str(currentFile)+'/singleSerieIntenTrT.pkl', 'rb') as file:\n",
    "    singleSerieTrT = pickle.load(file)\n",
    "\n",
    "\n",
    "with open(str(currentFile)+'/singleSerieIntenValit.pkl', 'rb') as file:\n",
    "    singleSerieValit= pickle.load(file)\n",
    "\n",
    "print((singleSerieTrT[:10]))\n",
    "print(len(timeSeries[0]))\n",
    "\n"
   ]
  },
  {
   "cell_type": "markdown",
   "metadata": {
    "id": "3kO5ShdQgsE7"
   },
   "source": [
    "Lo primero que vamos a hacer es escalar los datos con sk learn en su paquete [Preprocesing](https://scikit-learn.org/stable/modules/preprocessing.html#standardization-or-mean-removal-and-variance-scaling) tiene algunos métodos que permiten escalar los datos de entrenamiento según distintos criterios."
   ]
  },
  {
   "cell_type": "code",
   "execution_count": 7,
   "metadata": {
    "id": "pJZH_UnpgrUl"
   },
   "outputs": [],
   "source": [
    "def scale(data):  \n",
    "  min_max_scaler = preprocessing.MinMaxScaler()\n",
    "  X_train=np.array(data)\n",
    "  X_train = X_train.reshape((len(data), 1))\n",
    "  X_train_minmax = min_max_scaler.fit_transform(X_train)\n",
    "  X_train_minmax=[ele[0] for ele in X_train_minmax]\n",
    "  return X_train_minmax,min_max_scaler\n"
   ]
  },
  {
   "cell_type": "markdown",
   "metadata": {
    "id": "Hp0WE7Tch6b4"
   },
   "source": [
    "Seguidamente, aplicaremos una ventana a los datos, en este caso la ventana será de 5 y la h de 1. La forma que hemos elegido para aplicar la ventana deslizante es a través de sliding vectorial, posteriormente se añade a un dataframe de pandas. A continuación, en la celda contigua podemos ver la definición del método que aplicará la ventana deslizante. Para entender el porqué de utilizar esta técnica ir al jupyter [Transformar datos para prediccion](https://colab.research.google.com/drive/1HuCj1Cetas3ffaXV8q83ynGQaV_njtI6?usp=sharing).\n"
   ]
  },
  {
   "cell_type": "code",
   "execution_count": 8,
   "metadata": {
    "id": "G7TLr3aiTb1T"
   },
   "outputs": [],
   "source": [
    "def spliting_timeseries(timeSerie,w,h):  #w amplitud de la ventana y h >1 si es multiobjetivo\n",
    "  X, y = [], []  #inicializamos los arrays que guardarán atributos y variable predicha\n",
    "  for i in range(len(timeSerie) - w): #bucle para iterar sobre todas las muestras de las series \n",
    "    X.append(timeSerie[i : i + w])  #cogemos desde el elemento en el que estamos hasta los w siguientes\n",
    "    y.append(timeSerie[i + w:i+w+h])  #aquí cogemos desde el w+1 hasta los h siguientes\n",
    "  return pd.DataFrame(X), pd.Series(y),X,y\n",
    "\n"
   ]
  },
  {
   "cell_type": "markdown",
   "metadata": {
    "id": "Xt_JVpjLif_J"
   },
   "source": [
    "Lo siguiente será llamar al método con aquellos parámetros con los que queramos configurar la ventana deslizante."
   ]
  },
  {
   "cell_type": "code",
   "execution_count": 9,
   "metadata": {
    "id": "W8jxq-5BTgq7"
   },
   "outputs": [],
   "source": [
    "def prepare_data(singleSerieTrT,w,h):\n",
    "  X_train_minmax,min_max_scaler=scale(singleSerieTrT)\n",
    "  cond,consec=[],[]\n",
    "  x,y,x_train,y_train=spliting_timeseries(X_train_minmax,5,1) #llamo al método\n",
    "  cond.append(x)  #lo añado a una lista de atributos\n",
    "    # lo añado a una lista de variables predichas\n",
    "\n",
    "\n",
    "\n",
    "  data_cond = pd.concat(cond, axis=0) # combino todos los DataFrames en uno solo\n",
    "  data_consec = pd.concat([y], axis=0) # combino todos los DataFrames en uno solo\n",
    "  return x,y,x_train,y_train\n"
   ]
  },
  {
   "cell_type": "markdown",
   "metadata": {
    "id": "cVHHySyqveKV"
   },
   "source": [
    "## Predicciones con rejilla"
   ]
  },
  {
   "cell_type": "markdown",
   "metadata": {
    "id": "PQwkoHQguD-y"
   },
   "source": [
    "A continuación, pasamos a hacer la rejilla para calcular los hiperparámetros óptimos. Para este paso era necesario deteerminar en primer lugar cuáles sería los parámetros que optarían a ser parte de la configuración de nuestro modelo. "
   ]
  },
  {
   "cell_type": "markdown",
   "metadata": {
    "id": "tn3ivk2Mzr-b"
   },
   "source": [
    "Al usar Grid Search nos devuelve un modelo ya entrenado con la mejor configuración, por tanto, ahora probaremos con distintas configuraciones de ventanas para ver calidad de las predicciones."
   ]
  },
  {
   "cell_type": "markdown",
   "metadata": {
    "id": "cENlfhfaTpqW"
   },
   "source": [
    "Vamos a probar con distintos tamaños de ventana que error obtenemos, para ello, una buena práctica sería ir guardando en ficheros separados todos los modelos entrenados, posteriormente calcularíamos su error, este proceso va a tardar mucho en ejecutar pues habría que entrenar un moelo por cada variación en la configuración."
   ]
  },
  {
   "cell_type": "code",
   "execution_count": null,
   "metadata": {
    "id": "1YYSB2AWQNOv"
   },
   "outputs": [],
   "source": [
    "p=10\n",
    "s=5\n",
    "tscv = TimeSeriesSplit(n_splits=s)\n",
    "regr = RandomForestRegressor(max_depth=5, random_state=0)\n",
    "\n",
    "# step-1: create a cross-validation scheme\n",
    "\n",
    "# step-2: specify range of hyperparameters to tune\n",
    "hyper_params = {'n_estimators': [50,150,200],'criterion':['squared_error','friedman_mse']}\n",
    "\n",
    "\n",
    "# step-3: perform grid search\n",
    "# 3.1 specify model\n",
    "\n",
    "# 3.2 call GridSearchCV()\n",
    "model_cv = GridSearchCV(estimator = regr, \n",
    "                        param_grid = hyper_params, \n",
    "                        scoring= 'neg_mean_squared_error', \n",
    "                        cv = tscv, \n",
    "                        verbose = 1,\n",
    "                        return_train_score=True)      \n",
    "\n",
    "# fit the model\n",
    "files=[]\n",
    "for i in range(60,288,p):\n",
    "  print(\"======Ahora mismo la ventana es : \"+str(i)+\"=================\")\n",
    "\n",
    "  print(\"======Ahora mismo el salto es : \"+str(p)+\"===================\")\n",
    "  X_train_minmax,min_max_scaler=scale(singleSerieTrT)\n",
    "  x,y,x_train,y_train=spliting_timeseries(X_train_minmax,i,1) \n",
    "\n",
    "  y_train=y_train[0:len(x_train)]\n",
    "  y_train=[l[0] for l in y_train]\n",
    "  \n",
    "\n",
    "  model_cv.fit(x_train,y_train)\n",
    "\n",
    "    \n",
    "  io.dump(model_cv, 'fotosRandomForest/files/VentanagridSearchmodelRandomForestw'+str(i)+'f'+str(s)+'.skops')\n",
    "  \n",
    "\n",
    "  if i==50:\n",
    "    p=20  \n",
    "  elif i==100:\n",
    "    p= 30\n",
    "  elif i==280:\n",
    "    p=7\n",
    "  \n",
    "    \n",
    "\n",
    "\n",
    "\n"
   ]
  },
  {
   "cell_type": "markdown",
   "metadata": {
    "id": "g46kIKfhwGvj"
   },
   "source": [
    "Ahora vamos a representar los resultados obtenidos para comprobar la evolución del error MAPE con los distintos parámetros. El mejor error MAPE será aquel que sea igual a 0, por tanto estamos buscando que el error sea en valor absoluto lo más cercano a 0 posible.\n",
    "\n"
   ]
  },
  {
   "cell_type": "code",
   "execution_count": null,
   "metadata": {
    "colab": {
     "base_uri": "https://localhost:8080/"
    },
    "executionInfo": {
     "elapsed": 96326,
     "status": "ok",
     "timestamp": 1682788096058,
     "user": {
      "displayName": "Ana Conde",
      "userId": "00740142815161481389"
     },
     "user_tz": -120
    },
    "id": "nTYUThm-ZEca",
    "outputId": "04650844-3263-47c8-ad5f-3ae54e5829d0"
   },
   "outputs": [
    {
     "name": "stdout",
     "output_type": "stream",
     "text": [
      "Ventana: 240\n",
      "0.0636872970315142\n",
      "Ventana: 10\n",
      "0.0637104920738452\n",
      "Ventana: 270\n",
      "0.06350334632912474\n",
      "Ventana: 50\n",
      "0.06343909696898647\n",
      "Ventana: 90\n",
      "0.06353362579572978\n",
      "Ventana: 40\n",
      "0.06352006273431703\n",
      "Ventana: 288\n",
      "0.06353200759548643\n",
      "Ventana: 100\n",
      "0.06363235436289388\n",
      "Ventana: 120\n",
      "0.06364430195428931\n",
      "Ventana: 70\n",
      "0.06342039695571104\n",
      "Ventana: 140\n",
      "0.06375649289060083\n",
      "Ventana: 180\n",
      "0.0637820922947809\n",
      "Ventana: 130\n",
      "0.06361792859782622\n",
      "Ventana: 20\n",
      "0.06367335685318115\n",
      "Ventana: 150\n",
      "0.06357671579867212\n",
      "Ventana: 60\n",
      "0.06349228123184181\n",
      "Ventana: 110\n",
      "0.06358380341284733\n",
      "Ventana: 80\n",
      "0.06353387347446167\n",
      "Ventana: 210\n",
      "0.06371018823352528\n",
      "Ventana: 30\n",
      "0.06357547564976011\n"
     ]
    }
   ],
   "source": [
    "directory=str(currentFile)+'/fotosRandomForest/files'\n",
    "files=os.listdir(directory)\n",
    "for file in files:\n",
    "    \n",
    "    model_cv=io.load(directory+'/'+file, trusted=True)\n",
    "    name_split=file.split('w')\n",
    "    w=name_split[1].split('f')[0]\n",
    "    f=name_split[1].split('f')[0].split('.skops')[0]\n",
    "\n",
    "    print(\"Ventana: \"+w)\n",
    "    X_test_minmax,min_max_scaler=scale(singleSerieValit)\n",
    "    x,y,x_test,y_test=spliting_timeseries(X_test_minmax,int(w),1) #llamo al método\n",
    "    y_predicted=model_cv.predict(x_test)    \n",
    "    print(mean_absolute_error(y_test, y_predicted))\n",
    "\n"
   ]
  },
  {
   "cell_type": "markdown",
   "metadata": {
    "id": "8AHZGhvaz_j_"
   },
   "source": [
    "Ahora las predicciones las haremos para un mayor valor de h se forma que vamos a predecir más muestras. Usaremos a librería MultiOutputRegressor de sklearn."
   ]
  },
  {
   "cell_type": "code",
   "execution_count": null,
   "metadata": {
    "id": "hyKS_lhz01us"
   },
   "outputs": [],
   "source": [
    "\n",
    "p=10\n",
    "s=5\n",
    "tscv = TimeSeriesSplit(n_splits=s)\n",
    "regr = RandomForestRegressor(max_depth=5, random_state=0)\n",
    "\n",
    "# step-1: create a cross-validation scheme\n",
    "\n",
    "# step-2: specify range of hyperparameters to tune\n",
    "hyper_params = {'estimator__n_estimators': [50,150,200],'criterion':['estimator__ squared_error','friedman_mse']}\n",
    "\n",
    "\n",
    "# step-3: perform grid search\n",
    "# 3.1 specify model\n",
    "\n",
    "# 3.2 call GridSearchCV()\n",
    "clf = MultiOutputRegressor(regr)\n",
    "model_cv = GridSearchCV(estimator = clf, \n",
    "                        param_grid = hyper_params, \n",
    "                        scoring= 'neg_mean_squared_error', \n",
    "                        cv = tscv, \n",
    "                        verbose = 1,\n",
    "                        return_train_score=True)      \n",
    "\n",
    "# fit the model\n",
    "files=[]\n",
    "wh=[[144,144],[288,288],[288,144]]\n",
    "for pack in wh:\n",
    "  print(\"======Ahora mismo la ventana es : \"+str(pack[0])+\"=================\")\n",
    "\n",
    "  print(\"======Ahora mismo el salto es : \"+str(pack[1])+\"===================\")\n",
    "  X_train_minmax,min_max_scaler=scale(singleSerieTrT)\n",
    "  x,y,x_train,y_train=spliting_timeseries(X_train_minmax,pack[0],pack[1]) \n",
    "\n",
    "  y_train=y_train[0:len(x_train)]\n",
    "  \n",
    "\n",
    "  model_cv.fit(x_train,y_train)\n",
    "\n",
    "    \n",
    "  io.dump(model_cv, 'fotosRandomForest/files/VentanagridSearchmodelRandomForestw'+str(i)+'f'+str(s)+'.skops')\n",
    "  \n",
    "\n"
   ]
  },
  {
   "cell_type": "markdown",
   "metadata": {
    "id": "nvfW1sFIywfE"
   },
   "source": [
    "# SGD Regressor"
   ]
  },
  {
   "cell_type": "markdown",
   "metadata": {
    "id": "d8AU8I9XwcLc"
   },
   "source": [
    "Este algoritmo se basa en un modelo lineal. Un modelo lineal es el algoritmo más básico en el campo de la inteligencia artificial, se fundamenta en que los datos son linealmente separables y aprende los pesos de cada variable a estudiar. Es un algoritmo muy rápido debido al componente de aleatoriedad a la hora de buscar el mínimo, además es capaz de ignorar características irrelevantes. A destacar añadir que es sensible a los datos escalados por lo que será conveniente escalar los datos antes de comenzar con el entrenamiento y la predicción. Frente a su rapidez tenemos su tendencia al sobreajuste si se hace un mal entrenamiento por lo que tendremos que hacer una buena búsqueda de hiperparámetros y por supuesto escalar los datos.\n"
   ]
  },
  {
   "cell_type": "markdown",
   "metadata": {
    "id": "ZwJCLNdswoUn"
   },
   "source": [
    "Para conocer como se comporta basta que nos vayamos al significado de sus siglas *SGD*, Descenso Estocástico por el gradiente. Para poder entender cómo funciona este método primero tenemos que saber qué es el Descenso por el Gradiente. Es un método que busca encontrar un mínimo dentro de una función , el gradiente, para ello va actualizando los pesos en función de todos los datos de entrenamiento. Por otro lado, el Descenso Estocástico por el Gradiente no utilizará todos los datos si no que para cada actualización de pesos tomará un individuo aleatoriamente.\n",
    "\n",
    "\n",
    "![](https://drive.google.com/uc?export=view&id=12S5qDoVsAB4sEqL00iH6WcerrzSQQQXh)\n",
    "\n"
   ]
  },
  {
   "cell_type": "markdown",
   "metadata": {
    "id": "XfeoHEs7ywfF"
   },
   "source": [
    "Tendremos que hacer lo mismo para este otro modelo. Lo métodos y están definidos, ahora sólo hay que entrenar los modelos para este algoritmo."
   ]
  },
  {
   "cell_type": "code",
   "execution_count": null,
   "metadata": {
    "colab": {
     "base_uri": "https://localhost:8080/"
    },
    "executionInfo": {
     "elapsed": 608243,
     "status": "ok",
     "timestamp": 1681553659102,
     "user": {
      "displayName": "Ana Conde",
      "userId": "00740142815161481389"
     },
     "user_tz": -120
    },
    "id": "EU_84x2PywfF",
    "outputId": "b2d9b66d-b5bc-4156-b917-fe594e9be8f2"
   },
   "outputs": [
    {
     "name": "stdout",
     "output_type": "stream",
     "text": [
      "======Ahora mismo la ventana es : 10=================\n",
      "Fitting 5 folds for each of 6 candidates, totalling 30 fits\n",
      "======Ahora mismo la ventana es : 20=================\n",
      "Fitting 5 folds for each of 6 candidates, totalling 30 fits\n",
      "======Ahora mismo la ventana es : 30=================\n",
      "Fitting 5 folds for each of 6 candidates, totalling 30 fits\n",
      "======Ahora mismo la ventana es : 40=================\n",
      "Fitting 5 folds for each of 6 candidates, totalling 30 fits\n",
      "======Ahora mismo la ventana es : 50=================\n",
      "Fitting 5 folds for each of 6 candidates, totalling 30 fits\n",
      "======Ahora mismo la ventana es : 70=================\n",
      "Fitting 5 folds for each of 6 candidates, totalling 30 fits\n",
      "======Ahora mismo la ventana es : 90=================\n",
      "Fitting 5 folds for each of 6 candidates, totalling 30 fits\n",
      "======Ahora mismo la ventana es : 110=================\n",
      "Fitting 5 folds for each of 6 candidates, totalling 30 fits\n",
      "======Ahora mismo la ventana es : 140=================\n",
      "Fitting 5 folds for each of 6 candidates, totalling 30 fits\n",
      "======Ahora mismo la ventana es : 170=================\n",
      "Fitting 5 folds for each of 6 candidates, totalling 30 fits\n",
      "======Ahora mismo la ventana es : 200=================\n",
      "Fitting 5 folds for each of 6 candidates, totalling 30 fits\n",
      "======Ahora mismo la ventana es : 230=================\n",
      "Fitting 5 folds for each of 6 candidates, totalling 30 fits\n",
      "======Ahora mismo la ventana es : 260=================\n",
      "Fitting 5 folds for each of 6 candidates, totalling 30 fits\n",
      "======Ahora mismo la ventana es : 288=================\n",
      "Fitting 5 folds for each of 6 candidates, totalling 30 fits\n"
     ]
    }
   ],
   "source": [
    "p=10\n",
    "\n",
    "s=5\n",
    "tscv = TimeSeriesSplit(n_splits=s)\n",
    "regr =  SGDRegressor(max_iter=1000, tol=1e-3)\n",
    "\n",
    "# step-1: create a cross-validation scheme\n",
    "\n",
    "# step-2: specify range of hyperparameters to tune\n",
    "hyper_params = {'loss': ['squared_error','huber','epsilon_insensitive'],'penalty':['elasticnet','l1']}\n",
    "\n",
    "\n",
    "# step-3: perform grid search\n",
    "# 3.1 specify model\n",
    "\n",
    "# 3.2 call GridSearchCV()\n",
    "model_cv = GridSearchCV(estimator = regr, \n",
    "                        param_grid = hyper_params, \n",
    "                        scoring= 'neg_mean_squared_error', \n",
    "                        cv = tscv, \n",
    "                        verbose = 1,\n",
    "                        return_train_score=True)      \n",
    "\n",
    "# fit the model\n",
    "files=[]\n",
    "sizes=[10,20,30,40,50,70,90,110,140,170,200,230,260,288]\n",
    "for i in sizes:\n",
    "  print(\"======Ahora mismo la ventana es : \"+str(i)+\"=================\")\n",
    "\n",
    "  X_train_minmax,min_max_scaler=scale(singleSerieTrT)\n",
    "  x,y,x_train,y_train=spliting_timeseries(X_train_minmax,i,1) \n",
    "\n",
    "  y_train=y_train[0:len(x_train)]\n",
    "  y_train=[l[0] for l in y_train]\n",
    "  \n",
    "\n",
    "  model_cv.fit(x_train,y_train)\n",
    "\n",
    "    \n",
    "  io.dump(model_cv, str(currentFile)+'/filesSGD/VentanagridSearchmodelSGDRegressorw'+str(i)+'f'+str(s)+'.skops')\n",
    "  \n",
    "\n",
    "    \n"
   ]
  },
  {
   "cell_type": "code",
   "execution_count": null,
   "metadata": {
    "colab": {
     "base_uri": "https://localhost:8080/"
    },
    "executionInfo": {
     "elapsed": 28653,
     "status": "ok",
     "timestamp": 1681292591196,
     "user": {
      "displayName": "Ana Conde",
      "userId": "00740142815161481389"
     },
     "user_tz": -120
    },
    "id": "Ufm3Vukd2CIB",
    "outputId": "87d1d22c-6b9b-455a-9f05-de601b32d615"
   },
   "outputs": [
    {
     "name": "stdout",
     "output_type": "stream",
     "text": [
      "Ventana: 200\n",
      "0.020500522302234946\n",
      "Ventana: 140\n",
      "0.021079111825852384\n",
      "Ventana: 288\n",
      "0.01875494118552419\n",
      "Ventana: 230\n",
      "0.019722425513049046\n",
      "Ventana: 10\n",
      "0.01968515876198442\n",
      "Ventana: 70\n",
      "0.019784449713479146\n",
      "Ventana: 90\n",
      "0.021087580596705065\n",
      "Ventana: 20\n",
      "0.020565666053166107\n",
      "Ventana: 40\n",
      "0.01973199213741264\n",
      "Ventana: 110\n",
      "0.019949519343395637\n",
      "Ventana: 260\n",
      "0.019474092797366838\n",
      "Ventana: 170\n",
      "0.021531222576135135\n",
      "Ventana: 30\n",
      "0.01988129320528043\n",
      "Ventana: 50\n",
      "0.020017535474110684\n"
     ]
    }
   ],
   "source": [
    "directory=str(currentFile)+'/filesSGD'\n",
    "files=os.listdir(directory)\n",
    "for file in files:\n",
    "    \n",
    "    model_cv=io.load(directory+'/'+file, trusted=True)\n",
    "    name_split=file.split('w')\n",
    "    w=name_split[1].split('f')[0]\n",
    "    f=name_split[1].split('f')[0].split('.skops')[0]\n",
    "\n",
    "    print(\"Ventana: \"+w)\n",
    "    X_test_minmax,min_max_scaler=scale(singleSerieValit)\n",
    "    x,y,x_test,y_test=spliting_timeseries(X_test_minmax,int(w),1) #llamo al método\n",
    "    y_predicted=model_cv.predict(x_test)    \n",
    "    print(mean_absolute_error(y_test, y_predicted))\n"
   ]
  },
  {
   "cell_type": "markdown",
   "metadata": {
    "id": "uNeBLeRG5jch"
   },
   "source": [
    "\n",
    "De nuevo tenemos que entrenar los modelos variando el tamaño de la h, pero esta vez con SGDREgressor."
   ]
  },
  {
   "cell_type": "code",
   "execution_count": null,
   "metadata": {
    "id": "DLRBv4tm6L1v"
   },
   "outputs": [],
   "source": [
    "\n",
    "p=10\n",
    "s=5\n",
    "tscv = TimeSeriesSplit(n_splits=s)\n",
    "regr =  SGDRegressor(max_iter=1000, tol=1e-3)\n",
    "\n",
    "# step-1: create a cross-validation scheme\n",
    "\n",
    "# step-2: specify range of hyperparameters to tune\n",
    "hyper_params = {'estimator__loss': ['squared_error', 'huber', 'epsilon_insensitive'], 'estimator__penalty': ['elasticnet', 'l1']}\n",
    "\n",
    "# definir el metaestimador de múltiples objetivos\n",
    "clf = MultiOutputRegressor(regr)\n",
    "\n",
    "# definir el modelo con búsqueda de cuadrícula\n",
    "model_cv = GridSearchCV(estimator=clf,\n",
    "                        param_grid=hyper_params,\n",
    "                        scoring='neg_mean_squared_error',\n",
    "                        cv=tscv,\n",
    "                        verbose=1,\n",
    "                        return_train_score=True)\n",
    "\n",
    "# fit the model\n",
    "files=[]\n",
    "wh=[[288,288],[288,144]]\n",
    "for pack in wh:\n",
    "  print(\"======Ahora mismo la ventana es : \"+str(pack[0])+\"=================\")\n",
    "\n",
    "  print(\"======Ahora mismo el salto es : \"+str(pack[1])+\"===================\")\n",
    "  X_train_minmax,min_max_scaler=scale(singleSerieTrT)\n",
    "  print(pack[0])\n",
    "  print(pack[1])\n",
    "  x,y,x_train,y_train=spliting_timeseries(X_train_minmax,pack[0],pack[1]) \n",
    "  print((y_train[:20]))\n",
    "  print((x_train[0]))\n",
    "  y_train=y_train[0:len(x_train)]\n",
    "  y_train_last=[]\n",
    "  for conj in y_train:\n",
    "    if len(conj)==pack[1]:\n",
    "      y_train_last.append(conj)\n",
    "  max=len(y_train_last)\n",
    "\n",
    "  print(len(y_train_last))\n",
    "  print(len(x_train[:max]))\n",
    "\n",
    "  model_cv.fit(x_train[:max],y_train_last)\n",
    "\n",
    "    \n",
    "  io.dump(model_cv, '/filesSGD/VentanagridSearchmodelSGDRegressorw'+str(pack[0])+'f'+str(pack[1])+'.skops')\n"
   ]
  },
  {
   "cell_type": "markdown",
   "metadata": {
    "id": "_xa6nCYwxbJe"
   },
   "source": [
    "#Mostrado de resultados (MAPE) "
   ]
  },
  {
   "cell_type": "markdown",
   "metadata": {
    "id": "CObBUWKBxe_u"
   },
   "source": [
    "## RandomForest"
   ]
  },
  {
   "cell_type": "markdown",
   "metadata": {
    "id": "WJCJTgomXcyc"
   },
   "source": [
    "Como vemos, para sta configuración se entrenaron más modelos, pero la idea es fijarse en los que coinciden en SGDReresor y RandomForest."
   ]
  },
  {
   "cell_type": "code",
   "execution_count": null,
   "metadata": {
    "colab": {
     "base_uri": "https://localhost:8080/"
    },
    "executionInfo": {
     "elapsed": 68416,
     "status": "ok",
     "timestamp": 1685951178965,
     "user": {
      "displayName": "Ana Conde",
      "userId": "00740142815161481389"
     },
     "user_tz": -120
    },
    "id": "9nVkz2532I47",
    "outputId": "d292d5bf-65a0-4387-94f6-cfa413847c6c"
   },
   "outputs": [
    {
     "name": "stdout",
     "output_type": "stream",
     "text": [
      "[24.59334916 24.59334916 24.59334916 ...  7.68563125  7.68563125\n",
      "  7.68563125]\n",
      "[29.50175  29.83688  28.92632  ...  7.521276  7.670213  6.858156]\n",
      "[24.59957571 24.59957571 24.59957571 ...  7.67987688  7.67987688\n",
      "  7.67987688]\n",
      "[33.03901  33.30851  33.09575  ...  7.521276  7.670213  6.858156]\n",
      "[24.5842624  24.5842624  24.5842624  ...  7.68303803  7.68303803\n",
      "  7.68303803]\n",
      "[38.14286  37.45296  36.22807  ...  7.521276  7.670213  6.858156]\n",
      "[24.59838691 24.59838691 24.59838691 ...  7.68013988  7.68013988\n",
      "  7.68013988]\n",
      "[31.93617  32.57092  30.32269  ...  7.521276  7.670213  6.858156]\n",
      "[11.2386787  10.53153713  9.80636612 ...  7.67715521  7.6808529\n",
      "  7.6808529 ]\n",
      "[10.64789   9.686832  9.482394 ...  7.521276  7.670213  6.858156]\n",
      "[24.59558311 24.59558311 24.59558311 ...  7.67591018  7.67591018\n",
      "  7.67591018]\n",
      "[33.68085  34.34043  33.92908  ...  7.521276  7.670213  6.858156]\n",
      "[22.34805772 23.02259054 23.02259054 ...  7.68468215  7.68468215\n",
      "  7.68468215]\n",
      "[22.86667  23.26316  22.72632  ...  7.521276  7.670213  6.858156]\n",
      "[6.19601766 6.19601766 6.19601766 ... 7.68432592 7.68432592 7.68432592]\n",
      "[6.180851 6.214789 5.609155 ... 7.521276 7.670213 6.858156]\n",
      "[2.32484208 2.1464866  2.04268724 ... 7.67181007 7.67181007 7.67181007]\n",
      "[2.091549 1.866197 1.869718 ... 7.521276 7.670213 6.858156]\n",
      "[19.32567212 18.46135196 16.76280678 ...  7.68021975  7.68021975\n",
      "  7.68021975]\n",
      "[18.75532  17.01064  16.08865  ...  7.521276  7.670213  6.858156]\n",
      "[1.78040136 2.14940708 2.14940708 ... 7.67839502 7.67839502 7.67839502]\n",
      "[1.957747 1.943662 1.876761 ... 7.521276 7.670213 6.858156]\n",
      "[24.59751499 24.59751499 24.59751499 ...  7.68618848  7.68618848\n",
      "  7.68618848]\n",
      "[32.87762  34.53846  35.28322  ...  7.521276  7.670213  6.858156]\n",
      "[1.52786436 1.52016845 1.52786436 ... 7.68678685 7.68678685 7.68678685]\n",
      "[1.387324 1.637324 1.707747 ... 7.521276 7.670213 6.858156]\n",
      "[24.59484008 24.59484008 24.59484008 ...  7.67540231  7.67540231\n",
      "  7.67540231]\n",
      "[37.25177  36.21631  35.10993  ...  7.521276  7.670213  6.858156]\n",
      "[2.74290637 3.34226246 3.34226246 ... 7.67448476 7.67448476 7.67448476]\n",
      "[3.172535 3.450704 3.566901 ... 7.521276 7.670213 6.858156]\n",
      "[24.5867316  24.5867316  24.5867316  ...  7.67970378  7.67970378\n",
      "  7.67970378]\n",
      "[26.12456  25.08185  23.48936  ...  7.521276  7.670213  6.858156]\n",
      "[3.34322601 3.1680015  2.74086978 ... 7.68283683 7.68283683 7.68283683]\n",
      "[3.057143 2.87324  2.767606 ... 7.521276 7.670213 6.858156]\n",
      "[14.4850874  12.90538768 13.744221   ...  7.68357827  7.68357827\n",
      "  7.68357827]\n",
      "[13.00709  13.49291  12.22776  ...  7.521276  7.670213  6.858156]\n",
      "[24.60670335 24.60670335 24.60670335 ...  7.6784979   7.6784979\n",
      "  7.6784979 ]\n",
      "[27.16197  26.81882  26.72917  ...  7.521276  7.670213  6.858156]\n",
      "[24.59772056 24.59772056 24.59772056 ...  7.68317934  7.68317934\n",
      "  7.68317934]\n",
      "[35.19858  35.70213  35.97163  ...  7.521276  7.670213  6.858156]\n"
     ]
    }
   ],
   "source": [
    "randomForest=[]\n",
    "\n",
    "\n",
    "directory='/content/gdrive/MyDrive/PatronesComportamiento/fotosRandomForest/files'\n",
    "files=os.listdir(directory)\n",
    "for file in files:\n",
    "   \n",
    "   try:\n",
    "      w=file.split('w')[1].split('f')[0]\n",
    "      f=file.split('f')[1].split('.skops')[0]\n",
    "      model_cv=io.load(directory+'/'+file, trusted=True)\n",
    "      criterion=model_cv.best_params_['criterion']\n",
    "      n_estimators=model_cv.best_params_['n_estimators']\n",
    "      X_test_minmax,min_max_scaler=scale(singleSerieValit)\n",
    "      x,y,x_test,y_test=spliting_timeseries(X_test_minmax,int(w),1) #llamo al método\n",
    "      y_predicted=model_cv.predict(x_test) \n",
    "      y_test_def=[]\n",
    "      print(min_max_scaler.inverse_transform(y_predicted.reshape(1,-1))[0])\n",
    "      print(min_max_scaler.inverse_transform(np.array(y_test).reshape(1,-1))[0])\n",
    "\n",
    "      MAE=mean_absolute_percentage_error(min_max_scaler.inverse_transform(np.array(y_test).reshape(1,-1)),min_max_scaler.inverse_transform( y_predicted.reshape(1,-1)))\n",
    "      randomForest.append(['randomForest',w,1,n_estimators,criterion,MAE])\n",
    "      #model_cv=io.load(directory+'/'+file, trusted=True)\n",
    "   except:\n",
    "\n",
    "      pass\n",
    "  \n",
    "randomForest=sorted(randomForest, key=lambda e: e[4])\n",
    "randomForest=sorted(randomForest, key=lambda e: e[5])\n",
    "dfRandom = pd.DataFrame(np.array(randomForest),\n",
    "                   columns=['algoritmo','ventana','h','n_estimators','criterion','MAPE'])"
   ]
  },
  {
   "cell_type": "code",
   "execution_count": null,
   "metadata": {
    "colab": {
     "base_uri": "https://localhost:8080/",
     "height": 676
    },
    "executionInfo": {
     "elapsed": 26,
     "status": "ok",
     "timestamp": 1685951178968,
     "user": {
      "displayName": "Ana Conde",
      "userId": "00740142815161481389"
     },
     "user_tz": -120
    },
    "id": "7xPUc2lhxC1i",
    "outputId": "11a8ed22-b099-44dd-8933-b6e00ef098e6"
   },
   "outputs": [
    {
     "data": {
      "text/html": [
       "\n",
       "  <div id=\"df-7afd4222-f62e-4cb6-8c04-c79b8021c6db\">\n",
       "    <div class=\"colab-df-container\">\n",
       "      <div>\n",
       "<style scoped>\n",
       "    .dataframe tbody tr th:only-of-type {\n",
       "        vertical-align: middle;\n",
       "    }\n",
       "\n",
       "    .dataframe tbody tr th {\n",
       "        vertical-align: top;\n",
       "    }\n",
       "\n",
       "    .dataframe thead th {\n",
       "        text-align: right;\n",
       "    }\n",
       "</style>\n",
       "<table border=\"1\" class=\"dataframe\">\n",
       "  <thead>\n",
       "    <tr style=\"text-align: right;\">\n",
       "      <th></th>\n",
       "      <th>algoritmo</th>\n",
       "      <th>ventana</th>\n",
       "      <th>h</th>\n",
       "      <th>n_estimators</th>\n",
       "      <th>criterion</th>\n",
       "      <th>MAPE</th>\n",
       "    </tr>\n",
       "  </thead>\n",
       "  <tbody>\n",
       "    <tr>\n",
       "      <th>0</th>\n",
       "      <td>randomForest</td>\n",
       "      <td>60</td>\n",
       "      <td>1</td>\n",
       "      <td>150</td>\n",
       "      <td>friedman_mse</td>\n",
       "      <td>0.1284917534704856</td>\n",
       "    </tr>\n",
       "    <tr>\n",
       "      <th>1</th>\n",
       "      <td>randomForest</td>\n",
       "      <td>40</td>\n",
       "      <td>1</td>\n",
       "      <td>150</td>\n",
       "      <td>squared_error</td>\n",
       "      <td>0.12864820207170075</td>\n",
       "    </tr>\n",
       "    <tr>\n",
       "      <th>2</th>\n",
       "      <td>randomForest</td>\n",
       "      <td>110</td>\n",
       "      <td>1</td>\n",
       "      <td>200</td>\n",
       "      <td>squared_error</td>\n",
       "      <td>0.1286739186247834</td>\n",
       "    </tr>\n",
       "    <tr>\n",
       "      <th>3</th>\n",
       "      <td>randomForest</td>\n",
       "      <td>20</td>\n",
       "      <td>1</td>\n",
       "      <td>150</td>\n",
       "      <td>squared_error</td>\n",
       "      <td>0.12872377861613074</td>\n",
       "    </tr>\n",
       "    <tr>\n",
       "      <th>4</th>\n",
       "      <td>randomForest</td>\n",
       "      <td>270</td>\n",
       "      <td>1</td>\n",
       "      <td>200</td>\n",
       "      <td>squared_error</td>\n",
       "      <td>0.1287634202128007</td>\n",
       "    </tr>\n",
       "    <tr>\n",
       "      <th>5</th>\n",
       "      <td>randomForest</td>\n",
       "      <td>30</td>\n",
       "      <td>1</td>\n",
       "      <td>200</td>\n",
       "      <td>squared_error</td>\n",
       "      <td>0.12877997114328102</td>\n",
       "    </tr>\n",
       "    <tr>\n",
       "      <th>6</th>\n",
       "      <td>randomForest</td>\n",
       "      <td>50</td>\n",
       "      <td>1</td>\n",
       "      <td>150</td>\n",
       "      <td>friedman_mse</td>\n",
       "      <td>0.12879645403118212</td>\n",
       "    </tr>\n",
       "    <tr>\n",
       "      <th>7</th>\n",
       "      <td>randomForest</td>\n",
       "      <td>10</td>\n",
       "      <td>1</td>\n",
       "      <td>150</td>\n",
       "      <td>friedman_mse</td>\n",
       "      <td>0.1289908394793261</td>\n",
       "    </tr>\n",
       "    <tr>\n",
       "      <th>8</th>\n",
       "      <td>randomForest</td>\n",
       "      <td>130</td>\n",
       "      <td>1</td>\n",
       "      <td>200</td>\n",
       "      <td>friedman_mse</td>\n",
       "      <td>0.12899806710393558</td>\n",
       "    </tr>\n",
       "    <tr>\n",
       "      <th>9</th>\n",
       "      <td>randomForest</td>\n",
       "      <td>90</td>\n",
       "      <td>1</td>\n",
       "      <td>200</td>\n",
       "      <td>friedman_mse</td>\n",
       "      <td>0.1291705051375308</td>\n",
       "    </tr>\n",
       "    <tr>\n",
       "      <th>10</th>\n",
       "      <td>randomForest</td>\n",
       "      <td>120</td>\n",
       "      <td>1</td>\n",
       "      <td>200</td>\n",
       "      <td>friedman_mse</td>\n",
       "      <td>0.12922886145254547</td>\n",
       "    </tr>\n",
       "    <tr>\n",
       "      <th>11</th>\n",
       "      <td>randomForest</td>\n",
       "      <td>70</td>\n",
       "      <td>1</td>\n",
       "      <td>200</td>\n",
       "      <td>squared_error</td>\n",
       "      <td>0.1295201731601914</td>\n",
       "    </tr>\n",
       "    <tr>\n",
       "      <th>12</th>\n",
       "      <td>randomForest</td>\n",
       "      <td>100</td>\n",
       "      <td>1</td>\n",
       "      <td>200</td>\n",
       "      <td>squared_error</td>\n",
       "      <td>0.13092553104122875</td>\n",
       "    </tr>\n",
       "    <tr>\n",
       "      <th>13</th>\n",
       "      <td>randomForest</td>\n",
       "      <td>180</td>\n",
       "      <td>1</td>\n",
       "      <td>150</td>\n",
       "      <td>friedman_mse</td>\n",
       "      <td>0.13171922074502318</td>\n",
       "    </tr>\n",
       "    <tr>\n",
       "      <th>14</th>\n",
       "      <td>randomForest</td>\n",
       "      <td>240</td>\n",
       "      <td>1</td>\n",
       "      <td>200</td>\n",
       "      <td>friedman_mse</td>\n",
       "      <td>0.13249345099459844</td>\n",
       "    </tr>\n",
       "    <tr>\n",
       "      <th>15</th>\n",
       "      <td>randomForest</td>\n",
       "      <td>150</td>\n",
       "      <td>1</td>\n",
       "      <td>200</td>\n",
       "      <td>squared_error</td>\n",
       "      <td>0.1328414109050024</td>\n",
       "    </tr>\n",
       "    <tr>\n",
       "      <th>16</th>\n",
       "      <td>randomForest</td>\n",
       "      <td>80</td>\n",
       "      <td>1</td>\n",
       "      <td>200</td>\n",
       "      <td>squared_error</td>\n",
       "      <td>0.1331482701771896</td>\n",
       "    </tr>\n",
       "    <tr>\n",
       "      <th>17</th>\n",
       "      <td>randomForest</td>\n",
       "      <td>140</td>\n",
       "      <td>1</td>\n",
       "      <td>200</td>\n",
       "      <td>friedman_mse</td>\n",
       "      <td>0.1333954422738821</td>\n",
       "    </tr>\n",
       "    <tr>\n",
       "      <th>18</th>\n",
       "      <td>randomForest</td>\n",
       "      <td>288</td>\n",
       "      <td>1</td>\n",
       "      <td>200</td>\n",
       "      <td>squared_error</td>\n",
       "      <td>0.1352846056715605</td>\n",
       "    </tr>\n",
       "    <tr>\n",
       "      <th>19</th>\n",
       "      <td>randomForest</td>\n",
       "      <td>210</td>\n",
       "      <td>1</td>\n",
       "      <td>200</td>\n",
       "      <td>friedman_mse</td>\n",
       "      <td>0.1359232492509678</td>\n",
       "    </tr>\n",
       "  </tbody>\n",
       "</table>\n",
       "</div>\n",
       "      <button class=\"colab-df-convert\" onclick=\"convertToInteractive('df-7afd4222-f62e-4cb6-8c04-c79b8021c6db')\"\n",
       "              title=\"Convert this dataframe to an interactive table.\"\n",
       "              style=\"display:none;\">\n",
       "        \n",
       "  <svg xmlns=\"http://www.w3.org/2000/svg\" height=\"24px\"viewBox=\"0 0 24 24\"\n",
       "       width=\"24px\">\n",
       "    <path d=\"M0 0h24v24H0V0z\" fill=\"none\"/>\n",
       "    <path d=\"M18.56 5.44l.94 2.06.94-2.06 2.06-.94-2.06-.94-.94-2.06-.94 2.06-2.06.94zm-11 1L8.5 8.5l.94-2.06 2.06-.94-2.06-.94L8.5 2.5l-.94 2.06-2.06.94zm10 10l.94 2.06.94-2.06 2.06-.94-2.06-.94-.94-2.06-.94 2.06-2.06.94z\"/><path d=\"M17.41 7.96l-1.37-1.37c-.4-.4-.92-.59-1.43-.59-.52 0-1.04.2-1.43.59L10.3 9.45l-7.72 7.72c-.78.78-.78 2.05 0 2.83L4 21.41c.39.39.9.59 1.41.59.51 0 1.02-.2 1.41-.59l7.78-7.78 2.81-2.81c.8-.78.8-2.07 0-2.86zM5.41 20L4 18.59l7.72-7.72 1.47 1.35L5.41 20z\"/>\n",
       "  </svg>\n",
       "      </button>\n",
       "      \n",
       "  <style>\n",
       "    .colab-df-container {\n",
       "      display:flex;\n",
       "      flex-wrap:wrap;\n",
       "      gap: 12px;\n",
       "    }\n",
       "\n",
       "    .colab-df-convert {\n",
       "      background-color: #E8F0FE;\n",
       "      border: none;\n",
       "      border-radius: 50%;\n",
       "      cursor: pointer;\n",
       "      display: none;\n",
       "      fill: #1967D2;\n",
       "      height: 32px;\n",
       "      padding: 0 0 0 0;\n",
       "      width: 32px;\n",
       "    }\n",
       "\n",
       "    .colab-df-convert:hover {\n",
       "      background-color: #E2EBFA;\n",
       "      box-shadow: 0px 1px 2px rgba(60, 64, 67, 0.3), 0px 1px 3px 1px rgba(60, 64, 67, 0.15);\n",
       "      fill: #174EA6;\n",
       "    }\n",
       "\n",
       "    [theme=dark] .colab-df-convert {\n",
       "      background-color: #3B4455;\n",
       "      fill: #D2E3FC;\n",
       "    }\n",
       "\n",
       "    [theme=dark] .colab-df-convert:hover {\n",
       "      background-color: #434B5C;\n",
       "      box-shadow: 0px 1px 3px 1px rgba(0, 0, 0, 0.15);\n",
       "      filter: drop-shadow(0px 1px 2px rgba(0, 0, 0, 0.3));\n",
       "      fill: #FFFFFF;\n",
       "    }\n",
       "  </style>\n",
       "\n",
       "      <script>\n",
       "        const buttonEl =\n",
       "          document.querySelector('#df-7afd4222-f62e-4cb6-8c04-c79b8021c6db button.colab-df-convert');\n",
       "        buttonEl.style.display =\n",
       "          google.colab.kernel.accessAllowed ? 'block' : 'none';\n",
       "\n",
       "        async function convertToInteractive(key) {\n",
       "          const element = document.querySelector('#df-7afd4222-f62e-4cb6-8c04-c79b8021c6db');\n",
       "          const dataTable =\n",
       "            await google.colab.kernel.invokeFunction('convertToInteractive',\n",
       "                                                     [key], {});\n",
       "          if (!dataTable) return;\n",
       "\n",
       "          const docLinkHtml = 'Like what you see? Visit the ' +\n",
       "            '<a target=\"_blank\" href=https://colab.research.google.com/notebooks/data_table.ipynb>data table notebook</a>'\n",
       "            + ' to learn more about interactive tables.';\n",
       "          element.innerHTML = '';\n",
       "          dataTable['output_type'] = 'display_data';\n",
       "          await google.colab.output.renderOutput(dataTable, element);\n",
       "          const docLink = document.createElement('div');\n",
       "          docLink.innerHTML = docLinkHtml;\n",
       "          element.appendChild(docLink);\n",
       "        }\n",
       "      </script>\n",
       "    </div>\n",
       "  </div>\n",
       "  "
      ],
      "text/plain": [
       "       algoritmo ventana  h n_estimators      criterion                 MAPE\n",
       "0   randomForest      60  1          150   friedman_mse   0.1284917534704856\n",
       "1   randomForest      40  1          150  squared_error  0.12864820207170075\n",
       "2   randomForest     110  1          200  squared_error   0.1286739186247834\n",
       "3   randomForest      20  1          150  squared_error  0.12872377861613074\n",
       "4   randomForest     270  1          200  squared_error   0.1287634202128007\n",
       "5   randomForest      30  1          200  squared_error  0.12877997114328102\n",
       "6   randomForest      50  1          150   friedman_mse  0.12879645403118212\n",
       "7   randomForest      10  1          150   friedman_mse   0.1289908394793261\n",
       "8   randomForest     130  1          200   friedman_mse  0.12899806710393558\n",
       "9   randomForest      90  1          200   friedman_mse   0.1291705051375308\n",
       "10  randomForest     120  1          200   friedman_mse  0.12922886145254547\n",
       "11  randomForest      70  1          200  squared_error   0.1295201731601914\n",
       "12  randomForest     100  1          200  squared_error  0.13092553104122875\n",
       "13  randomForest     180  1          150   friedman_mse  0.13171922074502318\n",
       "14  randomForest     240  1          200   friedman_mse  0.13249345099459844\n",
       "15  randomForest     150  1          200  squared_error   0.1328414109050024\n",
       "16  randomForest      80  1          200  squared_error   0.1331482701771896\n",
       "17  randomForest     140  1          200   friedman_mse   0.1333954422738821\n",
       "18  randomForest     288  1          200  squared_error   0.1352846056715605\n",
       "19  randomForest     210  1          200   friedman_mse   0.1359232492509678"
      ]
     },
     "execution_count": 29,
     "metadata": {},
     "output_type": "execute_result"
    }
   ],
   "source": [
    "dfRandom"
   ]
  },
  {
   "cell_type": "markdown",
   "metadata": {
    "id": "QC48i22-xihJ"
   },
   "source": [
    "## SGDREgressor"
   ]
  },
  {
   "cell_type": "code",
   "execution_count": null,
   "metadata": {
    "colab": {
     "base_uri": "https://localhost:8080/"
    },
    "executionInfo": {
     "elapsed": 17655,
     "status": "ok",
     "timestamp": 1685951098206,
     "user": {
      "displayName": "Ana Conde",
      "userId": "00740142815161481389"
     },
     "user_tz": -120
    },
    "id": "U30I3kHEyNdz",
    "outputId": "b563e46a-f118-4e0d-ca7e-fd6ae7b0cd42"
   },
   "outputs": [
    {
     "name": "stdout",
     "output_type": "stream",
     "text": [
      "[31.5769961  31.88068308 32.32233043 ...  8.20161325  7.94457618\n",
      "  7.75368188]\n",
      "[33.03901  33.30851  33.09575  ...  7.521276  7.670213  6.858156]\n",
      "[34.5148931  35.26702066 35.57319709 ...  7.70672924  7.44612433\n",
      "  7.28992993]\n",
      "[37.25177  36.21631  35.10993  ...  7.521276  7.670213  6.858156]\n",
      "[35.02315372 34.93013563 34.95338624 ...  7.87248058  7.69080559\n",
      "  7.58462468]\n",
      "[35.19858  35.70213  35.97163  ...  7.521276  7.670213  6.858156]\n",
      "[34.03272029 33.62233883 33.54308443 ...  7.77412593  7.61162394\n",
      "  7.55384493]\n",
      "[33.68085  34.34043  33.92908  ...  7.521276  7.670213  6.858156]\n",
      "[32.00363408 31.5709691  31.44821932 ...  7.63616665  7.45920813\n",
      "  7.38450787]\n",
      "[31.93617  32.57092  30.32269  ...  7.521276  7.670213  6.858156]\n",
      "[18.67395538 18.08161237 17.21805804 ...  7.64324071  7.51359416\n",
      "  7.42554914]\n",
      "[18.75532  17.01064  16.08865  ...  7.521276  7.670213  6.858156]\n",
      "[10.81235292 10.67360863 10.22978123 ...  7.5255626   7.38219713\n",
      "  7.28485389]\n",
      "[10.64789   9.686832  9.482394 ...  7.521276  7.670213  6.858156]\n",
      "[2.83123964 2.53412917 2.2849157  ... 7.76066243 7.66796905 7.61547934]\n",
      "[3.057143 2.87324  2.767606 ... 7.521276 7.670213 6.858156]\n",
      "[1.14875913 1.24011024 1.3290295  ... 7.66901703 7.60557257 7.55401512]\n",
      "[1.957747 1.943662 1.876761 ... 7.521276 7.670213 6.858156]\n",
      "[18.83085186 20.2121148  20.82079829 ...  7.40480091  7.33182432\n",
      "  7.27689565]\n",
      "[21.35842  20.01449  19.28261  ...  7.521276  7.670213  6.858156]\n",
      "[31.10067685 30.69758593 30.57207629 ...  7.64481141  7.65970674\n",
      "  7.69164352]\n",
      "[30.82807  31.33566  29.40845  ...  7.521276  7.670213  6.858156]\n",
      "[30.2017079  30.25518299 29.99077332 ...  7.66408555  7.68427592\n",
      "  7.70944998]\n",
      "[30.43206  29.41608  29.65385  ...  7.521276  7.670213  6.858156]\n",
      "[37.15352534 38.04801001 37.90895422 ...  7.62917821  7.64082866\n",
      "  7.66164285]\n",
      "[39.62021  36.63066  36.30986  ...  7.521276  7.670213  6.858156]\n",
      "[20.81909452 21.11092104 21.51418492 ...  7.57374999  7.5246304\n",
      "  7.50589073]\n",
      "[22.86667  23.26316  22.72632  ...  7.521276  7.670213  6.858156]\n"
     ]
    }
   ],
   "source": [
    "SGDregres=[]\n",
    "\n",
    "\n",
    "directory='/content/gdrive/MyDrive/PatronesComportamiento/filesSGD'\n",
    "files=os.listdir(directory)\n",
    "for file in files:\n",
    "    try:\n",
    "      w=file.split('w')[1].split('f')[0]\n",
    "      f=file.split('f')[1].split('.skops')[0]\n",
    "      model_cv=io.load(directory+'/'+file, trusted=True)\n",
    "      loss=model_cv.best_params_['loss']\n",
    "      penalty=model_cv.best_params_['penalty']\n",
    "      X_test_minmax,min_max_scaler=scale(singleSerieValit)\n",
    "      x,y,x_test,y_test=spliting_timeseries(X_test_minmax,int(w),1) #llamo al método\n",
    "      y_predicted=model_cv.predict(x_test) \n",
    "      y_test_def=[]\n",
    "      print(min_max_scaler.inverse_transform(y_predicted.reshape(1,-1))[0])\n",
    "      print(min_max_scaler.inverse_transform(np.array(y_test).reshape(1,-1))[0])\n",
    "\n",
    "      MAE=mean_absolute_percentage_error(min_max_scaler.inverse_transform(np.array(y_test).reshape(1,-1)),min_max_scaler.inverse_transform( y_predicted.reshape(1,-1)))\n",
    "      SGDregres.append(['SGDRegressor',w,1,loss,penalty,MAE])\n",
    "      #model_cv=io.load(directory+'/'+file, trusted=True)\n",
    "    except:\n",
    "      pass\n",
    "    \n",
    "SGDregres=sorted(SGDregres, key=lambda e: e[5])\n",
    "\n",
    "SGDregres=sorted(SGDregres, key=lambda e: e[5])\n",
    "df2SGD = pd.DataFrame(np.array(SGDregres),\n",
    "                   columns=['algoritmo','ventana','h','loss','penalty','MAPE'])"
   ]
  },
  {
   "cell_type": "code",
   "execution_count": null,
   "metadata": {
    "colab": {
     "base_uri": "https://localhost:8080/",
     "height": 488
    },
    "executionInfo": {
     "elapsed": 51,
     "status": "ok",
     "timestamp": 1685951098207,
     "user": {
      "displayName": "Ana Conde",
      "userId": "00740142815161481389"
     },
     "user_tz": -120
    },
    "id": "1dimmY51kCVo",
    "outputId": "c4ead949-9604-4176-f526-cd3d7dd5f640"
   },
   "outputs": [
    {
     "data": {
      "text/html": [
       "\n",
       "  <div id=\"df-1d259ae7-9086-4151-9516-48caba98c95f\">\n",
       "    <div class=\"colab-df-container\">\n",
       "      <div>\n",
       "<style scoped>\n",
       "    .dataframe tbody tr th:only-of-type {\n",
       "        vertical-align: middle;\n",
       "    }\n",
       "\n",
       "    .dataframe tbody tr th {\n",
       "        vertical-align: top;\n",
       "    }\n",
       "\n",
       "    .dataframe thead th {\n",
       "        text-align: right;\n",
       "    }\n",
       "</style>\n",
       "<table border=\"1\" class=\"dataframe\">\n",
       "  <thead>\n",
       "    <tr style=\"text-align: right;\">\n",
       "      <th></th>\n",
       "      <th>algoritmo</th>\n",
       "      <th>ventana</th>\n",
       "      <th>h</th>\n",
       "      <th>loss</th>\n",
       "      <th>penalty</th>\n",
       "      <th>MAPE</th>\n",
       "    </tr>\n",
       "  </thead>\n",
       "  <tbody>\n",
       "    <tr>\n",
       "      <th>0</th>\n",
       "      <td>SGDRegressor</td>\n",
       "      <td>70</td>\n",
       "      <td>1</td>\n",
       "      <td>squared_error</td>\n",
       "      <td>elasticnet</td>\n",
       "      <td>0.07946407156195372</td>\n",
       "    </tr>\n",
       "    <tr>\n",
       "      <th>1</th>\n",
       "      <td>SGDRegressor</td>\n",
       "      <td>288</td>\n",
       "      <td>1</td>\n",
       "      <td>squared_error</td>\n",
       "      <td>elasticnet</td>\n",
       "      <td>0.08241950738925341</td>\n",
       "    </tr>\n",
       "    <tr>\n",
       "      <th>2</th>\n",
       "      <td>SGDRegressor</td>\n",
       "      <td>10</td>\n",
       "      <td>1</td>\n",
       "      <td>squared_error</td>\n",
       "      <td>elasticnet</td>\n",
       "      <td>0.08314291930943526</td>\n",
       "    </tr>\n",
       "    <tr>\n",
       "      <th>3</th>\n",
       "      <td>SGDRegressor</td>\n",
       "      <td>50</td>\n",
       "      <td>1</td>\n",
       "      <td>squared_error</td>\n",
       "      <td>elasticnet</td>\n",
       "      <td>0.0833716752446708</td>\n",
       "    </tr>\n",
       "    <tr>\n",
       "      <th>4</th>\n",
       "      <td>SGDRegressor</td>\n",
       "      <td>20</td>\n",
       "      <td>1</td>\n",
       "      <td>squared_error</td>\n",
       "      <td>l1</td>\n",
       "      <td>0.08518281260796635</td>\n",
       "    </tr>\n",
       "    <tr>\n",
       "      <th>5</th>\n",
       "      <td>SGDRegressor</td>\n",
       "      <td>40</td>\n",
       "      <td>1</td>\n",
       "      <td>squared_error</td>\n",
       "      <td>elasticnet</td>\n",
       "      <td>0.08689900049474568</td>\n",
       "    </tr>\n",
       "    <tr>\n",
       "      <th>6</th>\n",
       "      <td>SGDRegressor</td>\n",
       "      <td>30</td>\n",
       "      <td>1</td>\n",
       "      <td>squared_error</td>\n",
       "      <td>elasticnet</td>\n",
       "      <td>0.08706175530906184</td>\n",
       "    </tr>\n",
       "    <tr>\n",
       "      <th>7</th>\n",
       "      <td>SGDRegressor</td>\n",
       "      <td>260</td>\n",
       "      <td>1</td>\n",
       "      <td>squared_error</td>\n",
       "      <td>elasticnet</td>\n",
       "      <td>0.08806442836706767</td>\n",
       "    </tr>\n",
       "    <tr>\n",
       "      <th>8</th>\n",
       "      <td>SGDRegressor</td>\n",
       "      <td>230</td>\n",
       "      <td>1</td>\n",
       "      <td>squared_error</td>\n",
       "      <td>elasticnet</td>\n",
       "      <td>0.08933477543705913</td>\n",
       "    </tr>\n",
       "    <tr>\n",
       "      <th>9</th>\n",
       "      <td>SGDRegressor</td>\n",
       "      <td>110</td>\n",
       "      <td>1</td>\n",
       "      <td>squared_error</td>\n",
       "      <td>elasticnet</td>\n",
       "      <td>0.09122310959950591</td>\n",
       "    </tr>\n",
       "    <tr>\n",
       "      <th>10</th>\n",
       "      <td>SGDRegressor</td>\n",
       "      <td>90</td>\n",
       "      <td>1</td>\n",
       "      <td>squared_error</td>\n",
       "      <td>elasticnet</td>\n",
       "      <td>0.09431557747120589</td>\n",
       "    </tr>\n",
       "    <tr>\n",
       "      <th>11</th>\n",
       "      <td>SGDRegressor</td>\n",
       "      <td>200</td>\n",
       "      <td>1</td>\n",
       "      <td>squared_error</td>\n",
       "      <td>elasticnet</td>\n",
       "      <td>0.09438042882304679</td>\n",
       "    </tr>\n",
       "    <tr>\n",
       "      <th>12</th>\n",
       "      <td>SGDRegressor</td>\n",
       "      <td>140</td>\n",
       "      <td>1</td>\n",
       "      <td>squared_error</td>\n",
       "      <td>elasticnet</td>\n",
       "      <td>0.09925032708739707</td>\n",
       "    </tr>\n",
       "    <tr>\n",
       "      <th>13</th>\n",
       "      <td>SGDRegressor</td>\n",
       "      <td>170</td>\n",
       "      <td>1</td>\n",
       "      <td>squared_error</td>\n",
       "      <td>elasticnet</td>\n",
       "      <td>0.11601485211779673</td>\n",
       "    </tr>\n",
       "  </tbody>\n",
       "</table>\n",
       "</div>\n",
       "      <button class=\"colab-df-convert\" onclick=\"convertToInteractive('df-1d259ae7-9086-4151-9516-48caba98c95f')\"\n",
       "              title=\"Convert this dataframe to an interactive table.\"\n",
       "              style=\"display:none;\">\n",
       "        \n",
       "  <svg xmlns=\"http://www.w3.org/2000/svg\" height=\"24px\"viewBox=\"0 0 24 24\"\n",
       "       width=\"24px\">\n",
       "    <path d=\"M0 0h24v24H0V0z\" fill=\"none\"/>\n",
       "    <path d=\"M18.56 5.44l.94 2.06.94-2.06 2.06-.94-2.06-.94-.94-2.06-.94 2.06-2.06.94zm-11 1L8.5 8.5l.94-2.06 2.06-.94-2.06-.94L8.5 2.5l-.94 2.06-2.06.94zm10 10l.94 2.06.94-2.06 2.06-.94-2.06-.94-.94-2.06-.94 2.06-2.06.94z\"/><path d=\"M17.41 7.96l-1.37-1.37c-.4-.4-.92-.59-1.43-.59-.52 0-1.04.2-1.43.59L10.3 9.45l-7.72 7.72c-.78.78-.78 2.05 0 2.83L4 21.41c.39.39.9.59 1.41.59.51 0 1.02-.2 1.41-.59l7.78-7.78 2.81-2.81c.8-.78.8-2.07 0-2.86zM5.41 20L4 18.59l7.72-7.72 1.47 1.35L5.41 20z\"/>\n",
       "  </svg>\n",
       "      </button>\n",
       "      \n",
       "  <style>\n",
       "    .colab-df-container {\n",
       "      display:flex;\n",
       "      flex-wrap:wrap;\n",
       "      gap: 12px;\n",
       "    }\n",
       "\n",
       "    .colab-df-convert {\n",
       "      background-color: #E8F0FE;\n",
       "      border: none;\n",
       "      border-radius: 50%;\n",
       "      cursor: pointer;\n",
       "      display: none;\n",
       "      fill: #1967D2;\n",
       "      height: 32px;\n",
       "      padding: 0 0 0 0;\n",
       "      width: 32px;\n",
       "    }\n",
       "\n",
       "    .colab-df-convert:hover {\n",
       "      background-color: #E2EBFA;\n",
       "      box-shadow: 0px 1px 2px rgba(60, 64, 67, 0.3), 0px 1px 3px 1px rgba(60, 64, 67, 0.15);\n",
       "      fill: #174EA6;\n",
       "    }\n",
       "\n",
       "    [theme=dark] .colab-df-convert {\n",
       "      background-color: #3B4455;\n",
       "      fill: #D2E3FC;\n",
       "    }\n",
       "\n",
       "    [theme=dark] .colab-df-convert:hover {\n",
       "      background-color: #434B5C;\n",
       "      box-shadow: 0px 1px 3px 1px rgba(0, 0, 0, 0.15);\n",
       "      filter: drop-shadow(0px 1px 2px rgba(0, 0, 0, 0.3));\n",
       "      fill: #FFFFFF;\n",
       "    }\n",
       "  </style>\n",
       "\n",
       "      <script>\n",
       "        const buttonEl =\n",
       "          document.querySelector('#df-1d259ae7-9086-4151-9516-48caba98c95f button.colab-df-convert');\n",
       "        buttonEl.style.display =\n",
       "          google.colab.kernel.accessAllowed ? 'block' : 'none';\n",
       "\n",
       "        async function convertToInteractive(key) {\n",
       "          const element = document.querySelector('#df-1d259ae7-9086-4151-9516-48caba98c95f');\n",
       "          const dataTable =\n",
       "            await google.colab.kernel.invokeFunction('convertToInteractive',\n",
       "                                                     [key], {});\n",
       "          if (!dataTable) return;\n",
       "\n",
       "          const docLinkHtml = 'Like what you see? Visit the ' +\n",
       "            '<a target=\"_blank\" href=https://colab.research.google.com/notebooks/data_table.ipynb>data table notebook</a>'\n",
       "            + ' to learn more about interactive tables.';\n",
       "          element.innerHTML = '';\n",
       "          dataTable['output_type'] = 'display_data';\n",
       "          await google.colab.output.renderOutput(dataTable, element);\n",
       "          const docLink = document.createElement('div');\n",
       "          docLink.innerHTML = docLinkHtml;\n",
       "          element.appendChild(docLink);\n",
       "        }\n",
       "      </script>\n",
       "    </div>\n",
       "  </div>\n",
       "  "
      ],
      "text/plain": [
       "       algoritmo ventana  h           loss     penalty                 MAPE\n",
       "0   SGDRegressor      70  1  squared_error  elasticnet  0.07946407156195372\n",
       "1   SGDRegressor     288  1  squared_error  elasticnet  0.08241950738925341\n",
       "2   SGDRegressor      10  1  squared_error  elasticnet  0.08314291930943526\n",
       "3   SGDRegressor      50  1  squared_error  elasticnet   0.0833716752446708\n",
       "4   SGDRegressor      20  1  squared_error          l1  0.08518281260796635\n",
       "5   SGDRegressor      40  1  squared_error  elasticnet  0.08689900049474568\n",
       "6   SGDRegressor      30  1  squared_error  elasticnet  0.08706175530906184\n",
       "7   SGDRegressor     260  1  squared_error  elasticnet  0.08806442836706767\n",
       "8   SGDRegressor     230  1  squared_error  elasticnet  0.08933477543705913\n",
       "9   SGDRegressor     110  1  squared_error  elasticnet  0.09122310959950591\n",
       "10  SGDRegressor      90  1  squared_error  elasticnet  0.09431557747120589\n",
       "11  SGDRegressor     200  1  squared_error  elasticnet  0.09438042882304679\n",
       "12  SGDRegressor     140  1  squared_error  elasticnet  0.09925032708739707\n",
       "13  SGDRegressor     170  1  squared_error  elasticnet  0.11601485211779673"
      ]
     },
     "execution_count": 27,
     "metadata": {},
     "output_type": "execute_result"
    }
   ],
   "source": [
    "\n",
    "df2SGD"
   ]
  },
  {
   "cell_type": "markdown",
   "metadata": {
    "id": "OfCsI6cqArXQ"
   },
   "source": [
    "# Visualización de Predicciones"
   ]
  },
  {
   "cell_type": "markdown",
   "metadata": {
    "id": "EYIYyTDTAxQ-"
   },
   "source": [
    "## RandomForestRegressor\n"
   ]
  },
  {
   "cell_type": "markdown",
   "metadata": {
    "id": "VT8PQSzgA1ph"
   },
   "source": [
    "En este momento lo que queremos es ver visualmente como de buenas son las predicciones obtenidas. Para ello vamos a tomar series del conjunto de predicción y más de una muestra. \n"
   ]
  },
  {
   "cell_type": "markdown",
   "metadata": {
    "id": "WTfJprdaa3Lr"
   },
   "source": [
    "### Ventana 144 Predicciones 144"
   ]
  },
  {
   "cell_type": "code",
   "execution_count": null,
   "metadata": {
    "colab": {
     "base_uri": "https://localhost:8080/",
     "height": 941
    },
    "executionInfo": {
     "elapsed": 8416,
     "status": "ok",
     "timestamp": 1684260272313,
     "user": {
      "displayName": "Ana Conde",
      "userId": "00740142815161481389"
     },
     "user_tz": -120
    },
    "id": "a5VudCxvAJxN",
    "outputId": "a320ba3f-25c8-4e10-8939-2f76ae3282d6"
   },
   "outputs": [
    {
     "name": "stdout",
     "output_type": "stream",
     "text": [
      "VentanagridSearchmodelRandomForestw144f144 (2).skops\n"
     ]
    },
    {
     "name": "stderr",
     "output_type": "stream",
     "text": [
      "/usr/local/lib/python3.10/dist-packages/sklearn/base.py:318: UserWarning: Trying to unpickle estimator DecisionTreeRegressor from version 1.1.3 when using version 1.2.2. This might lead to breaking code or invalid results. Use at your own risk. For more info please refer to:\n",
      "https://scikit-learn.org/stable/model_persistence.html#security-maintainability-limitations\n",
      "  warnings.warn(\n",
      "/usr/local/lib/python3.10/dist-packages/sklearn/base.py:318: UserWarning: Trying to unpickle estimator RandomForestRegressor from version 1.1.3 when using version 1.2.2. This might lead to breaking code or invalid results. Use at your own risk. For more info please refer to:\n",
      "https://scikit-learn.org/stable/model_persistence.html#security-maintainability-limitations\n",
      "  warnings.warn(\n",
      "/usr/local/lib/python3.10/dist-packages/sklearn/base.py:318: UserWarning: Trying to unpickle estimator GridSearchCV from version 1.1.3 when using version 1.2.2. This might lead to breaking code or invalid results. Use at your own risk. For more info please refer to:\n",
      "https://scikit-learn.org/stable/model_persistence.html#security-maintainability-limitations\n",
      "  warnings.warn(\n"
     ]
    },
    {
     "name": "stdout",
     "output_type": "stream",
     "text": [
      "144\n",
      "19459\n",
      "[0.06192833624856461, 0.06602393203667375, 0.06743621820235382, 0.07110814618965702, 0.06658886254641072, 0.0735090106115488, 0.08367739880885294, 0.08925589206277647, 0.09158614518453394, 0.09610542882778023, 0.10895716675617584, 0.11849003319793985, 0.1307768406165985, 0.12357422729659191, 0.1329658711380873, 0.14285181413485415, 0.1544535455455921, 0.17212710675762777, 0.20436993903884404, 0.22264539089300733, 0.2461085573034465, 0.27343579224835923, 0.32800603394716965, 0.3816052449295631, 0.4206414016854462, 0.46046168279101735, 0.44838315965614034, 0.42143154233449254, 0.40675417842017586, 0.44453774164967724, 0.49605410979425457, 0.5217031983048475, 0.5685693681321435, 0.5975328359591806, 0.6281303306919105, 0.6560327238554692, 0.6793930115468828, 0.7127000469672437, 0.7276357106673399, 0.6528176134784357, 0.6255679887952441, 0.6117972811942113, 0.6319595046901064, 0.644218717349042, 0.6478820420282629, 0.6547023195240546, 0.65448071916436, 0.6788391109193026, 0.7196641140176967, 0.7147477947254701, 0.7137486879453816, 0.6673399574126223, 0.6577104692031652, 0.6458505382783035, 0.6521554194624075, 0.6549900991766894, 0.6382906570480746, 0.6484700350188731, 0.6098211273983475, 0.5913565030380306, 0.6081510026965053, 0.5883772315958394, 0.5945686052653849, 0.5633444126828403, 0.5505696031689051, 0.5549075555494947, 0.564769473457491, 0.5578878297082455, 0.5560899589166971, 0.5617324455414608, 0.5989747423720343, 0.5892620286881218, 0.5893318177606771, 0.5998769867324556, 0.5992290312915751, 0.5815048128389432, 0.5898666667736231, 0.6007152577763677, 0.6088775711156665, 0.62855808957628, 0.6075900830530072, 0.6122837992689795, 0.6277146044062574, 0.6052312926179606, 0.6336179978798561, 0.6310151462341775, 0.6303489413519106, 0.6099741419453584, 0.6147424602733725, 0.6180379885184943, 0.6115522172670198, 0.6249683642925413, 0.6270646435322575, 0.6021224701962556, 0.6198547103813652, 0.6128884373544807, 0.6116921964987544, 0.6184130045118233, 0.6001523326997501, 0.5844606207136374, 0.615843844142551, 0.6297059994938287, 0.6200073238417521, 0.637406261042416, 0.6410399053114698, 0.6294948273863551, 0.6436253096890094, 0.6715056430882546, 0.6756982015676871, 0.6694629089128267, 0.6534078124454773, 0.6654648774459767, 0.6998538440342575, 0.7622057678663035, 0.8194029264082251, 0.8063248954066357, 0.8146111445127138, 0.7546577186914789, 0.748224289244421, 0.7608111896750677, 0.7393642857228804, 0.728849599334517, 0.7296852633153741, 0.7000910867722834, 0.7123131989185101, 0.7562153385953223, 0.784983878323153, 0.7711483952323634, 0.746584045496058, 0.6825459534972147, 0.6510321763722275, 0.6206360271246861, 0.5901702893479013, 0.5600384561854977, 0.5160647225463224, 0.48193726443681223, 0.4606866923870149, 0.44656182529709487, 0.4694825220487344, 0.46392346144173796, 0.4535796379551481, 0.47117129727858714, 0.449991115931281, 0.47110090657609593]\n",
      "[[0.33430042 0.33498688 0.33604925 ... 0.04042187 0.04203363 0.04381255]\n",
      " [0.33430042 0.33498688 0.33604925 ... 0.04042187 0.04203363 0.04381255]\n",
      " [0.33430042 0.33498688 0.33604925 ... 0.04042187 0.04203363 0.04381255]\n",
      " ...\n",
      " [0.07755208 0.07548757 0.0735096  ... 0.32364625 0.32480199 0.32595525]\n",
      " [0.05439506 0.05322857 0.05212621 ... 0.33142724 0.33254489 0.33366474]\n",
      " [0.07273843 0.07087882 0.06909147 ... 0.32582721 0.32700593 0.32817069]]\n",
      "[[31.06738  33.0922   32.5922   ...  1.943662  1.876761  2.045775]\n",
      " [33.0922   32.5922   33.4078   ...  1.876761  2.045775  2.088028]\n",
      " [32.5922   33.4078   30.87943  ...  2.045775  2.088028  2.292253]\n",
      " ...\n",
      " [32.0471   31.77899  32.03623  ...  8.890071  7.719858  7.489362]\n",
      " [31.77899  32.03623  32.13768  ...  7.719858  7.489362  7.521276]\n",
      " [32.03623  32.13768  31.58696  ...  7.489362  7.521276  7.670213]]\n"
     ]
    },
    {
     "data": {
      "image/png": "[encoded data removed]",
      "text/plain": [
       "<Figure size 640x480 with 1 Axes>"
      ]
     },
     "metadata": {},
     "output_type": "display_data"
    }
   ],
   "source": [
    "directory='/content/gdrive/MyDrive/PatronesComportamiento/fotosRandomForest/filesHwide/VentanagridSearchmodelRandomForestw144f144 (2).skops'\n",
    "#fig, axs = plt.subplots(len(files),1,figsize=(25,25))  #creamos k subplots\n",
    "\n",
    "\n",
    "file='VentanagridSearchmodelRandomForestw144f144 (2).skops'\n",
    "\n",
    "\n",
    "\n",
    "print(file)\n",
    "model_cv=io.load(directory, trusted=True)\n",
    "w=file.split('w')[1].split('f')[0]\n",
    "f=file.split('f')[1].split(' (2).skops')[0]\n",
    "\n",
    "X_test_minmax,min_max_scaler=scale(singleSerieValit)\n",
    "x,y,x_test,y_test=spliting_timeseries(X_test_minmax,int(w),int(f)) #llamo al método\n",
    "y_predicted=model_cv.predict(x_test)  \n",
    "print(len(x_test[0]))\n",
    "print(len(y_predicted))\n",
    "\n",
    "\n",
    "\n",
    "print(y_test[0])\n",
    "intent=np.zeros(144)\n",
    "\n",
    "forecast =y_predicted[144:288]\n",
    "\n",
    "print(forecast)\n",
    "forecast = np.concatenate((np.array(x_test[1234]), y_predicted[1378]))\n",
    "\n",
    "\n",
    "plt.plot(min_max_scaler.inverse_transform(forecast.reshape(-1, 1)),color='r')  #en rojo representamos la serie m en el cluster correspondiente\n",
    "\n",
    "plt.title(\"Clúster \" + file)\n",
    "full=np.concatenate((np.array(x_test[1234][0:144]),np.array(y_test[1378][0:144])))\n",
    "plt.plot(min_max_scaler.inverse_transform(full.reshape(-1, 1)),color='orange')  \n",
    "print(min_max_scaler.inverse_transform(x_test))\n",
    "      \n",
    "\n"
   ]
  },
  {
   "cell_type": "markdown",
   "metadata": {
    "id": "1ANRYD2yZDMo"
   },
   "source": [
    "Podemos calcular su error, como vemos es del 65 por ciento, para ser esta configuración supera a los resultados que posteriormente veremos con sgdREgressor."
   ]
  },
  {
   "cell_type": "code",
   "execution_count": null,
   "metadata": {
    "colab": {
     "base_uri": "https://localhost:8080/"
    },
    "executionInfo": {
     "elapsed": 723,
     "status": "ok",
     "timestamp": 1684261023445,
     "user": {
      "displayName": "Ana Conde",
      "userId": "00740142815161481389"
     },
     "user_tz": -120
    },
    "id": "paQywFnlBHnV",
    "outputId": "45d660ef-6e9a-4521-f697-b7ac1312771f"
   },
   "outputs": [
    {
     "name": "stdout",
     "output_type": "stream",
     "text": [
      "0.6558086850695798\n"
     ]
    }
   ],
   "source": [
    "y_test_def=[]\n",
    "randomErrors=[]\n",
    "for i in y_test:\n",
    "  if len(i)==144:\n",
    "    y_test_def.append(i)\n",
    "  else:\n",
    "    pass\n",
    "\n",
    "n_estimators=model_cv.best_params_['n_estimators']\n",
    "criterion=model_cv.best_params_['criterion']\n",
    "\n",
    "MAPE=mean_absolute_percentage_error(min_max_scaler.inverse_transform(np.array(y_test_def)),min_max_scaler.inverse_transform(y_predicted[:len(y_test_def)]))\n",
    "randomErrors.append(['RandomForestRegressor',w,f,n_estimators,criterion,MAPE])\n",
    "print(MAPE)\n",
    "\n"
   ]
  },
  {
   "cell_type": "code",
   "execution_count": null,
   "metadata": {
    "id": "h6uskwm3vHmh"
   },
   "outputs": [],
   "source": [
    "randomErrors=sorted(randomErrors, key=lambda e: e[5])\n",
    "\n",
    "df2RFR = pd.DataFrame(np.array(randomErrors),\n",
    "                   columns=['algoritmo','ventana','h','n_estimators','criterion','MAPE'])\n",
    "with open('/content/gdrive/MyDrive/PatronesComportamiento/fotosRandomForest/filesHwide/metricas/wideH.pkl', 'wb') as file:\n",
    "    pickle.dump(df2RFR,file)"
   ]
  },
  {
   "cell_type": "code",
   "execution_count": null,
   "metadata": {
    "id": "R9Bn4mfJwkyF"
   },
   "outputs": [],
   "source": [
    "try:\n",
    "  df2RFR\n",
    "except:\n",
    "  with open('/content/gdrive/MyDrive/PatronesComportamiento/fotosRandomForest/filesHwide/metricas/wideH.pkl', 'rb') as file:\n",
    "    df2RFR=pickle.load(file)\n",
    "    \n"
   ]
  },
  {
   "cell_type": "code",
   "execution_count": null,
   "metadata": {
    "colab": {
     "base_uri": "https://localhost:8080/",
     "height": 128
    },
    "executionInfo": {
     "elapsed": 16,
     "status": "ok",
     "timestamp": 1684261033611,
     "user": {
      "displayName": "Ana Conde",
      "userId": "00740142815161481389"
     },
     "user_tz": -120
    },
    "id": "bFig2dG3xrFl",
    "outputId": "6e70ea50-0d62-4e5f-edc9-453efddccd21"
   },
   "outputs": [
    {
     "data": {
      "text/html": [
       "\n",
       "  <div id=\"df-21de253b-9235-43fb-a165-9f752bdbbc2d\">\n",
       "    <div class=\"colab-df-container\">\n",
       "      <div>\n",
       "<style scoped>\n",
       "    .dataframe tbody tr th:only-of-type {\n",
       "        vertical-align: middle;\n",
       "    }\n",
       "\n",
       "    .dataframe tbody tr th {\n",
       "        vertical-align: top;\n",
       "    }\n",
       "\n",
       "    .dataframe thead th {\n",
       "        text-align: right;\n",
       "    }\n",
       "</style>\n",
       "<table border=\"1\" class=\"dataframe\">\n",
       "  <thead>\n",
       "    <tr style=\"text-align: right;\">\n",
       "      <th></th>\n",
       "      <th>algoritmo</th>\n",
       "      <th>ventana</th>\n",
       "      <th>h</th>\n",
       "      <th>n_estimators</th>\n",
       "      <th>criterion</th>\n",
       "      <th>MAPE</th>\n",
       "    </tr>\n",
       "  </thead>\n",
       "  <tbody>\n",
       "    <tr>\n",
       "      <th>0</th>\n",
       "      <td>RandomForestRegressor</td>\n",
       "      <td>144</td>\n",
       "      <td>144</td>\n",
       "      <td>200</td>\n",
       "      <td>squared_error</td>\n",
       "      <td>0.6558086850695798</td>\n",
       "    </tr>\n",
       "  </tbody>\n",
       "</table>\n",
       "</div>\n",
       "      <button class=\"colab-df-convert\" onclick=\"convertToInteractive('df-21de253b-9235-43fb-a165-9f752bdbbc2d')\"\n",
       "              title=\"Convert this dataframe to an interactive table.\"\n",
       "              style=\"display:none;\">\n",
       "        \n",
       "  <svg xmlns=\"http://www.w3.org/2000/svg\" height=\"24px\"viewBox=\"0 0 24 24\"\n",
       "       width=\"24px\">\n",
       "    <path d=\"M0 0h24v24H0V0z\" fill=\"none\"/>\n",
       "    <path d=\"M18.56 5.44l.94 2.06.94-2.06 2.06-.94-2.06-.94-.94-2.06-.94 2.06-2.06.94zm-11 1L8.5 8.5l.94-2.06 2.06-.94-2.06-.94L8.5 2.5l-.94 2.06-2.06.94zm10 10l.94 2.06.94-2.06 2.06-.94-2.06-.94-.94-2.06-.94 2.06-2.06.94z\"/><path d=\"M17.41 7.96l-1.37-1.37c-.4-.4-.92-.59-1.43-.59-.52 0-1.04.2-1.43.59L10.3 9.45l-7.72 7.72c-.78.78-.78 2.05 0 2.83L4 21.41c.39.39.9.59 1.41.59.51 0 1.02-.2 1.41-.59l7.78-7.78 2.81-2.81c.8-.78.8-2.07 0-2.86zM5.41 20L4 18.59l7.72-7.72 1.47 1.35L5.41 20z\"/>\n",
       "  </svg>\n",
       "      </button>\n",
       "      \n",
       "  <style>\n",
       "    .colab-df-container {\n",
       "      display:flex;\n",
       "      flex-wrap:wrap;\n",
       "      gap: 12px;\n",
       "    }\n",
       "\n",
       "    .colab-df-convert {\n",
       "      background-color: #E8F0FE;\n",
       "      border: none;\n",
       "      border-radius: 50%;\n",
       "      cursor: pointer;\n",
       "      display: none;\n",
       "      fill: #1967D2;\n",
       "      height: 32px;\n",
       "      padding: 0 0 0 0;\n",
       "      width: 32px;\n",
       "    }\n",
       "\n",
       "    .colab-df-convert:hover {\n",
       "      background-color: #E2EBFA;\n",
       "      box-shadow: 0px 1px 2px rgba(60, 64, 67, 0.3), 0px 1px 3px 1px rgba(60, 64, 67, 0.15);\n",
       "      fill: #174EA6;\n",
       "    }\n",
       "\n",
       "    [theme=dark] .colab-df-convert {\n",
       "      background-color: #3B4455;\n",
       "      fill: #D2E3FC;\n",
       "    }\n",
       "\n",
       "    [theme=dark] .colab-df-convert:hover {\n",
       "      background-color: #434B5C;\n",
       "      box-shadow: 0px 1px 3px 1px rgba(0, 0, 0, 0.15);\n",
       "      filter: drop-shadow(0px 1px 2px rgba(0, 0, 0, 0.3));\n",
       "      fill: #FFFFFF;\n",
       "    }\n",
       "  </style>\n",
       "\n",
       "      <script>\n",
       "        const buttonEl =\n",
       "          document.querySelector('#df-21de253b-9235-43fb-a165-9f752bdbbc2d button.colab-df-convert');\n",
       "        buttonEl.style.display =\n",
       "          google.colab.kernel.accessAllowed ? 'block' : 'none';\n",
       "\n",
       "        async function convertToInteractive(key) {\n",
       "          const element = document.querySelector('#df-21de253b-9235-43fb-a165-9f752bdbbc2d');\n",
       "          const dataTable =\n",
       "            await google.colab.kernel.invokeFunction('convertToInteractive',\n",
       "                                                     [key], {});\n",
       "          if (!dataTable) return;\n",
       "\n",
       "          const docLinkHtml = 'Like what you see? Visit the ' +\n",
       "            '<a target=\"_blank\" href=https://colab.research.google.com/notebooks/data_table.ipynb>data table notebook</a>'\n",
       "            + ' to learn more about interactive tables.';\n",
       "          element.innerHTML = '';\n",
       "          dataTable['output_type'] = 'display_data';\n",
       "          await google.colab.output.renderOutput(dataTable, element);\n",
       "          const docLink = document.createElement('div');\n",
       "          docLink.innerHTML = docLinkHtml;\n",
       "          element.appendChild(docLink);\n",
       "        }\n",
       "      </script>\n",
       "    </div>\n",
       "  </div>\n",
       "  "
      ],
      "text/plain": [
       "               algoritmo ventana    h n_estimators      criterion  \\\n",
       "0  RandomForestRegressor     144  144          200  squared_error   \n",
       "\n",
       "                 MAPE  \n",
       "0  0.6558086850695798  "
      ]
     },
     "execution_count": 30,
     "metadata": {},
     "output_type": "execute_result"
    }
   ],
   "source": [
    "df2RFR"
   ]
  },
  {
   "cell_type": "markdown",
   "metadata": {
    "id": "OQtFHQp1A0mj"
   },
   "source": [
    "## SGDRegressor"
   ]
  },
  {
   "cell_type": "markdown",
   "metadata": {
    "id": "mxgtKG0dbPut"
   },
   "source": [
    "### Ventana 144 Predicciones 144"
   ]
  },
  {
   "cell_type": "code",
   "execution_count": null,
   "metadata": {
    "colab": {
     "base_uri": "https://localhost:8080/",
     "height": 819
    },
    "executionInfo": {
     "elapsed": 41158,
     "status": "ok",
     "timestamp": 1685949006696,
     "user": {
      "displayName": "Ana Conde",
      "userId": "00740142815161481389"
     },
     "user_tz": -120
    },
    "id": "Pm2f68ImO5z1",
    "outputId": "0a84da32-c25f-4bfb-96d1-fc062f8c94b6"
   },
   "outputs": [
    {
     "name": "stdout",
     "output_type": "stream",
     "text": [
      "Copia de VentanagridSearchmodelSGDRegressorw144f144.skops\n",
      "144\n",
      "19459\n",
      "[0.06192833624856461, 0.06602393203667375, 0.06743621820235382, 0.07110814618965702, 0.06658886254641072, 0.0735090106115488, 0.08367739880885294, 0.08925589206277647, 0.09158614518453394, 0.09610542882778023, 0.10895716675617584, 0.11849003319793985, 0.1307768406165985, 0.12357422729659191, 0.1329658711380873, 0.14285181413485415, 0.1544535455455921, 0.17212710675762777, 0.20436993903884404, 0.22264539089300733, 0.2461085573034465, 0.27343579224835923, 0.32800603394716965, 0.3816052449295631, 0.4206414016854462, 0.46046168279101735, 0.44838315965614034, 0.42143154233449254, 0.40675417842017586, 0.44453774164967724, 0.49605410979425457, 0.5217031983048475, 0.5685693681321435, 0.5975328359591806, 0.6281303306919105, 0.6560327238554692, 0.6793930115468828, 0.7127000469672437, 0.7276357106673399, 0.6528176134784357, 0.6255679887952441, 0.6117972811942113, 0.6319595046901064, 0.644218717349042, 0.6478820420282629, 0.6547023195240546, 0.65448071916436, 0.6788391109193026, 0.7196641140176967, 0.7147477947254701, 0.7137486879453816, 0.6673399574126223, 0.6577104692031652, 0.6458505382783035, 0.6521554194624075, 0.6549900991766894, 0.6382906570480746, 0.6484700350188731, 0.6098211273983475, 0.5913565030380306, 0.6081510026965053, 0.5883772315958394, 0.5945686052653849, 0.5633444126828403, 0.5505696031689051, 0.5549075555494947, 0.564769473457491, 0.5578878297082455, 0.5560899589166971, 0.5617324455414608, 0.5989747423720343, 0.5892620286881218, 0.5893318177606771, 0.5998769867324556, 0.5992290312915751, 0.5815048128389432, 0.5898666667736231, 0.6007152577763677, 0.6088775711156665, 0.62855808957628, 0.6075900830530072, 0.6122837992689795, 0.6277146044062574, 0.6052312926179606, 0.6336179978798561, 0.6310151462341775, 0.6303489413519106, 0.6099741419453584, 0.6147424602733725, 0.6180379885184943, 0.6115522172670198, 0.6249683642925413, 0.6270646435322575, 0.6021224701962556, 0.6198547103813652, 0.6128884373544807, 0.6116921964987544, 0.6184130045118233, 0.6001523326997501, 0.5844606207136374, 0.615843844142551, 0.6297059994938287, 0.6200073238417521, 0.637406261042416, 0.6410399053114698, 0.6294948273863551, 0.6436253096890094, 0.6715056430882546, 0.6756982015676871, 0.6694629089128267, 0.6534078124454773, 0.6654648774459767, 0.6998538440342575, 0.7622057678663035, 0.8194029264082251, 0.8063248954066357, 0.8146111445127138, 0.7546577186914789, 0.748224289244421, 0.7608111896750677, 0.7393642857228804, 0.728849599334517, 0.7296852633153741, 0.7000910867722834, 0.7123131989185101, 0.7562153385953223, 0.784983878323153, 0.7711483952323634, 0.746584045496058, 0.6825459534972147, 0.6510321763722275, 0.6206360271246861, 0.5901702893479013, 0.5600384561854977, 0.5160647225463224, 0.48193726443681223, 0.4606866923870149, 0.44656182529709487, 0.4694825220487344, 0.46392346144173796, 0.4535796379551481, 0.47117129727858714, 0.449991115931281, 0.47110090657609593]\n",
      "[[0.41516529 0.40269174 0.38879038 ... 0.02731804 0.02710742 0.04558664]\n",
      " [0.42330448 0.41124004 0.39959059 ... 0.02968878 0.02994444 0.04742145]\n",
      " [0.43268719 0.42268633 0.41487606 ... 0.03201105 0.03125378 0.04719128]\n",
      " ...\n",
      " [0.06949705 0.06600484 0.06127558 ... 0.40013585 0.39917323 0.41319821]\n",
      " [0.06960505 0.0672065  0.06264751 ... 0.39989907 0.39914835 0.41357863]\n",
      " [0.07115492 0.06882005 0.06389193 ... 0.40348427 0.40313837 0.41809357]]\n",
      "[[31.06738  33.0922   32.5922   ...  1.943662  1.876761  2.045775]\n",
      " [33.0922   32.5922   33.4078   ...  1.876761  2.045775  2.088028]\n",
      " [32.5922   33.4078   30.87943  ...  2.045775  2.088028  2.292253]\n",
      " ...\n",
      " [32.0471   31.77899  32.03623  ...  8.890071  7.719858  7.489362]\n",
      " [31.77899  32.03623  32.13768  ...  7.719858  7.489362  7.521276]\n",
      " [32.03623  32.13768  31.58696  ...  7.489362  7.521276  7.670213]]\n",
      "{'estimator__loss': 'squared_error', 'estimator__penalty': 'elasticnet'}\n"
     ]
    },
    {
     "data": {
      "image/png": "[encoded data removed]",
      "text/plain": [
       "<Figure size 640x480 with 1 Axes>"
      ]
     },
     "metadata": {},
     "output_type": "display_data"
    }
   ],
   "source": [
    "directory='/content/gdrive/MyDrive/PatronesComportamiento/filesHwideSGD/Copia de VentanagridSearchmodelSGDRegressorw144f144.skops'\n",
    "#fig, axs = plt.subplots(len(files),1,figsize=(25,25))  #creamos k subplots\n",
    "SGDregres=[]\n",
    "\n",
    "file='Copia de VentanagridSearchmodelSGDRegressorw144f144.skops'\n",
    "\n",
    "\n",
    "\n",
    "print(file)\n",
    "model_cv=io.load(directory, trusted=True)\n",
    "w=file.split('w')[1].split('f')[0]\n",
    "f=file.split('f')[1].split('.skops')[0]\n",
    "\n",
    "X_test_minmax,min_max_scaler=scale(singleSerieValit)\n",
    "x,y,x_test,y_test=spliting_timeseries(X_test_minmax,int(w),int(f)) #llamo al método\n",
    "y_predicted=model_cv.predict(x_test)  \n",
    "print(len(x_test[0]))\n",
    "print(len(y_predicted))\n",
    "\n",
    "\n",
    "\n",
    "print(y_test[0])\n",
    "intent=np.zeros(144)\n",
    "\n",
    "forecast =y_predicted[144:288]\n",
    "\n",
    "print(forecast)\n",
    "forecast = np.concatenate((np.array(x_test[5000]), y_predicted[5288]))\n",
    "\n",
    "\n",
    "plt.plot(min_max_scaler.inverse_transform(forecast.reshape(-1, 1)),color='r')  #en rojo representamos la serie m en el cluster correspondiente\n",
    "\n",
    "plt.title(\"Clúster \" + file)\n",
    "full=np.concatenate((np.array(x_test[5000]),np.array(y_test[5288])))\n",
    "plt.plot(min_max_scaler.inverse_transform(full.reshape(-1, 1)),color='orange')  \n",
    "print(min_max_scaler.inverse_transform(x_test))\n",
    "\n",
    "print(model_cv.best_params_)\n",
    "\n",
    "loss=model_cv.best_params_['estimator__loss']\n",
    "penalty=model_cv.best_params_['estimator__penalty']\n",
    "y_test_def=[]\n",
    "for i in y_test:\n",
    "  if len(i)==144:\n",
    "    y_test_def.append(i)\n",
    "  else:\n",
    "    pass\n",
    "MAPE=mean_absolute_percentage_error(min_max_scaler.inverse_transform(np.array(y_test_def)),min_max_scaler.inverse_transform(y_predicted[:len(y_test_def)]))\n",
    "SGDregres.append(['SGDRegressor',w,f,loss,penalty,MAPE])\n",
    "\n"
   ]
  },
  {
   "cell_type": "markdown",
   "metadata": {
    "id": "hALGb8yeaed0"
   },
   "source": [
    "Con la misma configuración el error es mucho mayor con SGDREgressor."
   ]
  },
  {
   "cell_type": "code",
   "execution_count": null,
   "metadata": {
    "colab": {
     "base_uri": "https://localhost:8080/"
    },
    "executionInfo": {
     "elapsed": 541,
     "status": "ok",
     "timestamp": 1685949007190,
     "user": {
      "displayName": "Ana Conde",
      "userId": "00740142815161481389"
     },
     "user_tz": -120
    },
    "id": "V5nwMyVejDm5",
    "outputId": "69a97efc-b7ad-43f6-8a7a-cf9744d31c29"
   },
   "outputs": [
    {
     "name": "stdout",
     "output_type": "stream",
     "text": [
      "0.9214041319669334\n"
     ]
    }
   ],
   "source": [
    "y_test_def=[]\n",
    "for i in y_test:\n",
    "  if len(i)==144:\n",
    "    y_test_def.append(i)\n",
    "  else:\n",
    "    pass\n",
    "MAE=mean_absolute_percentage_error(min_max_scaler.inverse_transform(np.array(y_test_def)),min_max_scaler.inverse_transform(y_predicted[:len(y_test_def)]))\n",
    "print(MAE)\n"
   ]
  },
  {
   "cell_type": "markdown",
   "metadata": {
    "id": "hLUWrVIobTxi"
   },
   "source": [
    "### Ventana 288 Predicciones 144"
   ]
  },
  {
   "cell_type": "code",
   "execution_count": null,
   "metadata": {
    "colab": {
     "base_uri": "https://localhost:8080/",
     "height": 692
    },
    "executionInfo": {
     "elapsed": 64258,
     "status": "ok",
     "timestamp": 1685949071435,
     "user": {
      "displayName": "Ana Conde",
      "userId": "00740142815161481389"
     },
     "user_tz": -120
    },
    "id": "S1Ud0GA0O7gu",
    "outputId": "902cfe5c-61f5-49fe-cd2b-2acda604cf72"
   },
   "outputs": [
    {
     "name": "stdout",
     "output_type": "stream",
     "text": [
      "/content/gdrive/MyDrive/PatronesComportamiento/filesHwideSGD/VentanagridSearchmodelSGDRegressorw288f144 (1).skops\n"
     ]
    },
    {
     "name": "stderr",
     "output_type": "stream",
     "text": [
      "/usr/local/lib/python3.10/dist-packages/sklearn/base.py:318: UserWarning: Trying to unpickle estimator SGDRegressor from version 1.1.3 when using version 1.2.2. This might lead to breaking code or invalid results. Use at your own risk. For more info please refer to:\n",
      "https://scikit-learn.org/stable/model_persistence.html#security-maintainability-limitations\n",
      "  warnings.warn(\n",
      "/usr/local/lib/python3.10/dist-packages/sklearn/base.py:318: UserWarning: Trying to unpickle estimator MultiOutputRegressor from version 1.1.3 when using version 1.2.2. This might lead to breaking code or invalid results. Use at your own risk. For more info please refer to:\n",
      "https://scikit-learn.org/stable/model_persistence.html#security-maintainability-limitations\n",
      "  warnings.warn(\n",
      "/usr/local/lib/python3.10/dist-packages/sklearn/base.py:318: UserWarning: Trying to unpickle estimator GridSearchCV from version 1.1.3 when using version 1.2.2. This might lead to breaking code or invalid results. Use at your own risk. For more info please refer to:\n",
      "https://scikit-learn.org/stable/model_persistence.html#security-maintainability-limitations\n",
      "  warnings.warn(\n"
     ]
    },
    {
     "name": "stdout",
     "output_type": "stream",
     "text": [
      "19315\n",
      "144\n"
     ]
    },
    {
     "data": {
      "image/png": "[encoded data removed]",
      "text/plain": [
       "<Figure size 640x480 with 1 Axes>"
      ]
     },
     "metadata": {},
     "output_type": "display_data"
    }
   ],
   "source": [
    "directory='/content/gdrive/MyDrive/PatronesComportamiento/filesHwideSGD/VentanagridSearchmodelSGDRegressorw288f144 (1).skops'\n",
    "#fig, axs = plt.subplots(len(files),1,figsize=(25,25))  #creamos k subplots\n",
    "file='VentanagridSearchmodelSGDRegressorw288f144 (1).skops'\n",
    "\n",
    "\n",
    "\n",
    "\n",
    "i=0\n",
    "colors={0:'r',1:'b',2:'g'}\n",
    "\n",
    "print(directory)\n",
    "model_cv=io.load(directory, trusted=True)\n",
    "w=file.split('w')[1].split('f')[0]\n",
    "f=file.split('f')[1].split(' (1).skops')[0]\n",
    "\n",
    "X_test_minmax,min_max_scaler=scale(singleSerieValit)\n",
    "x,y,x_test,y_test=spliting_timeseries(X_test_minmax,int(w),int(f)) #llamo al método\n",
    "y_predicted=model_cv.predict(x_test)  \n",
    "\n",
    "\n",
    "\n",
    "intent=np.zeros(144)\n",
    "forecast =y_predicted[288:344]\n",
    "print(len(y_test))\n",
    "print(len(y_predicted[288]))\n",
    "forecast = np.concatenate((np.array(x_test[12000]), y_predicted[12288]))\n",
    "\n",
    "\n",
    "plt.plot(min_max_scaler.inverse_transform(forecast.reshape(-1, 1)),color=colors[2])  #en rojo representamos la serie m en el cluster correspondiente\n",
    "\n",
    "plt.title(\"Clúster \" + file)\n",
    "full=np.concatenate((np.array(x_test[12000]),np.array(y_test[12288])))\n",
    "plt.plot(min_max_scaler.inverse_transform(full.reshape(-1, 1)),color='orange')  \n",
    "\n",
    "loss=model_cv.best_params_['estimator__loss']\n",
    "penalty=model_cv.best_params_['estimator__penalty']\n",
    "y_test_def=[]\n",
    "for i in y_test:\n",
    "  if len(i)==144:\n",
    "    y_test_def.append(i)\n",
    "  else:\n",
    "    pass\n",
    "MAPE=mean_absolute_percentage_error(min_max_scaler.inverse_transform(np.array(y_test_def)),min_max_scaler.inverse_transform(y_predicted[:len(y_test_def)]))\n",
    "try:\n",
    "  SGDregres.append(['SGDRegressor',w,f,loss,penalty,MAPE])\n",
    "except:\n",
    "  SGDregres=[]\n",
    "  SGDregres.append(['SGDRegressor',w,f,loss,penalty,MAPE])\n",
    "\n",
    "\n"
   ]
  },
  {
   "cell_type": "markdown",
   "metadata": {
    "id": "6bM8wT6vam_f"
   },
   "source": [
    "Aquí vemos como mejora tanto en error como visualmente, el perfil de la serie es muy parecido, si hay algo que remarcar de este algoritmo es que reproduce mejor las oscilaciones de la propia serie."
   ]
  },
  {
   "cell_type": "code",
   "execution_count": null,
   "metadata": {
    "colab": {
     "base_uri": "https://localhost:8080/"
    },
    "executionInfo": {
     "elapsed": 27,
     "status": "ok",
     "timestamp": 1685949071437,
     "user": {
      "displayName": "Ana Conde",
      "userId": "00740142815161481389"
     },
     "user_tz": -120
    },
    "id": "UzPwHVaQsYFu",
    "outputId": "1b66772b-c47f-4435-b54d-12f4c9878979"
   },
   "outputs": [
    {
     "name": "stdout",
     "output_type": "stream",
     "text": [
      "0.786368441119604\n"
     ]
    }
   ],
   "source": [
    "y_test_def=[]\n",
    "for i in y_test:\n",
    "  if len(i)==144:\n",
    "    y_test_def.append(i)\n",
    "  else:\n",
    "    pass\n",
    "MAE=mean_absolute_percentage_error(min_max_scaler.inverse_transform(np.array(y_test_def)),min_max_scaler.inverse_transform(y_predicted[:len(y_test_def)]))\n",
    "print(MAE)"
   ]
  },
  {
   "cell_type": "markdown",
   "metadata": {
    "id": "NfYid9VpbZz8"
   },
   "source": [
    "### Ventana 288 Predicciones 288"
   ]
  },
  {
   "cell_type": "code",
   "execution_count": null,
   "metadata": {
    "colab": {
     "base_uri": "https://localhost:8080/",
     "height": 710
    },
    "executionInfo": {
     "elapsed": 127132,
     "status": "ok",
     "timestamp": 1685949198549,
     "user": {
      "displayName": "Ana Conde",
      "userId": "00740142815161481389"
     },
     "user_tz": -120
    },
    "id": "q9Y0Oh3YiM80",
    "outputId": "022b2172-7ac1-466d-d8da-7624f94536a2"
   },
   "outputs": [
    {
     "name": "stdout",
     "output_type": "stream",
     "text": [
      "['VentanagridSearchmodelSGDRegressorw144f144.skops', 'VentanagridSearchmodelSGDRegressorw288f144.skops', 'VentanagridSearchmodelSGDRegressorw288f288.skops', 'Copia de VentanagridSearchmodelSGDRegressorw144f144.skops', 'VentanagridSearchmodelSGDRegressorw288f288 (1).skops', 'VentanagridSearchmodelSGDRegressorw288f144 (1).skops', 'VentanagridSearchmodelSGDRegressorw288f72.skops', 'VentanagridSearchmodelSGDRegressorw288f36.skops']\n",
      "/content/gdrive/MyDrive/PatronesComportamiento/filesHwideSGD/VentanagridSearchmodelSGDRegressorw288f288 (1).skops\n"
     ]
    },
    {
     "name": "stderr",
     "output_type": "stream",
     "text": [
      "/usr/local/lib/python3.10/dist-packages/sklearn/base.py:318: UserWarning: Trying to unpickle estimator SGDRegressor from version 1.1.3 when using version 1.2.2. This might lead to breaking code or invalid results. Use at your own risk. For more info please refer to:\n",
      "https://scikit-learn.org/stable/model_persistence.html#security-maintainability-limitations\n",
      "  warnings.warn(\n",
      "/usr/local/lib/python3.10/dist-packages/sklearn/base.py:318: UserWarning: Trying to unpickle estimator MultiOutputRegressor from version 1.1.3 when using version 1.2.2. This might lead to breaking code or invalid results. Use at your own risk. For more info please refer to:\n",
      "https://scikit-learn.org/stable/model_persistence.html#security-maintainability-limitations\n",
      "  warnings.warn(\n",
      "/usr/local/lib/python3.10/dist-packages/sklearn/base.py:318: UserWarning: Trying to unpickle estimator GridSearchCV from version 1.1.3 when using version 1.2.2. This might lead to breaking code or invalid results. Use at your own risk. For more info please refer to:\n",
      "https://scikit-learn.org/stable/model_persistence.html#security-maintainability-limitations\n",
      "  warnings.warn(\n"
     ]
    },
    {
     "name": "stdout",
     "output_type": "stream",
     "text": [
      "19315\n",
      "288\n"
     ]
    },
    {
     "data": {
      "image/png": "[encoded data removed]",
      "text/plain": [
       "<Figure size 640x480 with 1 Axes>"
      ]
     },
     "metadata": {},
     "output_type": "display_data"
    }
   ],
   "source": [
    "directory='/content/gdrive/MyDrive/PatronesComportamiento/filesHwideSGD/VentanagridSearchmodelSGDRegressorw288f288 (1).skops'\n",
    "#fig, axs = plt.subplots(len(files),1,figsize=(25,25))  #creamos k subplots\n",
    "file='VentanagridSearchmodelSGDRegressorw288f288 (1).skops'\n",
    "\n",
    "print(os.listdir('/content/gdrive/MyDrive/PatronesComportamiento/filesHwideSGD'))\n",
    "\n",
    "\n",
    "\n",
    "i=0\n",
    "colors={0:'r',1:'b',2:'g'}\n",
    "\n",
    "print(directory)\n",
    "model_cv=io.load(directory, trusted=True)\n",
    "w=file.split('w')[1].split('f')[0]\n",
    "f=file.split('f')[1].split(' (1).skops')[0]\n",
    "\n",
    "X_test_minmax,min_max_scaler=scale(singleSerieValit)\n",
    "x,y,x_test,y_test=spliting_timeseries(X_test_minmax,int(w),int(f)) #llamo al método\n",
    "y_predicted=model_cv.predict(x_test)  \n",
    "\n",
    "\n",
    "\n",
    "intent=np.zeros(144)\n",
    "forecast =y_predicted[144:288]\n",
    "print(len(y_test))\n",
    "print(len(y_predicted[288]))\n",
    "forecast = np.concatenate((np.array(x_test[4288]), y_predicted[4576]))\n",
    "\n",
    "\n",
    "plt.plot(min_max_scaler.inverse_transform(forecast.reshape(-1, 1)),color=colors[1])  #en rojo representamos la serie m en el cluster correspondiente\n",
    "\n",
    "plt.title(\"Clúster \" + file)\n",
    "full=np.concatenate((np.array(x_test[4288][0:288]),np.array(y_test[4576][0:288])))\n",
    "\n",
    "plt.plot(min_max_scaler.inverse_transform(full.reshape(-1, 1)),color='orange')  \n",
    "\n",
    "loss=model_cv.best_params_['estimator__loss']\n",
    "penalty=model_cv.best_params_['estimator__penalty']\n",
    "y_test_def=[]\n",
    "for i in y_test:\n",
    "  if len(i)==288:\n",
    "    y_test_def.append(i)\n",
    "  else:\n",
    "    pass\n",
    "MAPE=mean_absolute_percentage_error(min_max_scaler.inverse_transform(np.array(y_test_def)),min_max_scaler.inverse_transform(y_predicted[:len(y_test_def)]))\n",
    "try:\n",
    "  SGDregres.append(['SGDRegressor',w,f,loss,penalty,MAPE])\n",
    "except:\n",
    "  SGDregres=[]\n",
    "  SGDregres.append(['SGDRegressor',w,f,loss,penalty,MAPE])\n",
    "    "
   ]
  },
  {
   "cell_type": "code",
   "execution_count": null,
   "metadata": {
    "colab": {
     "base_uri": "https://localhost:8080/"
    },
    "executionInfo": {
     "elapsed": 426,
     "status": "ok",
     "timestamp": 1685949198967,
     "user": {
      "displayName": "Ana Conde",
      "userId": "00740142815161481389"
     },
     "user_tz": -120
    },
    "id": "9RCE_JBdblNx",
    "outputId": "2d191ee2-f707-47b4-b062-658e274a65d5"
   },
   "outputs": [
    {
     "name": "stdout",
     "output_type": "stream",
     "text": [
      "0.8870719613208501\n"
     ]
    }
   ],
   "source": [
    "y_test_def=[]\n",
    "for i in y_test:\n",
    "  if len(i)==288:\n",
    "    y_test_def.append(i)\n",
    "  else:\n",
    "    pass\n",
    "MAE=mean_absolute_percentage_error(min_max_scaler.inverse_transform(np.array(y_test_def)),min_max_scaler.inverse_transform(y_predicted[:len(y_test_def)]))\n",
    "print(MAE)"
   ]
  },
  {
   "cell_type": "markdown",
   "metadata": {
    "id": "XnX72ZKJbnXV"
   },
   "source": [
    "### Ventana 288 Predicciones 72"
   ]
  },
  {
   "cell_type": "code",
   "execution_count": null,
   "metadata": {
    "colab": {
     "base_uri": "https://localhost:8080/",
     "height": 728
    },
    "executionInfo": {
     "elapsed": 33992,
     "status": "ok",
     "timestamp": 1685949232949,
     "user": {
      "displayName": "Ana Conde",
      "userId": "00740142815161481389"
     },
     "user_tz": -120
    },
    "id": "vIRMUtSbLidt",
    "outputId": "0461c052-c780-461f-bd8e-fd13dae80358"
   },
   "outputs": [
    {
     "name": "stdout",
     "output_type": "stream",
     "text": [
      "['VentanagridSearchmodelSGDRegressorw144f144.skops', 'VentanagridSearchmodelSGDRegressorw288f144.skops', 'VentanagridSearchmodelSGDRegressorw288f288.skops', 'Copia de VentanagridSearchmodelSGDRegressorw144f144.skops', 'VentanagridSearchmodelSGDRegressorw288f288 (1).skops', 'VentanagridSearchmodelSGDRegressorw288f144 (1).skops', 'VentanagridSearchmodelSGDRegressorw288f72.skops', 'VentanagridSearchmodelSGDRegressorw288f36.skops']\n",
      "/content/gdrive/MyDrive/PatronesComportamiento/filesHwideSGD/VentanagridSearchmodelSGDRegressorw288f72.skops\n"
     ]
    },
    {
     "name": "stderr",
     "output_type": "stream",
     "text": [
      "/usr/local/lib/python3.10/dist-packages/sklearn/base.py:318: UserWarning: Trying to unpickle estimator SGDRegressor from version 1.1.3 when using version 1.2.2. This might lead to breaking code or invalid results. Use at your own risk. For more info please refer to:\n",
      "https://scikit-learn.org/stable/model_persistence.html#security-maintainability-limitations\n",
      "  warnings.warn(\n",
      "/usr/local/lib/python3.10/dist-packages/sklearn/base.py:318: UserWarning: Trying to unpickle estimator MultiOutputRegressor from version 1.1.3 when using version 1.2.2. This might lead to breaking code or invalid results. Use at your own risk. For more info please refer to:\n",
      "https://scikit-learn.org/stable/model_persistence.html#security-maintainability-limitations\n",
      "  warnings.warn(\n",
      "/usr/local/lib/python3.10/dist-packages/sklearn/base.py:318: UserWarning: Trying to unpickle estimator GridSearchCV from version 1.1.3 when using version 1.2.2. This might lead to breaking code or invalid results. Use at your own risk. For more info please refer to:\n",
      "https://scikit-learn.org/stable/model_persistence.html#security-maintainability-limitations\n",
      "  warnings.warn(\n"
     ]
    },
    {
     "name": "stdout",
     "output_type": "stream",
     "text": [
      "[[22.86667  23.26316  22.72632  ...  7.521276  7.670213  6.858156]]\n",
      "[[20.85084675 20.48223542 20.4245908  ... -5.23600268 -5.14229464\n",
      "  -5.09201515]]\n"
     ]
    },
    {
     "data": {
      "image/png": "[encoded data removed]",
      "text/plain": [
       "<Figure size 640x480 with 1 Axes>"
      ]
     },
     "metadata": {},
     "output_type": "display_data"
    }
   ],
   "source": [
    "directory='/content/gdrive/MyDrive/PatronesComportamiento/filesHwideSGD/VentanagridSearchmodelSGDRegressorw288f72.skops'\n",
    "#fig, axs = plt.subplots(len(files),1,figsize=(25,25))  #creamos k subplots\n",
    "file='VentanagridSearchmodelSGDRegressorw288f72.skops'\n",
    "\n",
    "print(os.listdir('/content/gdrive/MyDrive/PatronesComportamiento/filesHwideSGD'))\n",
    "\n",
    "\n",
    "\n",
    "i=0\n",
    "colors={0:'r',1:'b',2:'purple'}\n",
    "\n",
    "print(directory)\n",
    "model_cv=io.load(directory, trusted=True)\n",
    "w=file.split('w')[1].split('f')[0]\n",
    "f=file.split('f')[1].split('.skops')[0]\n",
    "\n",
    "X_test_minmax,min_max_scaler=scale(singleSerieValit)\n",
    "x,y,x_test,y_test=spliting_timeseries(X_test_minmax,int(w),int(f)) #llamo al método\n",
    "y_predicted=model_cv.predict(x_test)  \n",
    "\n",
    "\n",
    "\n",
    "\n",
    "forecast = np.concatenate((np.array(x_test[4288]), y_predicted[4576]))\n",
    "\n",
    "\n",
    "plt.plot(min_max_scaler.inverse_transform(forecast.reshape(-1, 1)),color=colors[2])  #en rojo representamos la serie m en el cluster correspondiente\n",
    "\n",
    "plt.title(\"Clúster \" + file)\n",
    "full=np.concatenate((np.array(x_test[4288]),np.array(y_test[4576])))\n",
    "\n",
    "plt.plot(min_max_scaler.inverse_transform(full.reshape(-1, 1)),color='orange')  \n",
    "\n",
    "loss=model_cv.best_params_['estimator__loss']\n",
    "penalty=model_cv.best_params_['estimator__penalty']\n",
    "y_test_def=[]\n",
    "for i in y_test:\n",
    "  if len(i)==72:\n",
    "    y_test_def.append(i)\n",
    "  else:\n",
    "    pass\n",
    "print(min_max_scaler.inverse_transform(np.array(y_test_def).reshape(1,-1)))\n",
    "print(min_max_scaler.inverse_transform(np.array(y_predicted[:len(y_test_def)]).reshape(1,-1)))\n",
    "MAPE=mean_absolute_percentage_error(min_max_scaler.inverse_transform(np.array(y_test_def)),min_max_scaler.inverse_transform(y_predicted[:len(y_test_def)]))\n",
    "try:\n",
    "  SGDregres.append(['SGDRegressor',w,f,loss,penalty,MAPE])\n",
    "except:\n",
    "  SGDregres=[]\n",
    "  SGDregres.append(['SGDRegressor',w,f,loss,penalty,MAPE])\n",
    "    "
   ]
  },
  {
   "cell_type": "code",
   "execution_count": null,
   "metadata": {
    "colab": {
     "base_uri": "https://localhost:8080/"
    },
    "executionInfo": {
     "elapsed": 457,
     "status": "ok",
     "timestamp": 1685949233357,
     "user": {
      "displayName": "Ana Conde",
      "userId": "00740142815161481389"
     },
     "user_tz": -120
    },
    "id": "qGOmI-3SsguB",
    "outputId": "da27c9e0-8639-41db-bb84-af4085f61df9"
   },
   "outputs": [
    {
     "name": "stdout",
     "output_type": "stream",
     "text": [
      "0.5150930486925546\n"
     ]
    }
   ],
   "source": [
    "y_test_def=[]\n",
    "for i in y_test:\n",
    "  if len(i)==72:\n",
    "    y_test_def.append(i)\n",
    "  else:\n",
    "    pass\n",
    "MAE=mean_absolute_percentage_error(min_max_scaler.inverse_transform(np.array(y_test_def)),min_max_scaler.inverse_transform(y_predicted[:len(y_test_def)]))\n",
    "print(MAE)"
   ]
  },
  {
   "cell_type": "markdown",
   "metadata": {
    "id": "mMjYZC_sbsOu"
   },
   "source": [
    "### Ventana 288 Predicciones 36"
   ]
  },
  {
   "cell_type": "code",
   "execution_count": null,
   "metadata": {
    "colab": {
     "base_uri": "https://localhost:8080/",
     "height": 728
    },
    "executionInfo": {
     "elapsed": 19412,
     "status": "ok",
     "timestamp": 1685949252753,
     "user": {
      "displayName": "Ana Conde",
      "userId": "00740142815161481389"
     },
     "user_tz": -120
    },
    "id": "QImvyqTB9Kn8",
    "outputId": "7480da44-d4e9-449a-8526-3cafc99e9eb0"
   },
   "outputs": [
    {
     "name": "stdout",
     "output_type": "stream",
     "text": [
      "['VentanagridSearchmodelSGDRegressorw144f144.skops', 'VentanagridSearchmodelSGDRegressorw288f144.skops', 'VentanagridSearchmodelSGDRegressorw288f288.skops', 'Copia de VentanagridSearchmodelSGDRegressorw144f144.skops', 'VentanagridSearchmodelSGDRegressorw288f288 (1).skops', 'VentanagridSearchmodelSGDRegressorw288f144 (1).skops', 'VentanagridSearchmodelSGDRegressorw288f72.skops', 'VentanagridSearchmodelSGDRegressorw288f36.skops']\n",
      "/content/gdrive/MyDrive/PatronesComportamiento/filesHwideSGD/VentanagridSearchmodelSGDRegressorw288f36.skops\n"
     ]
    },
    {
     "name": "stderr",
     "output_type": "stream",
     "text": [
      "/usr/local/lib/python3.10/dist-packages/sklearn/base.py:318: UserWarning: Trying to unpickle estimator SGDRegressor from version 1.1.3 when using version 1.2.2. This might lead to breaking code or invalid results. Use at your own risk. For more info please refer to:\n",
      "https://scikit-learn.org/stable/model_persistence.html#security-maintainability-limitations\n",
      "  warnings.warn(\n",
      "/usr/local/lib/python3.10/dist-packages/sklearn/base.py:318: UserWarning: Trying to unpickle estimator MultiOutputRegressor from version 1.1.3 when using version 1.2.2. This might lead to breaking code or invalid results. Use at your own risk. For more info please refer to:\n",
      "https://scikit-learn.org/stable/model_persistence.html#security-maintainability-limitations\n",
      "  warnings.warn(\n",
      "/usr/local/lib/python3.10/dist-packages/sklearn/base.py:318: UserWarning: Trying to unpickle estimator GridSearchCV from version 1.1.3 when using version 1.2.2. This might lead to breaking code or invalid results. Use at your own risk. For more info please refer to:\n",
      "https://scikit-learn.org/stable/model_persistence.html#security-maintainability-limitations\n",
      "  warnings.warn(\n"
     ]
    },
    {
     "name": "stdout",
     "output_type": "stream",
     "text": [
      "[[22.86667  23.26316  22.72632  ...  7.521276  7.670213  6.858156]]\n",
      "[[20.75621829 20.54766486 20.37115905 ...  0.16532561  0.48970843\n",
      "   0.13380519]]\n"
     ]
    },
    {
     "data": {
      "image/png": "[encoded data removed]",
      "text/plain": [
       "<Figure size 640x480 with 1 Axes>"
      ]
     },
     "metadata": {},
     "output_type": "display_data"
    }
   ],
   "source": [
    "directory='/content/gdrive/MyDrive/PatronesComportamiento/filesHwideSGD/VentanagridSearchmodelSGDRegressorw288f36.skops'\n",
    "#fig, axs = plt.subplots(len(files),1,figsize=(25,25))  #creamos k subplots\n",
    "file='VentanagridSearchmodelSGDRegressorw288f36.skops'\n",
    "\n",
    "print(os.listdir('/content/gdrive/MyDrive/PatronesComportamiento/filesHwideSGD'))\n",
    "\n",
    "\n",
    "\n",
    "i=0\n",
    "colors={0:'r',1:'b',2:'cyan'}\n",
    "\n",
    "print(directory)\n",
    "model_cv=io.load(directory, trusted=True)\n",
    "w=file.split('w')[1].split('f')[0]\n",
    "f=file.split('f')[1].split('.skops')[0]\n",
    "\n",
    "X_test_minmax,min_max_scaler=scale(singleSerieValit)\n",
    "x,y,x_test,y_test=spliting_timeseries(X_test_minmax,int(w),int(f)) #llamo al método\n",
    "y_predicted=model_cv.predict(x_test)  \n",
    "\n",
    "\n",
    "\n",
    "\n",
    "forecast = np.concatenate((np.array(x_test[4288]), y_predicted[4576]))\n",
    "\n",
    "\n",
    "plt.plot(min_max_scaler.inverse_transform(forecast.reshape(-1, 1)),color=colors[2])  #en rojo representamos la serie m en el cluster correspondiente\n",
    "\n",
    "plt.title(\"Clúster \" + file)\n",
    "full=np.concatenate((np.array(x_test[4288]),np.array(y_test[4576])))\n",
    "\n",
    "plt.plot(min_max_scaler.inverse_transform(full.reshape(-1, 1)),color='orange')  \n",
    "\n",
    "loss=model_cv.best_params_['estimator__loss']\n",
    "penalty=model_cv.best_params_['estimator__penalty']\n",
    "y_test_def=[]\n",
    "for i in y_test:\n",
    "  if len(i)==36:\n",
    "    y_test_def.append(i)\n",
    "  else:\n",
    "    pass\n",
    "print(min_max_scaler.inverse_transform(np.array(y_test_def).reshape(1,-1)))\n",
    "print(min_max_scaler.inverse_transform(np.array(y_predicted[:len(y_test_def)]).reshape(1,-1)))\n",
    "MAPE=mean_absolute_percentage_error(min_max_scaler.inverse_transform(np.array(y_test_def)),min_max_scaler.inverse_transform(y_predicted[:len(y_test_def)]))\n",
    "try:\n",
    "  SGDregres.append(['SGDRegressor',w,f,loss,penalty,MAPE])\n",
    "except:\n",
    "  SGDregres=[]\n",
    "  SGDregres.append(['SGDRegressor',w,f,loss,penalty,MAPE])"
   ]
  },
  {
   "cell_type": "code",
   "execution_count": null,
   "metadata": {
    "colab": {
     "base_uri": "https://localhost:8080/"
    },
    "executionInfo": {
     "elapsed": 82,
     "status": "ok",
     "timestamp": 1685949252754,
     "user": {
      "displayName": "Ana Conde",
      "userId": "00740142815161481389"
     },
     "user_tz": -120
    },
    "id": "-xaO28h-bvxD",
    "outputId": "c59067c4-63a2-4f29-b582-9d65027807b2"
   },
   "outputs": [
    {
     "name": "stdout",
     "output_type": "stream",
     "text": [
      "0.3746122541548121\n"
     ]
    }
   ],
   "source": [
    "y_test_def=[]\n",
    "for i in y_test:\n",
    "  if len(i)==36:\n",
    "    y_test_def.append(i)\n",
    "  else:\n",
    "    pass\n",
    "MAE=mean_absolute_percentage_error(min_max_scaler.inverse_transform(np.array(y_test_def)),min_max_scaler.inverse_transform(y_predicted[:len(y_test_def)]))\n",
    "print(MAE)"
   ]
  },
  {
   "cell_type": "markdown",
   "metadata": {
    "id": "gGjr3l7xxsm7"
   },
   "source": [
    "## Errores ventanas de mayor tamaño"
   ]
  },
  {
   "cell_type": "markdown",
   "metadata": {
    "id": "SoR4Lge1eadO"
   },
   "source": [
    "Se han recogido todos los errores de la sdistintas configuraciones con SGDRegressor y se van a mostrar en esta tabla ordenados de menor a mayor."
   ]
  },
  {
   "cell_type": "code",
   "execution_count": null,
   "metadata": {
    "id": "0FjDy9eAsb0Q"
   },
   "outputs": [],
   "source": [
    "SGDregres=sorted(SGDregres, key=lambda e: e[5])\n",
    "\n",
    "df2SGD = pd.DataFrame(np.array(SGDregres),\n",
    "                   columns=['algoritmo','ventana','h','loss','penalty','MAPE'])\n",
    "with open('/content/gdrive/MyDrive/PatronesComportamiento/filesSGD/metricas/wideH.pkl', 'wb') as file:\n",
    "    pickle.dump(df2SGD,file)"
   ]
  },
  {
   "cell_type": "code",
   "execution_count": null,
   "metadata": {
    "id": "DvPVasTdicZb"
   },
   "outputs": [],
   "source": [
    "try:\n",
    "  df2SGD\n",
    "except:\n",
    "  with open('/content/gdrive/MyDrive/PatronesComportamiento/filesSGD/metricas/wideH.pkl', 'rb') as file:\n",
    "    df2SGD=pickle.load(file)\n",
    "    \n",
    "\n"
   ]
  },
  {
   "cell_type": "code",
   "execution_count": null,
   "metadata": {
    "colab": {
     "base_uri": "https://localhost:8080/",
     "height": 245
    },
    "executionInfo": {
     "elapsed": 67,
     "status": "ok",
     "timestamp": 1685949252756,
     "user": {
      "displayName": "Ana Conde",
      "userId": "00740142815161481389"
     },
     "user_tz": -120
    },
    "id": "gVfvsvNEwaDH",
    "outputId": "96de5cbf-56cb-4160-acab-e48b9c5caefa"
   },
   "outputs": [
    {
     "data": {
      "text/html": [
       "\n",
       "  <div id=\"df-742aaec3-7e00-4d0c-8cab-56bfa555a83b\">\n",
       "    <div class=\"colab-df-container\">\n",
       "      <div>\n",
       "<style scoped>\n",
       "    .dataframe tbody tr th:only-of-type {\n",
       "        vertical-align: middle;\n",
       "    }\n",
       "\n",
       "    .dataframe tbody tr th {\n",
       "        vertical-align: top;\n",
       "    }\n",
       "\n",
       "    .dataframe thead th {\n",
       "        text-align: right;\n",
       "    }\n",
       "</style>\n",
       "<table border=\"1\" class=\"dataframe\">\n",
       "  <thead>\n",
       "    <tr style=\"text-align: right;\">\n",
       "      <th></th>\n",
       "      <th>algoritmo</th>\n",
       "      <th>ventana</th>\n",
       "      <th>h</th>\n",
       "      <th>loss</th>\n",
       "      <th>penalty</th>\n",
       "      <th>MAPE</th>\n",
       "    </tr>\n",
       "  </thead>\n",
       "  <tbody>\n",
       "    <tr>\n",
       "      <th>0</th>\n",
       "      <td>SGDRegressor</td>\n",
       "      <td>288</td>\n",
       "      <td>36</td>\n",
       "      <td>squared_error</td>\n",
       "      <td>elasticnet</td>\n",
       "      <td>0.3746122541548121</td>\n",
       "    </tr>\n",
       "    <tr>\n",
       "      <th>1</th>\n",
       "      <td>SGDRegressor</td>\n",
       "      <td>288</td>\n",
       "      <td>72</td>\n",
       "      <td>squared_error</td>\n",
       "      <td>elasticnet</td>\n",
       "      <td>0.5150930486925546</td>\n",
       "    </tr>\n",
       "    <tr>\n",
       "      <th>2</th>\n",
       "      <td>SGDRegressor</td>\n",
       "      <td>288</td>\n",
       "      <td>144</td>\n",
       "      <td>squared_error</td>\n",
       "      <td>elasticnet</td>\n",
       "      <td>0.786368441119604</td>\n",
       "    </tr>\n",
       "    <tr>\n",
       "      <th>3</th>\n",
       "      <td>SGDRegressor</td>\n",
       "      <td>288</td>\n",
       "      <td>288</td>\n",
       "      <td>squared_error</td>\n",
       "      <td>elasticnet</td>\n",
       "      <td>0.8870719613208501</td>\n",
       "    </tr>\n",
       "    <tr>\n",
       "      <th>4</th>\n",
       "      <td>SGDRegressor</td>\n",
       "      <td>144</td>\n",
       "      <td>144</td>\n",
       "      <td>squared_error</td>\n",
       "      <td>elasticnet</td>\n",
       "      <td>0.9214041319669334</td>\n",
       "    </tr>\n",
       "  </tbody>\n",
       "</table>\n",
       "</div>\n",
       "      <button class=\"colab-df-convert\" onclick=\"convertToInteractive('df-742aaec3-7e00-4d0c-8cab-56bfa555a83b')\"\n",
       "              title=\"Convert this dataframe to an interactive table.\"\n",
       "              style=\"display:none;\">\n",
       "        \n",
       "  <svg xmlns=\"http://www.w3.org/2000/svg\" height=\"24px\"viewBox=\"0 0 24 24\"\n",
       "       width=\"24px\">\n",
       "    <path d=\"M0 0h24v24H0V0z\" fill=\"none\"/>\n",
       "    <path d=\"M18.56 5.44l.94 2.06.94-2.06 2.06-.94-2.06-.94-.94-2.06-.94 2.06-2.06.94zm-11 1L8.5 8.5l.94-2.06 2.06-.94-2.06-.94L8.5 2.5l-.94 2.06-2.06.94zm10 10l.94 2.06.94-2.06 2.06-.94-2.06-.94-.94-2.06-.94 2.06-2.06.94z\"/><path d=\"M17.41 7.96l-1.37-1.37c-.4-.4-.92-.59-1.43-.59-.52 0-1.04.2-1.43.59L10.3 9.45l-7.72 7.72c-.78.78-.78 2.05 0 2.83L4 21.41c.39.39.9.59 1.41.59.51 0 1.02-.2 1.41-.59l7.78-7.78 2.81-2.81c.8-.78.8-2.07 0-2.86zM5.41 20L4 18.59l7.72-7.72 1.47 1.35L5.41 20z\"/>\n",
       "  </svg>\n",
       "      </button>\n",
       "      \n",
       "  <style>\n",
       "    .colab-df-container {\n",
       "      display:flex;\n",
       "      flex-wrap:wrap;\n",
       "      gap: 12px;\n",
       "    }\n",
       "\n",
       "    .colab-df-convert {\n",
       "      background-color: #E8F0FE;\n",
       "      border: none;\n",
       "      border-radius: 50%;\n",
       "      cursor: pointer;\n",
       "      display: none;\n",
       "      fill: #1967D2;\n",
       "      height: 32px;\n",
       "      padding: 0 0 0 0;\n",
       "      width: 32px;\n",
       "    }\n",
       "\n",
       "    .colab-df-convert:hover {\n",
       "      background-color: #E2EBFA;\n",
       "      box-shadow: 0px 1px 2px rgba(60, 64, 67, 0.3), 0px 1px 3px 1px rgba(60, 64, 67, 0.15);\n",
       "      fill: #174EA6;\n",
       "    }\n",
       "\n",
       "    [theme=dark] .colab-df-convert {\n",
       "      background-color: #3B4455;\n",
       "      fill: #D2E3FC;\n",
       "    }\n",
       "\n",
       "    [theme=dark] .colab-df-convert:hover {\n",
       "      background-color: #434B5C;\n",
       "      box-shadow: 0px 1px 3px 1px rgba(0, 0, 0, 0.15);\n",
       "      filter: drop-shadow(0px 1px 2px rgba(0, 0, 0, 0.3));\n",
       "      fill: #FFFFFF;\n",
       "    }\n",
       "  </style>\n",
       "\n",
       "      <script>\n",
       "        const buttonEl =\n",
       "          document.querySelector('#df-742aaec3-7e00-4d0c-8cab-56bfa555a83b button.colab-df-convert');\n",
       "        buttonEl.style.display =\n",
       "          google.colab.kernel.accessAllowed ? 'block' : 'none';\n",
       "\n",
       "        async function convertToInteractive(key) {\n",
       "          const element = document.querySelector('#df-742aaec3-7e00-4d0c-8cab-56bfa555a83b');\n",
       "          const dataTable =\n",
       "            await google.colab.kernel.invokeFunction('convertToInteractive',\n",
       "                                                     [key], {});\n",
       "          if (!dataTable) return;\n",
       "\n",
       "          const docLinkHtml = 'Like what you see? Visit the ' +\n",
       "            '<a target=\"_blank\" href=https://colab.research.google.com/notebooks/data_table.ipynb>data table notebook</a>'\n",
       "            + ' to learn more about interactive tables.';\n",
       "          element.innerHTML = '';\n",
       "          dataTable['output_type'] = 'display_data';\n",
       "          await google.colab.output.renderOutput(dataTable, element);\n",
       "          const docLink = document.createElement('div');\n",
       "          docLink.innerHTML = docLinkHtml;\n",
       "          element.appendChild(docLink);\n",
       "        }\n",
       "      </script>\n",
       "    </div>\n",
       "  </div>\n",
       "  "
      ],
      "text/plain": [
       "      algoritmo ventana    h           loss     penalty                MAPE\n",
       "0  SGDRegressor     288   36  squared_error  elasticnet  0.3746122541548121\n",
       "1  SGDRegressor     288   72  squared_error  elasticnet  0.5150930486925546\n",
       "2  SGDRegressor     288  144  squared_error  elasticnet   0.786368441119604\n",
       "3  SGDRegressor     288  288  squared_error  elasticnet  0.8870719613208501\n",
       "4  SGDRegressor     144  144  squared_error  elasticnet  0.9214041319669334"
      ]
     },
     "execution_count": 25,
     "metadata": {},
     "output_type": "execute_result"
    }
   ],
   "source": [
    "df2SGD"
   ]
  },
  {
   "cell_type": "code",
   "execution_count": null,
   "metadata": {
    "id": "mCYINyYjgEQa"
   },
   "outputs": [],
   "source": []
  }
 ],
 "metadata": {
  "colab": {
   "provenance": []
  },
  "kernelspec": {
   "display_name": "Python 3 (ipykernel)",
   "language": "python",
   "name": "python3"
  },
  "language_info": {
   "codemirror_mode": {
    "name": "ipython",
    "version": 3
   },
   "file_extension": ".py",
   "mimetype": "text/x-python",
   "name": "python",
   "nbconvert_exporter": "python",
   "pygments_lexer": "ipython3",
   "version": "3.8.10"
  }
 },
 "nbformat": 4,
 "nbformat_minor": 1
}
